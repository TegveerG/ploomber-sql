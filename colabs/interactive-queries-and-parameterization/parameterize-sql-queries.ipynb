{
 "cells": [
  {
   "attachments": {},
   "cell_type": "markdown",
   "id": "11a685d3",
   "metadata": {},
   "source": [
    "# Parameterizing Queries \n",
    "\n",
    "In the last module, you learned how to use SQL within Jupyter notebooks with JupySQL, and you learned how you can combine it with usage of widgets to create interactive graphical user interfaces (GUIs) for your SQL queries. This module will take you a step further. Here, we will discuss how to parameterize your SQL queries and effectively utilize ipywidgets to create more interactive data workflows. Let's dive in!\n",
    "\n",
    "## Set up and data access\n",
    "\n",
    "\n",
    "```{important}\n",
    "<b>Note:</b> The --save and %sqlcmd features used require the latest JupySQL version. Ensure you run the code below.\n",
    "```\n",
    "\n",
    "This code installs JupySQL, and DuckDB in your environment. We will be using these moving forward."
   ]
  },
  {
   "cell_type": "code",
   "execution_count": null,
   "id": "7678cb8e",
   "metadata": {},
   "outputs": [],
   "source": [
    "%pip install jupysql --upgrade jupysql-plugin --upgrade duckdb-engine --quiet"
   ]
  },
  {
   "attachments": {},
   "cell_type": "markdown",
   "id": "b5084253",
   "metadata": {},
   "source": [
    "We continue to work with the Bank and Marketing data set. \n",
    "\n",
    "```{important}\n",
    "Source: UCI Machine Learning Repository\n",
    "\n",
    "URL: https://archive-beta.ics.uci.edu/dataset/222/bank+marketing\n",
    "\n",
    "Data Citation\n",
    "\n",
    "Moro,S., Rita,P., and Cortez,P.. (2012). Bank Marketing. UCI Machine Learning Repository. https://doi.org/10.24432/C5K306.\n",
    "```\n",
    "\n",
    "We can use the following function to extract the downloaded data from the UCI repository."
   ]
  },
  {
   "cell_type": "code",
   "execution_count": 1,
   "id": "7cfaa80a",
   "metadata": {},
   "outputs": [],
   "source": [
    "from urllib.request import urlretrieve\n",
    "from zipfile import ZipFile\n",
    "import pandas as pd\n",
    "import os\n",
    "\n",
    "\n",
    "def extract_to_csv(url, data_name):\n",
    "    # Retrieve the zip file from the url link\n",
    "    file = os.path.basename(url)\n",
    "    urlretrieve(url, file)\n",
    "\n",
    "    # Extract the zip file's contents\n",
    "    with ZipFile(file, \"r\") as zf:\n",
    "        zf.extractall()\n",
    "\n",
    "    # The file containing our data\n",
    "    csv_file_name = f\"{data_name}.csv\"\n",
    "\n",
    "    # Data clean up\n",
    "    df = pd.read_csv(csv_file_name, sep=\";\")\n",
    "\n",
    "    # Save the cleaned up CSV file\n",
    "    df.to_csv(df.to_csv(f\"{data_name}_cleaned.csv\", index=False))\n",
    "\n",
    "\n",
    "# Running the above function\n",
    "extract_to_csv(\"https://tinyurl.com/uci-marketing-data\", \"bank\")"
   ]
  },
  {
   "attachments": {},
   "cell_type": "markdown",
   "id": "2735491c",
   "metadata": {},
   "source": [
    "Initialize a DuckDB Instance"
   ]
  },
  {
   "cell_type": "code",
   "execution_count": 2,
   "id": "6f0c465a",
   "metadata": {},
   "outputs": [],
   "source": [
    "# Loading in SQL extension\n",
    "%reload_ext sql\n",
    "# Initiating a DuckDB database named 'bank.duck.db' to run our SQL queries on\n",
    "%sql duckdb:///bank.duck.db"
   ]
  },
  {
   "attachments": {},
   "cell_type": "markdown",
   "id": "2a66480e",
   "metadata": {},
   "source": [
    "Load the data"
   ]
  },
  {
   "cell_type": "code",
   "execution_count": 3,
   "id": "c6cadc89",
   "metadata": {},
   "outputs": [
    {
     "data": {
      "text/html": [
       "<span style=\"None\">Running query in &#x27;duckdb:///bank.duck.db&#x27;</span>"
      ],
      "text/plain": [
       "Running query in 'duckdb:///bank.duck.db'"
      ]
     },
     "metadata": {},
     "output_type": "display_data"
    },
    {
     "data": {
      "text/html": [
       "<table>\n",
       "    <thead>\n",
       "        <tr>\n",
       "            <th>Count</th>\n",
       "        </tr>\n",
       "    </thead>\n",
       "    <tbody>\n",
       "        <tr>\n",
       "            <td>4521</td>\n",
       "        </tr>\n",
       "    </tbody>\n",
       "</table>"
      ],
      "text/plain": [
       "+-------+\n",
       "| Count |\n",
       "+-------+\n",
       "|  4521 |\n",
       "+-------+"
      ]
     },
     "execution_count": 3,
     "metadata": {},
     "output_type": "execute_result"
    }
   ],
   "source": [
    "%%sql\n",
    "CREATE OR REPLACE TABLE bank AS\n",
    "FROM read_csv_auto('bank_cleaned.csv', header=True, sep=',')"
   ]
  },
  {
   "attachments": {},
   "cell_type": "markdown",
   "id": "ef55117a",
   "metadata": {},
   "source": [
    "We confirm the table was loaded"
   ]
  },
  {
   "cell_type": "code",
   "execution_count": 4,
   "id": "2da77983",
   "metadata": {},
   "outputs": [
    {
     "data": {
      "text/html": [
       "<table>\n",
       "    <thead>\n",
       "        <tr>\n",
       "            <th>Name</th>\n",
       "        </tr>\n",
       "    </thead>\n",
       "    <tbody>\n",
       "        <tr>\n",
       "            <td>bank</td>\n",
       "        </tr>\n",
       "    </tbody>\n",
       "</table>"
      ],
      "text/plain": [
       "+------+\n",
       "| Name |\n",
       "+------+\n",
       "| bank |\n",
       "+------+"
      ]
     },
     "execution_count": 4,
     "metadata": {},
     "output_type": "execute_result"
    }
   ],
   "source": [
    "%sqlcmd tables"
   ]
  },
  {
   "attachments": {},
   "cell_type": "markdown",
   "id": "d60a89d4",
   "metadata": {},
   "source": [
    "We can use [JupySQL's Table Explorer](https://jupysql.ploomber.io/en/latest/user-guide/table_explorer.html) to take a quick look at the table."
   ]
  },
  {
   "cell_type": "code",
   "execution_count": 5,
   "id": "db2d8c09",
   "metadata": {},
   "outputs": [
    {
     "data": {
      "text/html": [
       "\n",
       "    <style>.sort-button {\n",
       "    background: none;\n",
       "    border: none;\n",
       "}\n",
       "\n",
       ".sort-button.selected {\n",
       "    background: #efefef;\n",
       "    border: 1px solid #767676;\n",
       "}\n",
       "\n",
       ".pages-buttons button.selected {\n",
       "    background: #efefef;\n",
       "    border: 1px solid #767676;\n",
       "    border-radius: 2px;\n",
       "}\n",
       ".pages-buttons button {\n",
       "    background: none;\n",
       "    border: none;\n",
       "    padding: 0 10px;\n",
       "}\n",
       ".jupysql-table-widget {\n",
       "    display: inline;\n",
       "}</style>\n",
       "    \n",
       "            <div id=\"tableContainer_1687563487\" class=\"table-container\"></div>\n",
       "            \n",
       "    <script>function isJupyterNotebook() {\n",
       "    return window[\"Jupyter\"];\n",
       "}\n",
       "\n",
       "function getTable(element) {\n",
       "    let table;\n",
       "    if (element) {\n",
       "        const tableContainer = element.closest(\".table-container\");\n",
       "        table = tableContainer.querySelector(\"table\");\n",
       "    } else {\n",
       "        const _isJupyterNotebook = isJupyterNotebook();\n",
       "        if (_isJupyterNotebook) {\n",
       "            table = document.querySelector(\".selected .table-container table\");\n",
       "        } else {\n",
       "            table = document.querySelector(\".jp-Cell.jp-mod-active .table-container table\");\n",
       "        }\n",
       "    }\n",
       "\n",
       "    return table;\n",
       "}\n",
       "\n",
       "function getSortDetails() {\n",
       "    let sort = undefined;\n",
       "\n",
       "    const table = getTable();\n",
       "    if (table) {\n",
       "        const column = table.getAttribute(\"sort-by-column\");\n",
       "        const order = table.getAttribute(\"sort-by-order\");\n",
       "\n",
       "        if (column && order) {\n",
       "            sort = {\n",
       "                \"column\" : column,\n",
       "                \"order\" : order\n",
       "            }\n",
       "        }\n",
       "    }\n",
       "\n",
       "    return sort;\n",
       "}\n",
       "\n",
       "function sortColumnClick(element, column, order, callback) {\n",
       "    // fetch data with sort logic\n",
       "    const table = getTable(element);\n",
       "    table.setAttribute(\"sort-by-column\", column);\n",
       "    table.setAttribute(\"sort-by-order\", order);\n",
       "    const rowsPerPage = table.getAttribute(\"rows-per-page\");\n",
       "    const currrPage = table.getAttribute(\"curr-page-idx\");\n",
       "\n",
       "    const sort = {\n",
       "        'column' : column,\n",
       "        'order' : order\n",
       "    }\n",
       "\n",
       "    const fetchParameters = {\n",
       "        rowsPerPage : parseInt(rowsPerPage),\n",
       "        page : parseInt(currrPage),\n",
       "        sort : sort,\n",
       "        table : table.getAttribute(\"table-name\")\n",
       "    }\n",
       "\n",
       "    fetchTableData(fetchParameters, callback)\n",
       "}\n",
       "\n",
       "function fetchTableData(fetchParameters, callback) {\n",
       "    \n",
       "    sendObject = {\n",
       "        'nRows' : fetchParameters.rowsPerPage,\n",
       "        'page': fetchParameters.page,\n",
       "        'table' : fetchParameters.table\n",
       "    }\n",
       "\n",
       "    if (fetchParameters.sort) {\n",
       "        sendObject.sort = fetchParameters.sort\n",
       "    }\n",
       "\n",
       "    const _isJupyterNotebook = isJupyterNotebook();\n",
       "\n",
       "\n",
       "    if (_isJupyterNotebook) {\n",
       "        // for Jupyter Notebook\n",
       "        const comm =\n",
       "        Jupyter.notebook.kernel.comm_manager.new_comm('comm_target_handle_table_widget', {})\n",
       "        comm.send(sendObject)\n",
       "        comm.on_msg(function(msg) {\n",
       "            const rows = JSON.parse(msg.content.data['rows']);\n",
       "            if (callback) {\n",
       "                callback(rows)\n",
       "            }\n",
       "        });\n",
       "    } else{\n",
       "        // for JupyterLab\n",
       "        dispatchEventToKernel(sendObject)\n",
       "\n",
       "        const controller = new AbortController();\n",
       "    \n",
       "        document.addEventListener('onTableWidgetRowsReady', (customEvent) => {\n",
       "            const rows = JSON.parse(customEvent.detail.data.rows)\n",
       "            controller.abort()\n",
       "            if (callback) {\n",
       "                callback(rows)\n",
       "            }\n",
       "        }, {signal: controller.signal})\n",
       "    }\n",
       "\n",
       "\n",
       "}\n",
       "\n",
       "\n",
       "function dispatchEventToKernel(data) {\n",
       "    let customEvent = new CustomEvent('onUpdateTableWidget', {\n",
       "    bubbles: true,\n",
       "    cancelable: true,\n",
       "    composed: false,\n",
       "    detail : {\n",
       "        data : data\n",
       "    }\n",
       "    });\n",
       "    document.body.dispatchEvent(customEvent)\n",
       "}         \n",
       "\n",
       "function handleRowsNumberOfRowsChange(e) {\n",
       "    const rowsPerPage = parseInt(e.value);\n",
       "    let table = getTable();\n",
       "    table.setAttribute('rows-per-page', rowsPerPage);\n",
       "\n",
       "    const nTotal = table.getAttribute('n-total');\n",
       "\n",
       "    const maxPages = Math.ceil(nTotal / rowsPerPage)\n",
       "    table.setAttribute('max-pages', maxPages);\n",
       "\n",
       "    const fetchParameters = {\n",
       "        rowsPerPage : rowsPerPage,\n",
       "        page : 0,\n",
       "        sort : getSortDetails(),\n",
       "        table : table.getAttribute(\"table-name\")\n",
       "    }\n",
       "\n",
       "    setTimeout(() => {\n",
       "        fetchTableData(fetchParameters, (rows) => {\n",
       "            updateTable(rows);\n",
       "        })\n",
       "    }, 100);\n",
       "}\n",
       "\n",
       "function updateTable(rows, currPage, tableToUpdate) {\n",
       "    const table = tableToUpdate || getTable();\n",
       "    const trs = table.querySelectorAll(\"tbody tr\");\n",
       "    const tbody = table.querySelector(\"tbody\");\n",
       "    tbody.innerHTML = \"\";\n",
       "\n",
       "    const _html = createTableRows(rows)\n",
       "\n",
       "    tbody.innerHTML = _html\n",
       "\n",
       "    setTimeout(() => {\n",
       "        updatePaginationBar(table, currPage || 0)\n",
       "    }, 100)\n",
       "}\n",
       "\n",
       "function createTableRows(rows) {\n",
       "    const _html = rows.map(function(row) {\n",
       "        const tds =\n",
       "        Object.keys(row).map(function(key) {\n",
       "\n",
       "            return \"<td>\" + row[key] + \"</td>\"\n",
       "        }).join(\"\") ;\n",
       "        return \"<tr>\" + tds + \"</tr>\";\n",
       "    }).join(\"\");\n",
       "\n",
       "    return _html\n",
       "}\n",
       "\n",
       "function showTablePage(page, rowsPerPage, data) {\n",
       "    const table = getTable();\n",
       "    const trs = table.querySelectorAll(\"tbody tr\");\n",
       "    const tbody = table.querySelector(\"tbody\");\n",
       "    tbody.innerHTML = \"\";\n",
       "\n",
       "    const rows = data;\n",
       "    const startIndex = page * rowsPerPage;\n",
       "    const endIndex = startIndex + rowsPerPage;\n",
       "    const _html = rows.map(row => {\n",
       "        const tds =\n",
       "        Object.keys(row).map(key => `<td>${row[key]}</td>`).join(\"\");\n",
       "        return `<tr>${tds}</tr>`;\n",
       "    }).join(\"\");\n",
       "\n",
       "    tbody.innerHTML = _html;\n",
       "\n",
       "    table.setAttribute(\"curr-page-idx\", page);\n",
       "    updatePaginationBar(table, page);\n",
       "}\n",
       "\n",
       "function nextPageClick(element) {\n",
       "    const table = getTable(element);\n",
       "    const currPageIndex = parseInt(table.getAttribute(\"curr-page-idx\"));\n",
       "    const rowsPerPage = parseInt(table.getAttribute(\"rows-per-page\"));\n",
       "    const maxPages = parseInt(table.getAttribute(\"max-pages\"));\n",
       "\n",
       "    const nextPage = currPageIndex + 1;\n",
       "    if (nextPage < maxPages) {\n",
       "        const fetchParameters = {\n",
       "            rowsPerPage : rowsPerPage,\n",
       "            page : nextPage,\n",
       "            sort : getSortDetails(),\n",
       "            table : table.getAttribute(\"table-name\")\n",
       "        }\n",
       "\n",
       "        fetchTableData(fetchParameters, (rows) => {\n",
       "            showTablePage(nextPage, rowsPerPage, rows)\n",
       "        });\n",
       "    }\n",
       "\n",
       "}\n",
       "\n",
       "function prevPageClick() {\n",
       "    const table = getTable();\n",
       "    const currPageIndex = parseInt(table.getAttribute(\"curr-page-idx\"));\n",
       "    const rowsPerPage = parseInt(table.getAttribute(\"rows-per-page\"));\n",
       "    const prevPage = currPageIndex - 1;\n",
       "    if (prevPage >= 0) {\n",
       "        const fetchParameters = {\n",
       "            rowsPerPage : rowsPerPage,\n",
       "            page : prevPage,\n",
       "            sort : getSortDetails(),\n",
       "            table : table.getAttribute(\"table-name\")\n",
       "        }\n",
       "\n",
       "        fetchTableData(fetchParameters, (rows) => {\n",
       "            showTablePage(prevPage, rowsPerPage, rows)\n",
       "        });\n",
       "    }\n",
       "}\n",
       "\n",
       "function setPageButton(table, label, navigateTo, isSelected) {\n",
       "    const rowsPerPage = parseInt(table.getAttribute(\"rows-per-page\"));\n",
       "    const selected = isSelected ? \"selected\" : \"\";\n",
       "\n",
       "    const button = `\n",
       "    <button class=\"${selected}\"\n",
       "            onclick=\"\n",
       "            fetchTableData({\n",
       "                rowsPerPage : ${rowsPerPage},\n",
       "                page : ${navigateTo},\n",
       "                sort : getSortDetails(),\n",
       "                table : getTable(this).getAttribute('table-name')\n",
       "            },\n",
       "            (rows) => {\n",
       "                showTablePage(${navigateTo}, ${rowsPerPage}, rows);\n",
       "                })\"\n",
       "    >\n",
       "        ${label}\n",
       "    </button>\n",
       "    `\n",
       "    return button;\n",
       "}\n",
       "\n",
       "function updatePaginationBar(table, currPage) {\n",
       "    const maxPages = parseInt(table.getAttribute(\"max-pages\"));\n",
       "    const maxPagesInRow = 6;\n",
       "    const rowsPerPage = parseInt(table.getAttribute(\"rows-per-page\"));\n",
       "    table.setAttribute(\"curr-page-idx\", currPage);\n",
       "\n",
       "    let buttonsArray = []\n",
       "\n",
       "    let startEllipsisAdded = false\n",
       "    let endEllipsisAdded = false\n",
       "\n",
       "    // add first\n",
       "    let selected = currPage === 0;\n",
       "    buttonsArray.push(setPageButton(table, \"1\", 0, selected));\n",
       "\n",
       "    for (i = 1; i < maxPages - 1; i++) {\n",
       "        const navigateTo = i;\n",
       "        const label = i + 1;\n",
       "        selected = currPage === i;\n",
       "        const inStartRange = currPage < maxPagesInRow;\n",
       "        const inEndRange = maxPages - 1 - currPage < maxPagesInRow;\n",
       "\n",
       "        if (inStartRange) {\n",
       "            if (i < maxPagesInRow) {\n",
       "                buttonsArray\n",
       "                .push(setPageButton(table, label, navigateTo, selected));\n",
       "            } else {\n",
       "            if (!startEllipsisAdded) {\n",
       "                buttonsArray.push(\"...\");\n",
       "                startEllipsisAdded = true;\n",
       "            }\n",
       "            }\n",
       "        } else if (inEndRange) {\n",
       "            if (maxPages - 1 - i < maxPagesInRow) {\n",
       "                buttonsArray\n",
       "                .push(setPageButton(table, label, navigateTo, selected));\n",
       "            } else {\n",
       "            if (!endEllipsisAdded) {\n",
       "                buttonsArray.push(\"...\");\n",
       "                endEllipsisAdded = true;\n",
       "            }\n",
       "            }\n",
       "        }\n",
       "\n",
       "        if (!inStartRange && !inEndRange) {\n",
       "            if (currPage === i-2) {\n",
       "                buttonsArray.push(\"...\");\n",
       "            }\n",
       "            if (\n",
       "                currPage === i - 1 ||\n",
       "                currPage === i ||\n",
       "                currPage === i + 1\n",
       "            ) {\n",
       "                buttonsArray\n",
       "                .push(setPageButton(table, label, navigateTo, selected))\n",
       "            }\n",
       "\n",
       "            if (currPage === i+2) {\n",
       "                buttonsArray.push(\"...\");\n",
       "            }\n",
       "\n",
       "        }\n",
       "    }\n",
       "\n",
       "    selected = currPage === maxPages - 1 ? \"selected\" : \"\";\n",
       "\n",
       "    buttonsArray.\n",
       "    push(setPageButton(table, maxPages, maxPages - 1, selected))\n",
       "\n",
       "    const buttonsHtml = buttonsArray.join(\"\");\n",
       "    table.parentNode\n",
       "    .querySelector(\".pages-buttons\").innerHTML = buttonsHtml;\n",
       "}\n",
       "\n",
       "function removeSelectionFromAllSortButtons() {\n",
       "    document.querySelectorAll(\".sort-button\")\n",
       "    .forEach(el => el.classList.remove(\"selected\"))\n",
       "}\n",
       "\n",
       "function initTable() {\n",
       "    // template variables we should pass\n",
       "    const initialRows = [\n",
       "    {\n",
       "        \"age\": 30,\n",
       "        \"balance\": 1787,\n",
       "        \"campaign\": 1,\n",
       "        \"contact\": \"cellular\",\n",
       "        \"day\": 19,\n",
       "        \"default\": \"no\",\n",
       "        \"duration\": 79,\n",
       "        \"education\": \"primary\",\n",
       "        \"housing\": \"no\",\n",
       "        \"job\": \"unemployed\",\n",
       "        \"loan\": \"no\",\n",
       "        \"marital\": \"married\",\n",
       "        \"month\": \"oct\",\n",
       "        \"pdays\": -1,\n",
       "        \"poutcome\": \"unknown\",\n",
       "        \"previous\": 0,\n",
       "        \"y\": \"no\"\n",
       "    },\n",
       "    {\n",
       "        \"age\": 33,\n",
       "        \"balance\": 4789,\n",
       "        \"campaign\": 1,\n",
       "        \"contact\": \"cellular\",\n",
       "        \"day\": 11,\n",
       "        \"default\": \"no\",\n",
       "        \"duration\": 220,\n",
       "        \"education\": \"secondary\",\n",
       "        \"housing\": \"yes\",\n",
       "        \"job\": \"services\",\n",
       "        \"loan\": \"yes\",\n",
       "        \"marital\": \"married\",\n",
       "        \"month\": \"may\",\n",
       "        \"pdays\": 339,\n",
       "        \"poutcome\": \"failure\",\n",
       "        \"previous\": 4,\n",
       "        \"y\": \"no\"\n",
       "    },\n",
       "    {\n",
       "        \"age\": 35,\n",
       "        \"balance\": 1350,\n",
       "        \"campaign\": 1,\n",
       "        \"contact\": \"cellular\",\n",
       "        \"day\": 16,\n",
       "        \"default\": \"no\",\n",
       "        \"duration\": 185,\n",
       "        \"education\": \"tertiary\",\n",
       "        \"housing\": \"yes\",\n",
       "        \"job\": \"management\",\n",
       "        \"loan\": \"no\",\n",
       "        \"marital\": \"single\",\n",
       "        \"month\": \"apr\",\n",
       "        \"pdays\": 330,\n",
       "        \"poutcome\": \"failure\",\n",
       "        \"previous\": 1,\n",
       "        \"y\": \"no\"\n",
       "    },\n",
       "    {\n",
       "        \"age\": 30,\n",
       "        \"balance\": 1476,\n",
       "        \"campaign\": 4,\n",
       "        \"contact\": \"unknown\",\n",
       "        \"day\": 3,\n",
       "        \"default\": \"no\",\n",
       "        \"duration\": 199,\n",
       "        \"education\": \"tertiary\",\n",
       "        \"housing\": \"yes\",\n",
       "        \"job\": \"management\",\n",
       "        \"loan\": \"yes\",\n",
       "        \"marital\": \"married\",\n",
       "        \"month\": \"jun\",\n",
       "        \"pdays\": -1,\n",
       "        \"poutcome\": \"unknown\",\n",
       "        \"previous\": 0,\n",
       "        \"y\": \"no\"\n",
       "    },\n",
       "    {\n",
       "        \"age\": 59,\n",
       "        \"balance\": 0,\n",
       "        \"campaign\": 1,\n",
       "        \"contact\": \"unknown\",\n",
       "        \"day\": 5,\n",
       "        \"default\": \"no\",\n",
       "        \"duration\": 226,\n",
       "        \"education\": \"secondary\",\n",
       "        \"housing\": \"yes\",\n",
       "        \"job\": \"blue-collar\",\n",
       "        \"loan\": \"no\",\n",
       "        \"marital\": \"married\",\n",
       "        \"month\": \"may\",\n",
       "        \"pdays\": -1,\n",
       "        \"poutcome\": \"unknown\",\n",
       "        \"previous\": 0,\n",
       "        \"y\": \"no\"\n",
       "    },\n",
       "    {\n",
       "        \"age\": 35,\n",
       "        \"balance\": 747,\n",
       "        \"campaign\": 2,\n",
       "        \"contact\": \"cellular\",\n",
       "        \"day\": 23,\n",
       "        \"default\": \"no\",\n",
       "        \"duration\": 141,\n",
       "        \"education\": \"tertiary\",\n",
       "        \"housing\": \"no\",\n",
       "        \"job\": \"management\",\n",
       "        \"loan\": \"no\",\n",
       "        \"marital\": \"single\",\n",
       "        \"month\": \"feb\",\n",
       "        \"pdays\": 176,\n",
       "        \"poutcome\": \"failure\",\n",
       "        \"previous\": 3,\n",
       "        \"y\": \"no\"\n",
       "    },\n",
       "    {\n",
       "        \"age\": 36,\n",
       "        \"balance\": 307,\n",
       "        \"campaign\": 1,\n",
       "        \"contact\": \"cellular\",\n",
       "        \"day\": 14,\n",
       "        \"default\": \"no\",\n",
       "        \"duration\": 341,\n",
       "        \"education\": \"tertiary\",\n",
       "        \"housing\": \"yes\",\n",
       "        \"job\": \"self-employed\",\n",
       "        \"loan\": \"no\",\n",
       "        \"marital\": \"married\",\n",
       "        \"month\": \"may\",\n",
       "        \"pdays\": 330,\n",
       "        \"poutcome\": \"other\",\n",
       "        \"previous\": 2,\n",
       "        \"y\": \"no\"\n",
       "    },\n",
       "    {\n",
       "        \"age\": 39,\n",
       "        \"balance\": 147,\n",
       "        \"campaign\": 2,\n",
       "        \"contact\": \"cellular\",\n",
       "        \"day\": 6,\n",
       "        \"default\": \"no\",\n",
       "        \"duration\": 151,\n",
       "        \"education\": \"secondary\",\n",
       "        \"housing\": \"yes\",\n",
       "        \"job\": \"technician\",\n",
       "        \"loan\": \"no\",\n",
       "        \"marital\": \"married\",\n",
       "        \"month\": \"may\",\n",
       "        \"pdays\": -1,\n",
       "        \"poutcome\": \"unknown\",\n",
       "        \"previous\": 0,\n",
       "        \"y\": \"no\"\n",
       "    },\n",
       "    {\n",
       "        \"age\": 41,\n",
       "        \"balance\": 221,\n",
       "        \"campaign\": 2,\n",
       "        \"contact\": \"unknown\",\n",
       "        \"day\": 14,\n",
       "        \"default\": \"no\",\n",
       "        \"duration\": 57,\n",
       "        \"education\": \"tertiary\",\n",
       "        \"housing\": \"yes\",\n",
       "        \"job\": \"entrepreneur\",\n",
       "        \"loan\": \"no\",\n",
       "        \"marital\": \"married\",\n",
       "        \"month\": \"may\",\n",
       "        \"pdays\": -1,\n",
       "        \"poutcome\": \"unknown\",\n",
       "        \"previous\": 0,\n",
       "        \"y\": \"no\"\n",
       "    },\n",
       "    {\n",
       "        \"age\": 43,\n",
       "        \"balance\": -88,\n",
       "        \"campaign\": 1,\n",
       "        \"contact\": \"cellular\",\n",
       "        \"day\": 17,\n",
       "        \"default\": \"no\",\n",
       "        \"duration\": 313,\n",
       "        \"education\": \"primary\",\n",
       "        \"housing\": \"yes\",\n",
       "        \"job\": \"services\",\n",
       "        \"loan\": \"yes\",\n",
       "        \"marital\": \"married\",\n",
       "        \"month\": \"apr\",\n",
       "        \"pdays\": 147,\n",
       "        \"poutcome\": \"failure\",\n",
       "        \"previous\": 2,\n",
       "        \"y\": \"no\"\n",
       "    }\n",
       "];\n",
       "    const columns = ['age', 'job', 'marital', 'education', 'default', 'balance', 'housing', 'loan', 'contact', 'day', 'month', 'duration', 'campaign', 'pdays', 'previous', 'poutcome', 'y'];\n",
       "    const rowsPerPage=10;\n",
       "    const nPages=453;\n",
       "    const nTotal=4521;\n",
       "    const tableName=\"bank\";\n",
       "    const tableContainerId = \"tableContainer_1687563487\";\n",
       "    const options = [10, 25, 50, 100];\n",
       "    options_html =\n",
       "    options.map(option => `<option value=${option}>${option}</option>`);\n",
       "\n",
       "\n",
       "    let ths_ = columns.map(col => `<th>${col}</th>`).join(\"\");\n",
       "\n",
       "    let table = `\n",
       "    <div>\n",
       "        <span style=\"margin-right: 5px\">Show</span>\n",
       "        <select\n",
       "        onchange=\"handleRowsNumberOfRowsChange(this)\">\n",
       "            ${options_html}\n",
       "        </select>\n",
       "        <span style=\"margin-left: 5px\">entries</span>\n",
       "    </div>\n",
       "\n",
       "    <table\n",
       "        class=\"jupysql-table-widget\"\n",
       "        style='width:100%'\n",
       "        curr-page-idx=0\n",
       "        rows-per-page=${rowsPerPage}\n",
       "        max-pages = ${nPages}\n",
       "        n-total=${nTotal}\n",
       "        table-name=${tableName}\n",
       "    >\n",
       "        <thead>\n",
       "            <tr>\n",
       "                ${ths_}\n",
       "            </tr>\n",
       "        </thead>\n",
       "\n",
       "        <tbody>\n",
       "        </tbody>\n",
       "    </table>\n",
       "\n",
       "\n",
       "    <div style=\"padding-bottom: 20px;\">\n",
       "        <button onclick=\"prevPageClick(this)\">Previous</button>\n",
       "        <div\n",
       "            id = \"pagesButtons\"\n",
       "            class = \"pages-buttons\"\n",
       "            style = \"display: inline-flex\">\n",
       "        </div>\n",
       "        <button onclick=\"nextPageClick(this)\">Next</button>\n",
       "    </div>\n",
       "    `\n",
       "\n",
       "    let tableContainer = document.querySelector(`#${tableContainerId}`);\n",
       "\n",
       "    tableContainer.innerHTML = table\n",
       "\n",
       "    if (initialRows) {\n",
       "        initializeTableRows(tableContainer, rowsPerPage, initialRows)\n",
       "\n",
       "    } else {\n",
       "        setTimeout(() => {\n",
       "            const fetchParameters = {\n",
       "                rowsPerPage : rowsPerPage,\n",
       "                page : 0,\n",
       "                sort : getSortDetails(),\n",
       "                table : tableName\n",
       "            }\n",
       "\n",
       "            fetchTableData(fetchParameters, (rows) => {\n",
       "                initializeTableRows(tableContainer, rowsPerPage, rows)\n",
       "            })\n",
       "        }, 100);\n",
       "    }\n",
       "    \n",
       "}\n",
       "\n",
       "function initializeTableRows(tableContainer, rowsPerPage, rows) {\n",
       "    updateTable(rows, 0,\n",
       "        tableContainer.querySelector(\"table\"));\n",
       "    // update ths_ to make sure order columns\n",
       "    // are matching the data\n",
       "    if (rows.length > 0) {\n",
       "        let row = rows[0];\n",
       "        let ths_ =\n",
       "        Object.keys(row).map(col =>\n",
       "        `<th>\n",
       "            <div style=\"display: inline-flex; height: 40px\">\n",
       "                <span style=\"line-height: 40px\">${col}</span>\n",
       "                <span style=\"width: 40px;\">\n",
       "                    <button\n",
       "                        class = \"sort-button\"\n",
       "                        onclick='sortColumnClick(this,\n",
       "                        \"${col}\", \"ASC\",\n",
       "                        (rows) => {\n",
       "                            const table = getTable(this);\n",
       "                            const currPage =\n",
       "                            parseInt(table.getAttribute(\"curr-page-idx\"));\n",
       "                            updateTable(rows, currPage);\n",
       "                            removeSelectionFromAllSortButtons()\n",
       "                            this.className += \" selected\"\n",
       "                            }\n",
       "                        )'\n",
       "                        title=\"Sort\"\n",
       "                        >▴\n",
       "                    </button>\n",
       "                    <button\n",
       "                        class = \"sort-button\"\n",
       "                        onclick='sortColumnClick(this,\n",
       "                        \"${col}\", \"DESC\",\n",
       "                        (rows) => {\n",
       "                            const table = getTable(this);\n",
       "                            const currPage = parseInt(\n",
       "                                table.getAttribute(\"curr-page-idx\"));\n",
       "                            updateTable(rows, currPage);\n",
       "                            removeSelectionFromAllSortButtons()\n",
       "                            this.className += \" selected\"\n",
       "                            }\n",
       "                        )'\n",
       "                        title=\"Sort\"\n",
       "                        >▾\n",
       "                    </button>\n",
       "                </span>\n",
       "            </div>\n",
       "\n",
       "            </th>`).join(\"\");\n",
       "        let thead = tableContainer.querySelector(\"thead\")\n",
       "        thead.innerHTML = ths_\n",
       "    }\n",
       "}\n",
       "\n",
       "initTable()</script>\n",
       "    "
      ],
      "text/plain": [
       "<sql.widgets.table_widget.table_widget.TableWidget at 0x7fbc92a97130>"
      ]
     },
     "metadata": {},
     "output_type": "display_data"
    }
   ],
   "source": [
    "%sqlcmd explore --table bank"
   ]
  },
  {
   "cell_type": "code",
   "execution_count": 6,
   "id": "51cba627",
   "metadata": {},
   "outputs": [
    {
     "data": {
      "text/html": [
       "<table>\n",
       "    <thead>\n",
       "        <tr>\n",
       "            <th>name</th>\n",
       "            <th>type</th>\n",
       "            <th>nullable</th>\n",
       "            <th>default</th>\n",
       "            <th>autoincrement</th>\n",
       "            <th>comment</th>\n",
       "        </tr>\n",
       "    </thead>\n",
       "    <tbody>\n",
       "        <tr>\n",
       "            <td>age</td>\n",
       "            <td>BIGINT</td>\n",
       "            <td>True</td>\n",
       "            <td>None</td>\n",
       "            <td>False</td>\n",
       "            <td>None</td>\n",
       "        </tr>\n",
       "        <tr>\n",
       "            <td>job</td>\n",
       "            <td>VARCHAR</td>\n",
       "            <td>True</td>\n",
       "            <td>None</td>\n",
       "            <td>False</td>\n",
       "            <td>None</td>\n",
       "        </tr>\n",
       "        <tr>\n",
       "            <td>marital</td>\n",
       "            <td>VARCHAR</td>\n",
       "            <td>True</td>\n",
       "            <td>None</td>\n",
       "            <td>False</td>\n",
       "            <td>None</td>\n",
       "        </tr>\n",
       "        <tr>\n",
       "            <td>education</td>\n",
       "            <td>VARCHAR</td>\n",
       "            <td>True</td>\n",
       "            <td>None</td>\n",
       "            <td>False</td>\n",
       "            <td>None</td>\n",
       "        </tr>\n",
       "        <tr>\n",
       "            <td>default</td>\n",
       "            <td>VARCHAR</td>\n",
       "            <td>True</td>\n",
       "            <td>None</td>\n",
       "            <td>False</td>\n",
       "            <td>None</td>\n",
       "        </tr>\n",
       "        <tr>\n",
       "            <td>balance</td>\n",
       "            <td>BIGINT</td>\n",
       "            <td>True</td>\n",
       "            <td>None</td>\n",
       "            <td>False</td>\n",
       "            <td>None</td>\n",
       "        </tr>\n",
       "        <tr>\n",
       "            <td>housing</td>\n",
       "            <td>VARCHAR</td>\n",
       "            <td>True</td>\n",
       "            <td>None</td>\n",
       "            <td>False</td>\n",
       "            <td>None</td>\n",
       "        </tr>\n",
       "        <tr>\n",
       "            <td>loan</td>\n",
       "            <td>VARCHAR</td>\n",
       "            <td>True</td>\n",
       "            <td>None</td>\n",
       "            <td>False</td>\n",
       "            <td>None</td>\n",
       "        </tr>\n",
       "        <tr>\n",
       "            <td>contact</td>\n",
       "            <td>VARCHAR</td>\n",
       "            <td>True</td>\n",
       "            <td>None</td>\n",
       "            <td>False</td>\n",
       "            <td>None</td>\n",
       "        </tr>\n",
       "        <tr>\n",
       "            <td>day</td>\n",
       "            <td>BIGINT</td>\n",
       "            <td>True</td>\n",
       "            <td>None</td>\n",
       "            <td>False</td>\n",
       "            <td>None</td>\n",
       "        </tr>\n",
       "        <tr>\n",
       "            <td>month</td>\n",
       "            <td>VARCHAR</td>\n",
       "            <td>True</td>\n",
       "            <td>None</td>\n",
       "            <td>False</td>\n",
       "            <td>None</td>\n",
       "        </tr>\n",
       "        <tr>\n",
       "            <td>duration</td>\n",
       "            <td>BIGINT</td>\n",
       "            <td>True</td>\n",
       "            <td>None</td>\n",
       "            <td>False</td>\n",
       "            <td>None</td>\n",
       "        </tr>\n",
       "        <tr>\n",
       "            <td>campaign</td>\n",
       "            <td>BIGINT</td>\n",
       "            <td>True</td>\n",
       "            <td>None</td>\n",
       "            <td>False</td>\n",
       "            <td>None</td>\n",
       "        </tr>\n",
       "        <tr>\n",
       "            <td>pdays</td>\n",
       "            <td>BIGINT</td>\n",
       "            <td>True</td>\n",
       "            <td>None</td>\n",
       "            <td>False</td>\n",
       "            <td>None</td>\n",
       "        </tr>\n",
       "        <tr>\n",
       "            <td>previous</td>\n",
       "            <td>BIGINT</td>\n",
       "            <td>True</td>\n",
       "            <td>None</td>\n",
       "            <td>False</td>\n",
       "            <td>None</td>\n",
       "        </tr>\n",
       "        <tr>\n",
       "            <td>poutcome</td>\n",
       "            <td>VARCHAR</td>\n",
       "            <td>True</td>\n",
       "            <td>None</td>\n",
       "            <td>False</td>\n",
       "            <td>None</td>\n",
       "        </tr>\n",
       "        <tr>\n",
       "            <td>y</td>\n",
       "            <td>VARCHAR</td>\n",
       "            <td>True</td>\n",
       "            <td>None</td>\n",
       "            <td>False</td>\n",
       "            <td>None</td>\n",
       "        </tr>\n",
       "    </tbody>\n",
       "</table>"
      ],
      "text/plain": [
       "+-----------+---------+----------+---------+---------------+---------+\n",
       "|    name   |   type  | nullable | default | autoincrement | comment |\n",
       "+-----------+---------+----------+---------+---------------+---------+\n",
       "|    age    |  BIGINT |   True   |   None  |     False     |   None  |\n",
       "|    job    | VARCHAR |   True   |   None  |     False     |   None  |\n",
       "|  marital  | VARCHAR |   True   |   None  |     False     |   None  |\n",
       "| education | VARCHAR |   True   |   None  |     False     |   None  |\n",
       "|  default  | VARCHAR |   True   |   None  |     False     |   None  |\n",
       "|  balance  |  BIGINT |   True   |   None  |     False     |   None  |\n",
       "|  housing  | VARCHAR |   True   |   None  |     False     |   None  |\n",
       "|    loan   | VARCHAR |   True   |   None  |     False     |   None  |\n",
       "|  contact  | VARCHAR |   True   |   None  |     False     |   None  |\n",
       "|    day    |  BIGINT |   True   |   None  |     False     |   None  |\n",
       "|   month   | VARCHAR |   True   |   None  |     False     |   None  |\n",
       "|  duration |  BIGINT |   True   |   None  |     False     |   None  |\n",
       "|  campaign |  BIGINT |   True   |   None  |     False     |   None  |\n",
       "|   pdays   |  BIGINT |   True   |   None  |     False     |   None  |\n",
       "|  previous |  BIGINT |   True   |   None  |     False     |   None  |\n",
       "|  poutcome | VARCHAR |   True   |   None  |     False     |   None  |\n",
       "|     y     | VARCHAR |   True   |   None  |     False     |   None  |\n",
       "+-----------+---------+----------+---------+---------------+---------+"
      ]
     },
     "execution_count": 6,
     "metadata": {},
     "output_type": "execute_result"
    }
   ],
   "source": [
    "%sqlcmd columns -t bank"
   ]
  },
  {
   "attachments": {},
   "cell_type": "markdown",
   "id": "a827784b",
   "metadata": {},
   "source": [
    "## Variable Expansion\n",
    "\n",
    "JupySQL supports variable expansion in the form of ``{{variable}}``. This allows you to write a query with placeholders that can be replaced by variables dynamically. The benefits of using parameterized SQL queries are that they can be reused with different values, prepared ahead of time, and used with dynamic data.\n",
    "\n",
    "Let's start with a simple query template with placeholders, and substitute the placeholders with a couple of variables using variable expansion.\n",
    "\n",
    "We are going to select two columns (`age` and `job`) from the table `bank` with the variable `dynamic_column` and show only 5 rows. We can control this via another variable `dynamic_limit`."
   ]
  },
  {
   "cell_type": "code",
   "execution_count": 7,
   "id": "1ae23118",
   "metadata": {},
   "outputs": [
    {
     "data": {
      "text/html": [
       "<span style=\"None\">Running query in &#x27;duckdb:///bank.duck.db&#x27;</span>"
      ],
      "text/plain": [
       "Running query in 'duckdb:///bank.duck.db'"
      ]
     },
     "metadata": {},
     "output_type": "display_data"
    },
    {
     "data": {
      "text/html": [
       "<table>\n",
       "    <thead>\n",
       "        <tr>\n",
       "            <th>age</th>\n",
       "            <th>job</th>\n",
       "        </tr>\n",
       "    </thead>\n",
       "    <tbody>\n",
       "        <tr>\n",
       "            <td>30</td>\n",
       "            <td>unemployed</td>\n",
       "        </tr>\n",
       "        <tr>\n",
       "            <td>33</td>\n",
       "            <td>services</td>\n",
       "        </tr>\n",
       "        <tr>\n",
       "            <td>35</td>\n",
       "            <td>management</td>\n",
       "        </tr>\n",
       "        <tr>\n",
       "            <td>30</td>\n",
       "            <td>management</td>\n",
       "        </tr>\n",
       "        <tr>\n",
       "            <td>59</td>\n",
       "            <td>blue-collar</td>\n",
       "        </tr>\n",
       "    </tbody>\n",
       "</table>"
      ],
      "text/plain": [
       "+-----+-------------+\n",
       "| age |     job     |\n",
       "+-----+-------------+\n",
       "|  30 |  unemployed |\n",
       "|  33 |   services  |\n",
       "|  35 |  management |\n",
       "|  30 |  management |\n",
       "|  59 | blue-collar |\n",
       "+-----+-------------+"
      ]
     },
     "execution_count": 7,
     "metadata": {},
     "output_type": "execute_result"
    }
   ],
   "source": [
    "dynamic_limit = 5\n",
    "dynamic_column = \"age, job\"\n",
    "%sql SELECT {{dynamic_column}} FROM bank LIMIT {{dynamic_limit}}"
   ]
  },
  {
   "attachments": {},
   "cell_type": "markdown",
   "id": "d6d97034",
   "metadata": {},
   "source": [
    "### Sample case\n",
    "\n",
    "The HR department would like to determine top five oldest and youngest employees in two different jobs: services, management.\n",
    "\n",
    "We can combine Python with SQL code using the `%sql` magic. With Python we can iterate over the jobs in the list `jobs`. With parameterization, we can\n",
    "then insert the job into the SQL query via the `{{variable}}` notation."
   ]
  },
  {
   "cell_type": "code",
   "execution_count": 8,
   "id": "63bef235",
   "metadata": {},
   "outputs": [
    {
     "name": "stdout",
     "output_type": "stream",
     "text": [
      "Top 5 oldest in services\n"
     ]
    },
    {
     "data": {
      "text/html": [
       "<span style=\"None\">Running query in &#x27;duckdb:///bank.duck.db&#x27;</span>"
      ],
      "text/plain": [
       "Running query in 'duckdb:///bank.duck.db'"
      ]
     },
     "metadata": {},
     "output_type": "display_data"
    },
    {
     "name": "stdout",
     "output_type": "stream",
     "text": [
      "+-----+----------+----------+-----------+---------+---------+---------+------+----------+-----+-------+----------+----------+-------+----------+----------+-----+\n",
      "| age |   job    | marital  | education | default | balance | housing | loan | contact  | day | month | duration | campaign | pdays | previous | poutcome |  y  |\n",
      "+-----+----------+----------+-----------+---------+---------+---------+------+----------+-----+-------+----------+----------+-------+----------+----------+-----+\n",
      "|  60 | services | married  |  tertiary |    no   |   4256  |   yes   |  no  | cellular |  16 |  aug  |   239    |    3     |  761  |    1     |  other   | yes |\n",
      "|  59 | services | married  | secondary |    no   |   204   |    no   |  no  | cellular |  23 |  jul  |   286    |    2     |   -1  |    0     | unknown  |  no |\n",
      "|  59 | services | married  | secondary |    no   |    0    |   yes   |  no  | cellular |  12 |  may  |   214    |    3     |   -1  |    0     | unknown  |  no |\n",
      "|  58 | services | divorced | secondary |    no   |   462   |    no   |  no  | cellular |  13 |  nov  |   495    |    1     |   93  |    1     | success  | yes |\n",
      "|  58 | services | married  |  primary  |    no   |    65   |    no   |  no  | unknown  |  27 |  jun  |   162    |    1     |   -1  |    0     | unknown  |  no |\n",
      "+-----+----------+----------+-----------+---------+---------+---------+------+----------+-----+-------+----------+----------+-------+----------+----------+-----+\n",
      "Top 5 youngest in services\n"
     ]
    },
    {
     "data": {
      "text/html": [
       "<span style=\"None\">Running query in &#x27;duckdb:///bank.duck.db&#x27;</span>"
      ],
      "text/plain": [
       "Running query in 'duckdb:///bank.duck.db'"
      ]
     },
     "metadata": {},
     "output_type": "display_data"
    },
    {
     "name": "stdout",
     "output_type": "stream",
     "text": [
      "+-----+----------+---------+-----------+---------+---------+---------+------+-----------+-----+-------+----------+----------+-------+----------+----------+----+\n",
      "| age |   job    | marital | education | default | balance | housing | loan |  contact  | day | month | duration | campaign | pdays | previous | poutcome | y  |\n",
      "+-----+----------+---------+-----------+---------+---------+---------+------+-----------+-----+-------+----------+----------+-------+----------+----------+----+\n",
      "|  21 | services |  single | secondary |    no   |   361   |    no   |  no  | telephone |  5  |  jun  |   329    |    1     |   95  |    1     |  other   | no |\n",
      "|  21 | services |  single | secondary |    no   |   1903  |   yes   |  no  |  unknown  |  29 |  may  |   107    |    2     |   -1  |    0     | unknown  | no |\n",
      "|  23 | services |  single |  tertiary |    no   |   363   |   yes   |  no  |  unknown  |  30 |  may  |    16    |    18    |   -1  |    0     | unknown  | no |\n",
      "|  23 | services | married | secondary |    no   |   -19   |   yes   |  no  |  unknown  |  20 |  jun  |    13    |    10    |   -1  |    0     | unknown  | no |\n",
      "|  23 | services |  single | secondary |    no   |   500   |   yes   |  no  |  unknown  |  4  |  jun  |   111    |    3     |   -1  |    0     | unknown  | no |\n",
      "+-----+----------+---------+-----------+---------+---------+---------+------+-----------+-----+-------+----------+----------+-------+----------+----------+----+\n",
      "Top 5 oldest in management\n"
     ]
    },
    {
     "data": {
      "text/html": [
       "<span style=\"None\">Running query in &#x27;duckdb:///bank.duck.db&#x27;</span>"
      ],
      "text/plain": [
       "Running query in 'duckdb:///bank.duck.db'"
      ]
     },
     "metadata": {},
     "output_type": "display_data"
    },
    {
     "name": "stdout",
     "output_type": "stream",
     "text": [
      "+-----+------------+---------+-----------+---------+---------+---------+------+-----------+-----+-------+----------+----------+-------+----------+----------+----+\n",
      "| age |    job     | marital | education | default | balance | housing | loan |  contact  | day | month | duration | campaign | pdays | previous | poutcome | y  |\n",
      "+-----+------------+---------+-----------+---------+---------+---------+------+-----------+-----+-------+----------+----------+-------+----------+----------+----+\n",
      "|  80 | management | married |  primary  |    no   |   6483  |    no   |  no  | telephone |  19 |  oct  |   123    |    1     |   -1  |    0     | unknown  | no |\n",
      "|  66 | management | married |  tertiary |    no   |   1048  |   yes   |  no  |  cellular |  23 |  jun  |   971    |    2     |   -1  |    0     | unknown  | no |\n",
      "|  66 | management | married |  tertiary |    no   |   2169  |    no   |  no  |  cellular |  7  |  jul  |   282    |    1     |   -1  |    0     | unknown  | no |\n",
      "|  66 | management |  single |  tertiary |    no   |   6483  |    no   |  no  |  cellular |  13 |  aug  |   275    |    1     |   -1  |    0     | unknown  | no |\n",
      "|  64 | management | married |  tertiary |    no   |   679   |    no   |  no  | telephone |  22 |  apr  |   135    |    3     |   -1  |    0     | unknown  | no |\n",
      "+-----+------------+---------+-----------+---------+---------+---------+------+-----------+-----+-------+----------+----------+-------+----------+----------+----+\n",
      "Top 5 youngest in management\n"
     ]
    },
    {
     "data": {
      "text/html": [
       "<span style=\"None\">Running query in &#x27;duckdb:///bank.duck.db&#x27;</span>"
      ],
      "text/plain": [
       "Running query in 'duckdb:///bank.duck.db'"
      ]
     },
     "metadata": {},
     "output_type": "display_data"
    },
    {
     "name": "stdout",
     "output_type": "stream",
     "text": [
      "+-----+------------+---------+-----------+---------+---------+---------+------+----------+-----+-------+----------+----------+-------+----------+----------+-----+\n",
      "| age |    job     | marital | education | default | balance | housing | loan | contact  | day | month | duration | campaign | pdays | previous | poutcome |  y  |\n",
      "+-----+------------+---------+-----------+---------+---------+---------+------+----------+-----+-------+----------+----------+-------+----------+----------+-----+\n",
      "|  23 | management |  single |  tertiary |    no   |   736   |   yes   |  no  | cellular |  30 |  apr  |   119    |    1     |   -1  |    0     | unknown  |  no |\n",
      "|  24 | management |  single |  tertiary |    no   |   172   |    no   |  no  | cellular |  3  |  jul  |    67    |    2     |   -1  |    0     | unknown  |  no |\n",
      "|  25 | management |  single |  tertiary |    no   |   553   |   yes   |  no  | cellular |  17 |  sep  |   113    |    4     |  479  |    1     | failure  |  no |\n",
      "|  25 | management |  single |  tertiary |    no   |   2506  |    no   |  no  | cellular |  17 |  feb  |   485    |    1     |   -1  |    0     | unknown  | yes |\n",
      "|  25 | management |  single |  tertiary |    no   |   808   |    no   |  no  | cellular |  18 |  sep  |   267    |    2     |  114  |    2     | failure  | yes |\n",
      "+-----+------------+---------+-----------+---------+---------+---------+------+----------+-----+-------+----------+----------+-------+----------+----------+-----+\n"
     ]
    }
   ],
   "source": [
    "jobs = [\"services\", \"management\"]\n",
    "\n",
    "for job in jobs:\n",
    "    print(f\"Top 5 oldest in {job}\")\n",
    "    order = \"DESC\"\n",
    "    top_oldest = %sql SELECT * FROM bank WHERE job='{{job}}' ORDER BY age {{order}} LIMIT 5\n",
    "    print(top_oldest)\n",
    "\n",
    "    print(f\"Top 5 youngest in {job}\")\n",
    "    order = \"ASC\"\n",
    "    top_youngest = %sql SELECT * FROM bank WHERE job='{{job}}' ORDER BY age {{order}} LIMIT 5\n",
    "    print(top_youngest)"
   ]
  },
  {
   "attachments": {},
   "cell_type": "markdown",
   "id": "493eb033",
   "metadata": {},
   "source": [
    "### Mini Exercise:\n",
    "\n",
    "The marketing team is interested in understanding the distribution of age for their marketing campaigns. Select the top 5 oldest and youngest people who have been part of the marketing campaign (`campaign` column).\n",
    "\n",
    "Your task: use a loop with variable expansion to accomplish this. \n",
    "\n",
    "<!-- #region -->\n",
    "<details>\n",
    "\n",
    "<summary>Answers</summary>"
   ]
  },
  {
   "cell_type": "code",
   "execution_count": 9,
   "id": "cf1a2e03",
   "metadata": {},
   "outputs": [
    {
     "data": {
      "text/html": [
       "<span style=\"None\">Running query in &#x27;duckdb:///bank.duck.db&#x27;</span>"
      ],
      "text/plain": [
       "Running query in 'duckdb:///bank.duck.db'"
      ]
     },
     "metadata": {},
     "output_type": "display_data"
    },
    {
     "name": "stdout",
     "output_type": "stream",
     "text": [
      "Top 5 oldest in campaign 1\n"
     ]
    },
    {
     "data": {
      "text/html": [
       "<span style=\"None\">Running query in &#x27;duckdb:///bank.duck.db&#x27;</span>"
      ],
      "text/plain": [
       "Running query in 'duckdb:///bank.duck.db'"
      ]
     },
     "metadata": {},
     "output_type": "display_data"
    },
    {
     "name": "stdout",
     "output_type": "stream",
     "text": [
      "+-----+------------+----------+-----------+---------+---------+---------+------+-----------+-----+-------+----------+----------+-------+----------+----------+-----+\n",
      "| age |    job     | marital  | education | default | balance | housing | loan |  contact  | day | month | duration | campaign | pdays | previous | poutcome |  y  |\n",
      "+-----+------------+----------+-----------+---------+---------+---------+------+-----------+-----+-------+----------+----------+-------+----------+----------+-----+\n",
      "|  87 |  retired   | married  |  primary  |    no   |   230   |    no   |  no  |  cellular |  30 |  oct  |   144    |    1     |   -1  |    0     | unknown  | yes |\n",
      "|  83 |  retired   | married  |  primary  |    no   |   425   |    no   |  no  | telephone |  22 |  jun  |   883    |    1     |  140  |    1     | failure  | yes |\n",
      "|  83 |  retired   | divorced |  primary  |    no   |    0    |    no   |  no  | telephone |  31 |  may  |   664    |    1     |   77  |    3     | success  |  no |\n",
      "|  83 |  retired   | divorced |  primary  |    no   |   1097  |    no   |  no  | telephone |  5  |  mar  |   181    |    1     |   -1  |    0     | unknown  | yes |\n",
      "|  80 | management | married  |  primary  |    no   |   6483  |    no   |  no  | telephone |  19 |  oct  |   123    |    1     |   -1  |    0     | unknown  |  no |\n",
      "+-----+------------+----------+-----------+---------+---------+---------+------+-----------+-----+-------+----------+----------+-------+----------+----------+-----+\n",
      "Top 5 youngest in campaign 1\n"
     ]
    },
    {
     "data": {
      "text/html": [
       "<span style=\"None\">Running query in &#x27;duckdb:///bank.duck.db&#x27;</span>"
      ],
      "text/plain": [
       "Running query in 'duckdb:///bank.duck.db'"
      ]
     },
     "metadata": {},
     "output_type": "display_data"
    },
    {
     "name": "stdout",
     "output_type": "stream",
     "text": [
      "+-----+----------+---------+-----------+---------+---------+---------+------+-----------+-----+-------+----------+----------+-------+----------+----------+-----+\n",
      "| age |   job    | marital | education | default | balance | housing | loan |  contact  | day | month | duration | campaign | pdays | previous | poutcome |  y  |\n",
      "+-----+----------+---------+-----------+---------+---------+---------+------+-----------+-----+-------+----------+----------+-------+----------+----------+-----+\n",
      "|  19 | student  |  single | secondary |    no   |   302   |    no   |  no  |  cellular |  16 |  jul  |   205    |    1     |   -1  |    0     | unknown  | yes |\n",
      "|  20 | student  |  single | secondary |    no   |   502   |    no   |  no  |  cellular |  30 |  apr  |   261    |    1     |   -1  |    0     | unknown  | yes |\n",
      "|  20 | student  |  single | secondary |    no   |   1191  |    no   |  no  |  cellular |  12 |  feb  |   274    |    1     |   -1  |    0     | unknown  |  no |\n",
      "|  21 | services |  single | secondary |    no   |   361   |    no   |  no  | telephone |  5  |  jun  |   329    |    1     |   95  |    1     |  other   |  no |\n",
      "|  21 | student  |  single | secondary |    no   |   681   |    no   |  no  |  unknown  |  20 |  aug  |    6     |    1     |   -1  |    0     | unknown  |  no |\n",
      "+-----+----------+---------+-----------+---------+---------+---------+------+-----------+-----+-------+----------+----------+-------+----------+----------+-----+\n",
      "Top 5 oldest in campaign 4\n"
     ]
    },
    {
     "data": {
      "text/html": [
       "<span style=\"None\">Running query in &#x27;duckdb:///bank.duck.db&#x27;</span>"
      ],
      "text/plain": [
       "Running query in 'duckdb:///bank.duck.db'"
      ]
     },
     "metadata": {},
     "output_type": "display_data"
    },
    {
     "name": "stdout",
     "output_type": "stream",
     "text": [
      "+-----+---------------+---------+-----------+---------+---------+---------+------+-----------+-----+-------+----------+----------+-------+----------+----------+-----+\n",
      "| age |      job      | marital | education | default | balance | housing | loan |  contact  | day | month | duration | campaign | pdays | previous | poutcome |  y  |\n",
      "+-----+---------------+---------+-----------+---------+---------+---------+------+-----------+-----+-------+----------+----------+-------+----------+----------+-----+\n",
      "|  78 |   housemaid   | married | secondary |    no   |   499   |    no   |  no  | telephone |  16 |  mar  |    80    |    4     |   -1  |    0     | unknown  |  no |\n",
      "|  77 |    retired    | married |  primary  |    no   |   680   |    no   |  no  | telephone |  27 |  nov  |   341    |    4     |   94  |    3     | failure  |  no |\n",
      "|  66 |     admin.    |  single | secondary |    no   |  10177  |    no   |  no  |  cellular |  5  |  may  |   272    |    4     |   -1  |    0     | unknown  |  no |\n",
      "|  61 |   technician  | married | secondary |    no   |   1191  |    no   |  no  |  cellular |  21 |  may  |   214    |    4     |   -1  |    0     | unknown  | yes |\n",
      "|  60 | self-employed |  single |  tertiary |    no   |   179   |    no   | yes  |  cellular |  29 |  jul  |    79    |    4     |   -1  |    0     | unknown  |  no |\n",
      "+-----+---------------+---------+-----------+---------+---------+---------+------+-----------+-----+-------+----------+----------+-------+----------+----------+-----+\n",
      "Top 5 youngest in campaign 4\n"
     ]
    },
    {
     "data": {
      "text/html": [
       "<span style=\"None\">Running query in &#x27;duckdb:///bank.duck.db&#x27;</span>"
      ],
      "text/plain": [
       "Running query in 'duckdb:///bank.duck.db'"
      ]
     },
     "metadata": {},
     "output_type": "display_data"
    },
    {
     "name": "stdout",
     "output_type": "stream",
     "text": [
      "+-----+-------------+---------+-----------+---------+---------+---------+------+-----------+-----+-------+----------+----------+-------+----------+----------+-----+\n",
      "| age |     job     | marital | education | default | balance | housing | loan |  contact  | day | month | duration | campaign | pdays | previous | poutcome |  y  |\n",
      "+-----+-------------+---------+-----------+---------+---------+---------+------+-----------+-----+-------+----------+----------+-------+----------+----------+-----+\n",
      "|  24 | blue-collar |  single |  primary  |    no   |   111   |   yes   | yes  |  unknown  |  27 |  may  |    42    |    4     |   -1  |    0     | unknown  |  no |\n",
      "|  25 |   student   |  single | secondary |    no   |   331   |    no   |  no  | telephone |  26 |  aug  |   170    |    4     |   -1  |    0     | unknown  | yes |\n",
      "|  25 |  management |  single |  tertiary |    no   |   553   |   yes   |  no  |  cellular |  17 |  sep  |   113    |    4     |  479  |    1     | failure  |  no |\n",
      "|  25 | blue-collar |  single | secondary |    no   |   913   |   yes   |  no  |  cellular |  7  |  jul  |   113    |    4     |   -1  |    0     | unknown  |  no |\n",
      "|  25 |  management | married |  tertiary |    no   |   -242  |   yes   | yes  |  cellular |  18 |  may  |   600    |    4     |  332  |    4     |  other   | yes |\n",
      "+-----+-------------+---------+-----------+---------+---------+---------+------+-----------+-----+-------+----------+----------+-------+----------+----------+-----+\n",
      "Top 5 oldest in campaign 2\n"
     ]
    },
    {
     "data": {
      "text/html": [
       "<span style=\"None\">Running query in &#x27;duckdb:///bank.duck.db&#x27;</span>"
      ],
      "text/plain": [
       "Running query in 'duckdb:///bank.duck.db'"
      ]
     },
     "metadata": {},
     "output_type": "display_data"
    },
    {
     "name": "stdout",
     "output_type": "stream",
     "text": [
      "+-----+---------+---------+-----------+---------+---------+---------+------+-----------+-----+-------+----------+----------+-------+----------+----------+-----+\n",
      "| age |   job   | marital | education | default | balance | housing | loan |  contact  | day | month | duration | campaign | pdays | previous | poutcome |  y  |\n",
      "+-----+---------+---------+-----------+---------+---------+---------+------+-----------+-----+-------+----------+----------+-------+----------+----------+-----+\n",
      "|  80 | retired | married | secondary |    no   |   462   |    no   |  no  |  cellular |  7  |  dec  |   127    |    2     |   -1  |    0     | unknown  |  no |\n",
      "|  80 | retired | married |  primary  |    no   |   1548  |    no   |  no  |  cellular |  6  |  aug  |   331    |    2     |   -1  |    0     | unknown  |  no |\n",
      "|  79 | retired | married |  primary  |    no   |   8556  |    no   |  no  | telephone |  18 |  jan  |   326    |    2     |  272  |    2     | success  | yes |\n",
      "|  79 | retired | married |  primary  |    no   |   429   |    no   |  no  | telephone |  8  |  jul  |   1006   |    2     |   -1  |    0     | unknown  | yes |\n",
      "|  77 | retired | married |  primary  |    no   |   680   |    no   |  no  | telephone |  24 |  feb  |   513    |    2     |   89  |    7     | failure  |  no |\n",
      "+-----+---------+---------+-----------+---------+---------+---------+------+-----------+-----+-------+----------+----------+-------+----------+----------+-----+\n",
      "Top 5 youngest in campaign 2\n"
     ]
    },
    {
     "data": {
      "text/html": [
       "<span style=\"None\">Running query in &#x27;duckdb:///bank.duck.db&#x27;</span>"
      ],
      "text/plain": [
       "Running query in 'duckdb:///bank.duck.db'"
      ]
     },
     "metadata": {},
     "output_type": "display_data"
    },
    {
     "name": "stdout",
     "output_type": "stream",
     "text": [
      "+-----+----------+---------+-----------+---------+---------+---------+------+----------+-----+-------+----------+----------+-------+----------+----------+-----+\n",
      "| age |   job    | marital | education | default | balance | housing | loan | contact  | day | month | duration | campaign | pdays | previous | poutcome |  y  |\n",
      "+-----+----------+---------+-----------+---------+---------+---------+------+----------+-----+-------+----------+----------+-------+----------+----------+-----+\n",
      "|  19 | student  |  single |  primary  |    no   |   103   |    no   |  no  | cellular |  10 |  jul  |   104    |    2     |   -1  |    0     | unknown  | yes |\n",
      "|  21 | services |  single | secondary |    no   |   1903  |   yes   |  no  | unknown  |  29 |  may  |   107    |    2     |   -1  |    0     | unknown  |  no |\n",
      "|  22 | student  |  single | secondary |    no   |   2488  |    no   |  no  | cellular |  8  |  nov  |   449    |    2     |   38  |    10    |  other   | yes |\n",
      "|  23 | student  |  single | secondary |    no   |   9216  |    no   |  no  | cellular |  5  |  jun  |   471    |    2     |   -1  |    0     | unknown  |  no |\n",
      "|  23 | student  | married |  tertiary |   yes   |   -230  |   yes   |  no  | cellular |  18 |  may  |   259    |    2     |   -1  |    0     | unknown  |  no |\n",
      "+-----+----------+---------+-----------+---------+---------+---------+------+----------+-----+-------+----------+----------+-------+----------+----------+-----+\n",
      "Top 5 oldest in campaign 5\n"
     ]
    },
    {
     "data": {
      "text/html": [
       "<span style=\"None\">Running query in &#x27;duckdb:///bank.duck.db&#x27;</span>"
      ],
      "text/plain": [
       "Running query in 'duckdb:///bank.duck.db'"
      ]
     },
     "metadata": {},
     "output_type": "display_data"
    },
    {
     "name": "stdout",
     "output_type": "stream",
     "text": [
      "+-----+---------------+---------+-----------+---------+---------+---------+------+-----------+-----+-------+----------+----------+-------+----------+----------+-----+\n",
      "| age |      job      | marital | education | default | balance | housing | loan |  contact  | day | month | duration | campaign | pdays | previous | poutcome |  y  |\n",
      "+-----+---------------+---------+-----------+---------+---------+---------+------+-----------+-----+-------+----------+----------+-------+----------+----------+-----+\n",
      "|  81 |    retired    | married | secondary |    no   |    1    |    no   |  no  |  cellular |  19 |  aug  |    65    |    5     |   -1  |    0     | unknown  |  no |\n",
      "|  79 |    retired    | married | secondary |    no   |   4738  |    no   |  no  | telephone |  9  |  jul  |   151    |    5     |   -1  |    0     | unknown  |  no |\n",
      "|  71 |    retired    | married |  primary  |    no   |   4657  |    no   |  no  |  cellular |  16 |  feb  |    93    |    5     |   -1  |    0     | unknown  | yes |\n",
      "|  62 |    unknown    | married | secondary |    no   |   367   |    no   |  no  | telephone |  2  |  mar  |   139    |    5     |   -1  |    0     | unknown  |  no |\n",
      "|  59 | self-employed | married |  tertiary |    no   |   185   |    no   |  no  |  cellular |  22 |  jun  |   177    |    5     |  138  |    1     | failure  |  no |\n",
      "+-----+---------------+---------+-----------+---------+---------+---------+------+-----------+-----+-------+----------+----------+-------+----------+----------+-----+\n",
      "Top 5 youngest in campaign 5\n"
     ]
    },
    {
     "data": {
      "text/html": [
       "<span style=\"None\">Running query in &#x27;duckdb:///bank.duck.db&#x27;</span>"
      ],
      "text/plain": [
       "Running query in 'duckdb:///bank.duck.db'"
      ]
     },
     "metadata": {},
     "output_type": "display_data"
    },
    {
     "name": "stdout",
     "output_type": "stream",
     "text": [
      "+-----+-------------+---------+-----------+---------+---------+---------+------+-----------+-----+-------+----------+----------+-------+----------+----------+----+\n",
      "| age |     job     | marital | education | default | balance | housing | loan |  contact  | day | month | duration | campaign | pdays | previous | poutcome | y  |\n",
      "+-----+-------------+---------+-----------+---------+---------+---------+------+-----------+-----+-------+----------+----------+-------+----------+----------+----+\n",
      "|  20 |   student   |  single | secondary |    no   |   291   |    no   |  no  | telephone |  11 |  may  |   172    |    5     |  371  |    5     | failure  | no |\n",
      "|  25 |  technician |  single | secondary |    no   |   959   |    no   |  no  |  cellular |  9  |  jul  |   144    |    5     |   -1  |    0     | unknown  | no |\n",
      "|  26 | blue-collar |  single | secondary |    no   |   856   |   yes   | yes  |  cellular |  30 |  jul  |    95    |    5     |   -1  |    0     | unknown  | no |\n",
      "|  26 |    admin.   |  single |  tertiary |    no   |   3672  |   yes   |  no  |  unknown  |  29 |  may  |   360    |    5     |   -1  |    0     | unknown  | no |\n",
      "|  26 |   services  |  single | secondary |    no   |   512   |   yes   | yes  |  cellular |  30 |  jan  |   206    |    5     |  239  |    3     | failure  | no |\n",
      "+-----+-------------+---------+-----------+---------+---------+---------+------+-----------+-----+-------+----------+----------+-------+----------+----------+----+\n",
      "Top 5 oldest in campaign 3\n"
     ]
    },
    {
     "data": {
      "text/html": [
       "<span style=\"None\">Running query in &#x27;duckdb:///bank.duck.db&#x27;</span>"
      ],
      "text/plain": [
       "Running query in 'duckdb:///bank.duck.db'"
      ]
     },
     "metadata": {},
     "output_type": "display_data"
    },
    {
     "name": "stdout",
     "output_type": "stream",
     "text": [
      "+-----+---------+----------+-----------+---------+---------+---------+------+-----------+-----+-------+----------+----------+-------+----------+----------+-----+\n",
      "| age |   job   | marital  | education | default | balance | housing | loan |  contact  | day | month | duration | campaign | pdays | previous | poutcome |  y  |\n",
      "+-----+---------+----------+-----------+---------+---------+---------+------+-----------+-----+-------+----------+----------+-------+----------+----------+-----+\n",
      "|  86 | retired | married  | secondary |    no   |   1503  |    no   |  no  | telephone |  18 |  mar  |   165    |    3     |  101  |    1     |  other   |  no |\n",
      "|  84 | retired | divorced |  primary  |    no   |   639   |    no   |  no  | telephone |  18 |  may  |   353    |    3     |   -1  |    0     | unknown  | yes |\n",
      "|  77 | retired | married  | secondary |    no   |   610   |    no   |  no  |  cellular |  13 |  aug  |   766    |    3     |   -1  |    0     | unknown  |  no |\n",
      "|  74 | retired | divorced | secondary |    no   |   4079  |    no   |  no  |  cellular |  19 |  oct  |   343    |    3     |   -1  |    0     | unknown  | yes |\n",
      "|  73 | retired | married  |  primary  |    no   |   1388  |    no   |  no  |  cellular |  20 |  jul  |   146    |    3     |  190  |    3     | success  |  no |\n",
      "+-----+---------+----------+-----------+---------+---------+---------+------+-----------+-----+-------+----------+----------+-------+----------+----------+-----+\n",
      "Top 5 youngest in campaign 3\n"
     ]
    },
    {
     "data": {
      "text/html": [
       "<span style=\"None\">Running query in &#x27;duckdb:///bank.duck.db&#x27;</span>"
      ],
      "text/plain": [
       "Running query in 'duckdb:///bank.duck.db'"
      ]
     },
     "metadata": {},
     "output_type": "display_data"
    },
    {
     "name": "stdout",
     "output_type": "stream",
     "text": [
      "+-----+----------+---------+-----------+---------+---------+---------+------+----------+-----+-------+----------+----------+-------+----------+----------+----+\n",
      "| age |   job    | marital | education | default | balance | housing | loan | contact  | day | month | duration | campaign | pdays | previous | poutcome | y  |\n",
      "+-----+----------+---------+-----------+---------+---------+---------+------+----------+-----+-------+----------+----------+-------+----------+----------+----+\n",
      "|  19 | student  |  single |  unknown  |    no   |    0    |    no   |  no  | cellular |  11 |  feb  |   123    |    3     |   -1  |    0     | unknown  | no |\n",
      "|  21 | student  |  single |  unknown  |    no   |   137   |   yes   |  no  | unknown  |  12 |  may  |   198    |    3     |   -1  |    0     | unknown  | no |\n",
      "|  21 | student  |  single | secondary |    no   |   6844  |    no   |  no  | cellular |  14 |  aug  |   126    |    3     |  127  |    7     |  other   | no |\n",
      "|  22 | student  |  single |  unknown  |    no   |    47   |    no   |  no  | cellular |  3  |  jul  |    69    |    3     |   -1  |    0     | unknown  | no |\n",
      "|  23 | services |  single | secondary |    no   |   500   |   yes   |  no  | unknown  |  4  |  jun  |   111    |    3     |   -1  |    0     | unknown  | no |\n",
      "+-----+----------+---------+-----------+---------+---------+---------+------+----------+-----+-------+----------+----------+-------+----------+----------+----+\n",
      "Top 5 oldest in campaign 6\n"
     ]
    },
    {
     "data": {
      "text/html": [
       "<span style=\"None\">Running query in &#x27;duckdb:///bank.duck.db&#x27;</span>"
      ],
      "text/plain": [
       "Running query in 'duckdb:///bank.duck.db'"
      ]
     },
     "metadata": {},
     "output_type": "display_data"
    },
    {
     "name": "stdout",
     "output_type": "stream",
     "text": [
      "+-----+---------------+----------+-----------+---------+---------+---------+------+----------+-----+-------+----------+----------+-------+----------+----------+-----+\n",
      "| age |      job      | marital  | education | default | balance | housing | loan | contact  | day | month | duration | campaign | pdays | previous | poutcome |  y  |\n",
      "+-----+---------------+----------+-----------+---------+---------+---------+------+----------+-----+-------+----------+----------+-------+----------+----------+-----+\n",
      "|  61 |   management  | married  | secondary |    no   |   985   |    no   |  no  | cellular |  18 |  aug  |   998    |    6     |   -1  |    0     | unknown  | yes |\n",
      "|  60 |    retired    | divorced |  tertiary |    no   |   2131  |    no   |  no  | cellular |  10 |  jul  |   421    |    6     |   -1  |    0     | unknown  |  no |\n",
      "|  60 | self-employed | married  |  primary  |    no   |   362   |    no   | yes  | cellular |  29 |  jul  |   816    |    6     |   -1  |    0     | unknown  | yes |\n",
      "|  59 |    retired    | married  |  unknown  |    no   |    0    |    no   |  no  | unknown  |  8  |  may  |   425    |    6     |   -1  |    0     | unknown  |  no |\n",
      "|  58 |    retired    | married  | secondary |    no   |   225   |    no   |  no  | cellular |  7  |  aug  |   122    |    6     |   -1  |    0     | unknown  |  no |\n",
      "+-----+---------------+----------+-----------+---------+---------+---------+------+----------+-----+-------+----------+----------+-------+----------+----------+-----+\n",
      "Top 5 youngest in campaign 6\n"
     ]
    },
    {
     "data": {
      "text/html": [
       "<span style=\"None\">Running query in &#x27;duckdb:///bank.duck.db&#x27;</span>"
      ],
      "text/plain": [
       "Running query in 'duckdb:///bank.duck.db'"
      ]
     },
     "metadata": {},
     "output_type": "display_data"
    },
    {
     "name": "stdout",
     "output_type": "stream",
     "text": [
      "+-----+-------------+----------+-----------+---------+---------+---------+------+-----------+-----+-------+----------+----------+-------+----------+----------+-----+\n",
      "| age |     job     | marital  | education | default | balance | housing | loan |  contact  | day | month | duration | campaign | pdays | previous | poutcome |  y  |\n",
      "+-----+-------------+----------+-----------+---------+---------+---------+------+-----------+-----+-------+----------+----------+-------+----------+----------+-----+\n",
      "|  21 |   student   |  single  | secondary |    no   |   2488  |    no   |  no  |  cellular |  30 |  jun  |   258    |    6     |  169  |    3     | success  | yes |\n",
      "|  26 | blue-collar |  single  | secondary |    no   |   -32   |   yes   | yes  |  cellular |  31 |  jul  |    14    |    6     |   -1  |    0     | unknown  |  no |\n",
      "|  26 |   services  | divorced | secondary |    no   |    74   |   yes   |  no  |  unknown  |  23 |  may  |   106    |    6     |   -1  |    0     | unknown  |  no |\n",
      "|  26 |   services  |  single  | secondary |    no   |   1347  |    no   |  no  | telephone |  18 |  jun  |   280    |    6     |   92  |    5     |  other   | yes |\n",
      "|  28 |  management |  single  |  tertiary |    no   |   781   |    no   |  no  |  cellular |  9  |  apr  |   125    |    6     |   -1  |    0     | unknown  |  no |\n",
      "+-----+-------------+----------+-----------+---------+---------+---------+------+-----------+-----+-------+----------+----------+-------+----------+----------+-----+\n",
      "Top 5 oldest in campaign 18\n"
     ]
    },
    {
     "data": {
      "text/html": [
       "<span style=\"None\">Running query in &#x27;duckdb:///bank.duck.db&#x27;</span>"
      ],
      "text/plain": [
       "Running query in 'duckdb:///bank.duck.db'"
      ]
     },
     "metadata": {},
     "output_type": "display_data"
    },
    {
     "name": "stdout",
     "output_type": "stream",
     "text": [
      "+-----+-------------+---------+-----------+---------+---------+---------+------+----------+-----+-------+----------+----------+-------+----------+----------+----+\n",
      "| age |     job     | marital | education | default | balance | housing | loan | contact  | day | month | duration | campaign | pdays | previous | poutcome | y  |\n",
      "+-----+-------------+---------+-----------+---------+---------+---------+------+----------+-----+-------+----------+----------+-------+----------+----------+----+\n",
      "|  53 | blue-collar | married | secondary |    no   |    65   |    no   |  no  | cellular |  28 |  aug  |    25    |    18    |   -1  |    0     | unknown  | no |\n",
      "|  38 | blue-collar | married |  primary  |    no   |   1679  |   yes   |  no  | unknown  |  20 |  jun  |    21    |    18    |   -1  |    0     | unknown  | no |\n",
      "|  31 |   services  | married | secondary |    no   |   500   |   yes   |  no  | unknown  |  6  |  jun  |    19    |    18    |   -1  |    0     | unknown  | no |\n",
      "|  30 |  technician |  single |  tertiary |    no   |   799   |   yes   | yes  | unknown  |  6  |  jun  |    91    |    18    |   -1  |    0     | unknown  | no |\n",
      "|  26 |  unemployed | married |  tertiary |    no   |   454   |   yes   | yes  | unknown  |  23 |  may  |    28    |    18    |   -1  |    0     | unknown  | no |\n",
      "+-----+-------------+---------+-----------+---------+---------+---------+------+----------+-----+-------+----------+----------+-------+----------+----------+----+\n",
      "Top 5 youngest in campaign 18\n"
     ]
    },
    {
     "data": {
      "text/html": [
       "<span style=\"None\">Running query in &#x27;duckdb:///bank.duck.db&#x27;</span>"
      ],
      "text/plain": [
       "Running query in 'duckdb:///bank.duck.db'"
      ]
     },
     "metadata": {},
     "output_type": "display_data"
    },
    {
     "name": "stdout",
     "output_type": "stream",
     "text": [
      "+-----+------------+---------+-----------+---------+---------+---------+------+----------+-----+-------+----------+----------+-------+----------+----------+----+\n",
      "| age |    job     | marital | education | default | balance | housing | loan | contact  | day | month | duration | campaign | pdays | previous | poutcome | y  |\n",
      "+-----+------------+---------+-----------+---------+---------+---------+------+----------+-----+-------+----------+----------+-------+----------+----------+----+\n",
      "|  19 |  student   |  single |  unknown  |    no   |   1169  |    no   |  no  | cellular |  6  |  feb  |   463    |    18    |   -1  |    0     | unknown  | no |\n",
      "|  23 |  services  |  single |  tertiary |    no   |   363   |   yes   |  no  | unknown  |  30 |  may  |    16    |    18    |   -1  |    0     | unknown  | no |\n",
      "|  26 | unemployed | married |  tertiary |    no   |   454   |   yes   | yes  | unknown  |  23 |  may  |    28    |    18    |   -1  |    0     | unknown  | no |\n",
      "|  30 | technician |  single |  tertiary |    no   |   799   |   yes   | yes  | unknown  |  6  |  jun  |    91    |    18    |   -1  |    0     | unknown  | no |\n",
      "|  31 |  services  | married | secondary |    no   |   500   |   yes   |  no  | unknown  |  6  |  jun  |    19    |    18    |   -1  |    0     | unknown  | no |\n",
      "+-----+------------+---------+-----------+---------+---------+---------+------+----------+-----+-------+----------+----------+-------+----------+----------+----+\n",
      "Top 5 oldest in campaign 10\n"
     ]
    },
    {
     "data": {
      "text/html": [
       "<span style=\"None\">Running query in &#x27;duckdb:///bank.duck.db&#x27;</span>"
      ],
      "text/plain": [
       "Running query in 'duckdb:///bank.duck.db'"
      ]
     },
     "metadata": {},
     "output_type": "display_data"
    },
    {
     "name": "stdout",
     "output_type": "stream",
     "text": [
      "+-----+-------------+----------+-----------+---------+---------+---------+------+----------+-----+-------+----------+----------+-------+----------+----------+-----+\n",
      "| age |     job     | marital  | education | default | balance | housing | loan | contact  | day | month | duration | campaign | pdays | previous | poutcome |  y  |\n",
      "+-----+-------------+----------+-----------+---------+---------+---------+------+----------+-----+-------+----------+----------+-------+----------+----------+-----+\n",
      "|  83 |   retired   | married  | secondary |    no   |    0    |    no   |  no  | cellular |  18 |  mar  |   140    |    10    |   -1  |    0     | unknown  |  no |\n",
      "|  58 | blue-collar | divorced |  primary  |    no   |   8218  |   yes   |  no  | cellular |  31 |  jul  |   124    |    10    |   -1  |    0     | unknown  |  no |\n",
      "|  57 |    admin.   | divorced |  primary  |    no   |    1    |    no   |  no  | unknown  |  15 |  may  |    17    |    10    |   -1  |    0     | unknown  |  no |\n",
      "|  57 | blue-collar | married  | secondary |    no   |   2887  |    no   |  no  | cellular |  21 |  aug  |   819    |    10    |   -1  |    0     | unknown  | yes |\n",
      "|  56 |   services  | married  | secondary |    no   |   -229  |    no   | yes  | cellular |  23 |  jul  |    55    |    10    |   -1  |    0     | unknown  |  no |\n",
      "+-----+-------------+----------+-----------+---------+---------+---------+------+----------+-----+-------+----------+----------+-------+----------+----------+-----+\n",
      "Top 5 youngest in campaign 10\n"
     ]
    },
    {
     "data": {
      "text/html": [
       "<span style=\"None\">Running query in &#x27;duckdb:///bank.duck.db&#x27;</span>"
      ],
      "text/plain": [
       "Running query in 'duckdb:///bank.duck.db'"
      ]
     },
     "metadata": {},
     "output_type": "display_data"
    },
    {
     "name": "stdout",
     "output_type": "stream",
     "text": [
      "+-----+--------------+---------+-----------+---------+---------+---------+------+----------+-----+-------+----------+----------+-------+----------+----------+----+\n",
      "| age |     job      | marital | education | default | balance | housing | loan | contact  | day | month | duration | campaign | pdays | previous | poutcome | y  |\n",
      "+-----+--------------+---------+-----------+---------+---------+---------+------+----------+-----+-------+----------+----------+-------+----------+----------+----+\n",
      "|  23 |   services   | married | secondary |    no   |   -19   |   yes   |  no  | unknown  |  20 |  jun  |    13    |    10    |   -1  |    0     | unknown  | no |\n",
      "|  27 |   services   |  single | secondary |    no   |   259   |   yes   |  no  | unknown  |  23 |  may  |    78    |    10    |   -1  |    0     | unknown  | no |\n",
      "|  32 | entrepreneur |  single |  tertiary |    no   |   890   |   yes   | yes  | cellular |  28 |  aug  |    27    |    10    |   -1  |    0     | unknown  | no |\n",
      "|  33 |  management  |  single |  tertiary |    no   |    0    |    no   |  no  | cellular |  28 |  aug  |   236    |    10    |   -1  |    0     | unknown  | no |\n",
      "|  34 |  technician  |  single |  tertiary |    no   |   632   |    no   |  no  | cellular |  22 |  aug  |   215    |    10    |   -1  |    0     | unknown  | no |\n",
      "+-----+--------------+---------+-----------+---------+---------+---------+------+----------+-----+-------+----------+----------+-------+----------+----------+----+\n",
      "Top 5 oldest in campaign 9\n"
     ]
    },
    {
     "data": {
      "text/html": [
       "<span style=\"None\">Running query in &#x27;duckdb:///bank.duck.db&#x27;</span>"
      ],
      "text/plain": [
       "Running query in 'duckdb:///bank.duck.db'"
      ]
     },
     "metadata": {},
     "output_type": "display_data"
    },
    {
     "name": "stdout",
     "output_type": "stream",
     "text": [
      "+-----+-------------+---------+-----------+---------+---------+---------+------+-----------+-----+-------+----------+----------+-------+----------+----------+----+\n",
      "| age |     job     | marital | education | default | balance | housing | loan |  contact  | day | month | duration | campaign | pdays | previous | poutcome | y  |\n",
      "+-----+-------------+---------+-----------+---------+---------+---------+------+-----------+-----+-------+----------+----------+-------+----------+----------+----+\n",
      "|  58 |    admin.   | married | secondary |    no   |    2    |   yes   | yes  | telephone |  25 |  jul  |   282    |    9     |   -1  |    0     | unknown  | no |\n",
      "|  56 |   retired   | married |  primary  |    no   |   1906  |    no   | yes  |  unknown  |  19 |  jun  |    45    |    9     |   -1  |    0     | unknown  | no |\n",
      "|  55 | blue-collar | married |  primary  |    no   |   2275  |    no   |  no  |  cellular |  25 |  aug  |   139    |    9     |   -1  |    0     | unknown  | no |\n",
      "|  53 |  management | married |  tertiary |    no   |    37   |    no   |  no  |  cellular |  28 |  aug  |    51    |    9     |   -1  |    0     | unknown  | no |\n",
      "|  53 |  technician | married | secondary |    no   |    0    |    no   |  no  |  cellular |  22 |  aug  |    77    |    9     |   -1  |    0     | unknown  | no |\n",
      "+-----+-------------+---------+-----------+---------+---------+---------+------+-----------+-----+-------+----------+----------+-------+----------+----------+----+\n",
      "Top 5 youngest in campaign 9\n"
     ]
    },
    {
     "data": {
      "text/html": [
       "<span style=\"None\">Running query in &#x27;duckdb:///bank.duck.db&#x27;</span>"
      ],
      "text/plain": [
       "Running query in 'duckdb:///bank.duck.db'"
      ]
     },
     "metadata": {},
     "output_type": "display_data"
    },
    {
     "name": "stdout",
     "output_type": "stream",
     "text": [
      "+-----+-------------+---------+-----------+---------+---------+---------+------+-----------+-----+-------+----------+----------+-------+----------+----------+----+\n",
      "| age |     job     | marital | education | default | balance | housing | loan |  contact  | day | month | duration | campaign | pdays | previous | poutcome | y  |\n",
      "+-----+-------------+---------+-----------+---------+---------+---------+------+-----------+-----+-------+----------+----------+-------+----------+----------+----+\n",
      "|  23 |   student   |  single | secondary |    no   |   1021  |    no   |  no  | telephone |  19 |  jun  |    79    |    9     |   -1  |    0     | unknown  | no |\n",
      "|  26 |  technician |  single | secondary |    no   |   1275  |   yes   |  no  |  unknown  |  20 |  jun  |    18    |    9     |   -1  |    0     | unknown  | no |\n",
      "|  28 | blue-collar | married | secondary |    no   |   373   |   yes   |  no  |  cellular |  14 |  may  |    10    |    9     |  344  |    1     | failure  | no |\n",
      "|  29 |   services  | married | secondary |    no   |    57   |   yes   |  no  | telephone |  21 |  jul  |   342    |    9     |   -1  |    0     | unknown  | no |\n",
      "|  31 | blue-collar | married |  primary  |    no   |   352   |   yes   |  no  |  unknown  |  19 |  may  |    97    |    9     |   -1  |    0     | unknown  | no |\n",
      "+-----+-------------+---------+-----------+---------+---------+---------+------+-----------+-----+-------+----------+----------+-------+----------+----------+----+\n",
      "Top 5 oldest in campaign 7\n"
     ]
    },
    {
     "data": {
      "text/html": [
       "<span style=\"None\">Running query in &#x27;duckdb:///bank.duck.db&#x27;</span>"
      ],
      "text/plain": [
       "Running query in 'duckdb:///bank.duck.db'"
      ]
     },
     "metadata": {},
     "output_type": "display_data"
    },
    {
     "name": "stdout",
     "output_type": "stream",
     "text": [
      "+-----+-----------+----------+-----------+---------+---------+---------+------+-----------+-----+-------+----------+----------+-------+----------+----------+-----+\n",
      "| age |    job    | marital  | education | default | balance | housing | loan |  contact  | day | month | duration | campaign | pdays | previous | poutcome |  y  |\n",
      "+-----+-----------+----------+-----------+---------+---------+---------+------+-----------+-----+-------+----------+----------+-------+----------+----------+-----+\n",
      "|  79 |  retired  | divorced |  unknown  |    no   |   2628  |    no   |  no  | telephone |  8  |  jul  |   220    |    7     |  450  |    2     | failure  |  no |\n",
      "|  75 |  retired  | divorced | secondary |    no   |   1341  |    no   |  no  |  cellular |  18 |  dec  |   415    |    7     |   -1  |    0     | unknown  | yes |\n",
      "|  65 | housemaid | married  |  primary  |    no   |   2179  |   yes   |  no  |  cellular |  4  |  sep  |   112    |    7     |   -1  |    0     | unknown  |  no |\n",
      "|  61 |  retired  | married  | secondary |    no   |    76   |   yes   |  no  |  cellular |  15 |  jul  |   195    |    7     |   -1  |    0     | unknown  |  no |\n",
      "|  59 |  retired  | married  |  primary  |    no   |    0    |   yes   |  no  |  unknown  |  26 |  may  |   104    |    7     |   -1  |    0     | unknown  |  no |\n",
      "+-----+-----------+----------+-----------+---------+---------+---------+------+-----------+-----+-------+----------+----------+-------+----------+----------+-----+\n",
      "Top 5 youngest in campaign 7\n"
     ]
    },
    {
     "data": {
      "text/html": [
       "<span style=\"None\">Running query in &#x27;duckdb:///bank.duck.db&#x27;</span>"
      ],
      "text/plain": [
       "Running query in 'duckdb:///bank.duck.db'"
      ]
     },
     "metadata": {},
     "output_type": "display_data"
    },
    {
     "name": "stdout",
     "output_type": "stream",
     "text": [
      "+-----+-------------+---------+-----------+---------+---------+---------+------+----------+-----+-------+----------+----------+-------+----------+----------+----+\n",
      "| age |     job     | marital | education | default | balance | housing | loan | contact  | day | month | duration | campaign | pdays | previous | poutcome | y  |\n",
      "+-----+-------------+---------+-----------+---------+---------+---------+------+----------+-----+-------+----------+----------+-------+----------+----------+----+\n",
      "|  24 | blue-collar | married | secondary |    no   |    9    |   yes   |  no  | unknown  |  27 |  may  |   292    |    7     |   -1  |    0     | unknown  | no |\n",
      "|  26 |    admin.   |  single | secondary |    no   |   321   |   yes   |  no  | cellular |  22 |  jul  |   242    |    7     |   -1  |    0     | unknown  | no |\n",
      "|  27 |   services  |  single | secondary |    no   |    0    |   yes   |  no  | unknown  |  7  |  may  |   388    |    7     |   -1  |    0     | unknown  | no |\n",
      "|  28 |  technician |  single | secondary |   yes   |   -298  |   yes   |  no  | unknown  |  3  |  jun  |   559    |    7     |   -1  |    0     | unknown  | no |\n",
      "|  28 |  technician |  single | secondary |    no   |   389   |   yes   |  no  | cellular |  11 |  may  |    15    |    7     |   -1  |    0     | unknown  | no |\n",
      "+-----+-------------+---------+-----------+---------+---------+---------+------+----------+-----+-------+----------+----------+-------+----------+----------+----+\n",
      "Top 5 oldest in campaign 12\n"
     ]
    },
    {
     "data": {
      "text/html": [
       "<span style=\"None\">Running query in &#x27;duckdb:///bank.duck.db&#x27;</span>"
      ],
      "text/plain": [
       "Running query in 'duckdb:///bank.duck.db'"
      ]
     },
     "metadata": {},
     "output_type": "display_data"
    },
    {
     "name": "stdout",
     "output_type": "stream",
     "text": [
      "+-----+---------------+---------+-----------+---------+---------+---------+------+-----------+-----+-------+----------+----------+-------+----------+----------+----+\n",
      "| age |      job      | marital | education | default | balance | housing | loan |  contact  | day | month | duration | campaign | pdays | previous | poutcome | y  |\n",
      "+-----+---------------+---------+-----------+---------+---------+---------+------+-----------+-----+-------+----------+----------+-------+----------+----------+----+\n",
      "|  76 |    retired    | married |  primary  |    no   |   2590  |    no   |  no  | telephone |  9  |  feb  |    68    |    12    |   -1  |    0     | unknown  | no |\n",
      "|  57 |  blue-collar  | married |  primary  |    no   |   282   |    no   | yes  |  cellular |  7  |  jul  |   261    |    12    |   -1  |    0     | unknown  | no |\n",
      "|  55 | self-employed | married | secondary |    no   |   2678  |    no   | yes  |  cellular |  18 |  aug  |   151    |    12    |   -1  |    0     | unknown  | no |\n",
      "|  52 |    services   | married | secondary |    no   |   108   |   yes   |  no  |  unknown  |  15 |  may  |   543    |    12    |   -1  |    0     | unknown  | no |\n",
      "|  52 |    services   | married | secondary |    no   |   381   |    no   | yes  |  cellular |  25 |  aug  |   288    |    12    |   -1  |    0     | unknown  | no |\n",
      "+-----+---------------+---------+-----------+---------+---------+---------+------+-----------+-----+-------+----------+----------+-------+----------+----------+----+\n",
      "Top 5 youngest in campaign 12\n"
     ]
    },
    {
     "data": {
      "text/html": [
       "<span style=\"None\">Running query in &#x27;duckdb:///bank.duck.db&#x27;</span>"
      ],
      "text/plain": [
       "Running query in 'duckdb:///bank.duck.db'"
      ]
     },
     "metadata": {},
     "output_type": "display_data"
    },
    {
     "name": "stdout",
     "output_type": "stream",
     "text": [
      "+-----+-------------+---------+-----------+---------+---------+---------+------+----------+-----+-------+----------+----------+-------+----------+----------+-----+\n",
      "| age |     job     | marital | education | default | balance | housing | loan | contact  | day | month | duration | campaign | pdays | previous | poutcome |  y  |\n",
      "+-----+-------------+---------+-----------+---------+---------+---------+------+----------+-----+-------+----------+----------+-------+----------+----------+-----+\n",
      "|  24 | blue-collar |  single |  unknown  |    no   |   431   |   yes   |  no  | unknown  |  3  |  jun  |   108    |    12    |   -1  |    0     | unknown  |  no |\n",
      "|  25 |    admin.   | married | secondary |    no   |   242   |   yes   |  no  | cellular |  30 |  jul  |    62    |    12    |   -1  |    0     | unknown  |  no |\n",
      "|  30 |  technician | married |  tertiary |    no   |   569   |    no   |  no  | cellular |  27 |  aug  |   976    |    12    |   -1  |    0     | unknown  | yes |\n",
      "|  31 |  management |  single |  tertiary |    no   |   1494  |    no   |  no  | cellular |  13 |  aug  |   275    |    12    |   -1  |    0     | unknown  |  no |\n",
      "|  31 |    admin.   | married | secondary |    no   |    3    |   yes   |  no  | cellular |  28 |  jul  |    37    |    12    |   -1  |    0     | unknown  |  no |\n",
      "+-----+-------------+---------+-----------+---------+---------+---------+------+----------+-----+-------+----------+----------+-------+----------+----------+-----+\n",
      "Top 5 oldest in campaign 14\n"
     ]
    },
    {
     "data": {
      "text/html": [
       "<span style=\"None\">Running query in &#x27;duckdb:///bank.duck.db&#x27;</span>"
      ],
      "text/plain": [
       "Running query in 'duckdb:///bank.duck.db'"
      ]
     },
     "metadata": {},
     "output_type": "display_data"
    },
    {
     "name": "stdout",
     "output_type": "stream",
     "text": [
      "+-----+---------------+---------+-----------+---------+---------+---------+------+-----------+-----+-------+----------+----------+-------+----------+----------+----+\n",
      "| age |      job      | marital | education | default | balance | housing | loan |  contact  | day | month | duration | campaign | pdays | previous | poutcome | y  |\n",
      "+-----+---------------+---------+-----------+---------+---------+---------+------+-----------+-----+-------+----------+----------+-------+----------+----------+----+\n",
      "|  56 |    retired    | married | secondary |    no   |   1333  |    no   |  no  |  cellular |  28 |  aug  |    17    |    14    |   -1  |    0     | unknown  | no |\n",
      "|  50 |  blue-collar  | married | secondary |    no   |   810   |   yes   |  no  |  unknown  |  14 |  may  |    19    |    14    |   -1  |    0     | unknown  | no |\n",
      "|  50 |   technician  | married |  tertiary |    no   |   3337  |   yes   | yes  | telephone |  31 |  jul  |    24    |    14    |   -1  |    0     | unknown  | no |\n",
      "|  47 | self-employed | married |  tertiary |    no   |   751   |    no   |  no  |  cellular |  24 |  jul  |   408    |    14    |   -1  |    0     | unknown  | no |\n",
      "|  46 |  entrepreneur | married |  tertiary |    no   |   2262  |    no   |  no  | telephone |  14 |  jul  |    44    |    14    |   -1  |    0     | unknown  | no |\n",
      "+-----+---------------+---------+-----------+---------+---------+---------+------+-----------+-----+-------+----------+----------+-------+----------+----------+----+\n",
      "Top 5 youngest in campaign 14\n"
     ]
    },
    {
     "data": {
      "text/html": [
       "<span style=\"None\">Running query in &#x27;duckdb:///bank.duck.db&#x27;</span>"
      ],
      "text/plain": [
       "Running query in 'duckdb:///bank.duck.db'"
      ]
     },
     "metadata": {},
     "output_type": "display_data"
    },
    {
     "name": "stdout",
     "output_type": "stream",
     "text": [
      "+-----+------------+---------+-----------+---------+---------+---------+------+-----------+-----+-------+----------+----------+-------+----------+----------+----+\n",
      "| age |    job     | marital | education | default | balance | housing | loan |  contact  | day | month | duration | campaign | pdays | previous | poutcome | y  |\n",
      "+-----+------------+---------+-----------+---------+---------+---------+------+-----------+-----+-------+----------+----------+-------+----------+----------+----+\n",
      "|  31 | management | married |  tertiary |    no   |   459   |    no   |  no  |  cellular |  28 |  aug  |    13    |    14    |   -1  |    0     | unknown  | no |\n",
      "|  32 | technician | married | secondary |    no   |   485   |    no   |  no  |  cellular |  26 |  aug  |    98    |    14    |   -1  |    0     | unknown  | no |\n",
      "|  35 |  services  | married | secondary |    no   |   819   |   yes   |  no  | telephone |  14 |  jul  |   102    |    14    |   -1  |    0     | unknown  | no |\n",
      "|  43 | management | married | secondary |    no   |  17555  |    no   |  no  |  cellular |  26 |  aug  |    14    |    14    |   -1  |    0     | unknown  | no |\n",
      "|  45 | technician |  single |  tertiary |    no   |   2087  |    no   |  no  |  cellular |  29 |  aug  |    29    |    14    |   -1  |    0     | unknown  | no |\n",
      "+-----+------------+---------+-----------+---------+---------+---------+------+-----------+-----+-------+----------+----------+-------+----------+----------+----+\n",
      "Top 5 oldest in campaign 13\n"
     ]
    },
    {
     "data": {
      "text/html": [
       "<span style=\"None\">Running query in &#x27;duckdb:///bank.duck.db&#x27;</span>"
      ],
      "text/plain": [
       "Running query in 'duckdb:///bank.duck.db'"
      ]
     },
     "metadata": {},
     "output_type": "display_data"
    },
    {
     "name": "stdout",
     "output_type": "stream",
     "text": [
      "+-----+--------------+----------+-----------+---------+---------+---------+------+-----------+-----+-------+----------+----------+-------+----------+----------+----+\n",
      "| age |     job      | marital  | education | default | balance | housing | loan |  contact  | day | month | duration | campaign | pdays | previous | poutcome | y  |\n",
      "+-----+--------------+----------+-----------+---------+---------+---------+------+-----------+-----+-------+----------+----------+-------+----------+----------+----+\n",
      "|  58 | blue-collar  | married  | secondary |    no   |   -27   |    no   | yes  | telephone |  31 |  jul  |    77    |    13    |   -1  |    0     | unknown  | no |\n",
      "|  55 | entrepreneur | married  | secondary |    no   |   204   |    no   |  no  |  cellular |  14 |  jul  |   455    |    13    |   -1  |    0     | unknown  | no |\n",
      "|  52 | blue-collar  | married  | secondary |    no   |   289   |   yes   |  no  |  unknown  |  21 |  may  |    45    |    13    |   -1  |    0     | unknown  | no |\n",
      "|  47 |  technician  | divorced | secondary |    no   |   2914  |   yes   |  no  |  cellular |  18 |  aug  |   405    |    13    |   -1  |    0     | unknown  | no |\n",
      "|  46 |  management  | married  |  tertiary |    no   |   1008  |    no   |  no  |  cellular |  29 |  aug  |    24    |    13    |   -1  |    0     | unknown  | no |\n",
      "+-----+--------------+----------+-----------+---------+---------+---------+------+-----------+-----+-------+----------+----------+-------+----------+----------+----+\n",
      "Top 5 youngest in campaign 13\n"
     ]
    },
    {
     "data": {
      "text/html": [
       "<span style=\"None\">Running query in &#x27;duckdb:///bank.duck.db&#x27;</span>"
      ],
      "text/plain": [
       "Running query in 'duckdb:///bank.duck.db'"
      ]
     },
     "metadata": {},
     "output_type": "display_data"
    },
    {
     "name": "stdout",
     "output_type": "stream",
     "text": [
      "+-----+------------+---------+-----------+---------+---------+---------+------+----------+-----+-------+----------+----------+-------+----------+----------+-----+\n",
      "| age |    job     | marital | education | default | balance | housing | loan | contact  | day | month | duration | campaign | pdays | previous | poutcome |  y  |\n",
      "+-----+------------+---------+-----------+---------+---------+---------+------+----------+-----+-------+----------+----------+-------+----------+----------+-----+\n",
      "|  27 |  services  | married | secondary |    no   |    0    |   yes   |  no  | cellular |  23 |  jul  |   198    |    13    |   -1  |    0     | unknown  |  no |\n",
      "|  27 |  services  | married | secondary |    no   |    0    |   yes   |  no  | cellular |  22 |  jul  |   1608   |    13    |   -1  |    0     | unknown  | yes |\n",
      "|  28 |  student   |  single | secondary |    no   |   459   |    no   |  no  | cellular |  16 |  mar  |    83    |    13    |   -1  |    0     | unknown  |  no |\n",
      "|  31 | management | married |  tertiary |    no   |   8312  |    no   |  no  | cellular |  29 |  aug  |    43    |    13    |   -1  |    0     | unknown  |  no |\n",
      "|  32 |  services  |  single | secondary |    no   |    0    |   yes   |  no  | cellular |  31 |  jul  |    99    |    13    |   -1  |    0     | unknown  |  no |\n",
      "+-----+------------+---------+-----------+---------+---------+---------+------+----------+-----+-------+----------+----------+-------+----------+----------+-----+\n",
      "Top 5 oldest in campaign 24\n"
     ]
    },
    {
     "data": {
      "text/html": [
       "<span style=\"None\">Running query in &#x27;duckdb:///bank.duck.db&#x27;</span>"
      ],
      "text/plain": [
       "Running query in 'duckdb:///bank.duck.db'"
      ]
     },
     "metadata": {},
     "output_type": "display_data"
    },
    {
     "name": "stdout",
     "output_type": "stream",
     "text": [
      "+-----+--------------+---------+-----------+---------+---------+---------+------+----------+-----+-------+----------+----------+-------+----------+----------+-----+\n",
      "| age |     job      | marital | education | default | balance | housing | loan | contact  | day | month | duration | campaign | pdays | previous | poutcome |  y  |\n",
      "+-----+--------------+---------+-----------+---------+---------+---------+------+----------+-----+-------+----------+----------+-------+----------+----------+-----+\n",
      "|  44 |  management  | married |  tertiary |    no   |   795   |    no   |  no  | cellular |  28 |  aug  |    99    |    24    |   -1  |    0     | unknown  |  no |\n",
      "|  42 |    admin.    | married | secondary |    no   |   214   |   yes   |  no  | unknown  |  28 |  may  |    21    |    24    |   -1  |    0     | unknown  |  no |\n",
      "|  38 | entrepreneur | married | secondary |    no   |   593   |   yes   | yes  | cellular |  24 |  jul  |   1484   |    24    |   -1  |    0     | unknown  | yes |\n",
      "+-----+--------------+---------+-----------+---------+---------+---------+------+----------+-----+-------+----------+----------+-------+----------+----------+-----+\n",
      "Top 5 youngest in campaign 24\n"
     ]
    },
    {
     "data": {
      "text/html": [
       "<span style=\"None\">Running query in &#x27;duckdb:///bank.duck.db&#x27;</span>"
      ],
      "text/plain": [
       "Running query in 'duckdb:///bank.duck.db'"
      ]
     },
     "metadata": {},
     "output_type": "display_data"
    },
    {
     "name": "stdout",
     "output_type": "stream",
     "text": [
      "+-----+--------------+---------+-----------+---------+---------+---------+------+----------+-----+-------+----------+----------+-------+----------+----------+-----+\n",
      "| age |     job      | marital | education | default | balance | housing | loan | contact  | day | month | duration | campaign | pdays | previous | poutcome |  y  |\n",
      "+-----+--------------+---------+-----------+---------+---------+---------+------+----------+-----+-------+----------+----------+-------+----------+----------+-----+\n",
      "|  38 | entrepreneur | married | secondary |    no   |   593   |   yes   | yes  | cellular |  24 |  jul  |   1484   |    24    |   -1  |    0     | unknown  | yes |\n",
      "|  42 |    admin.    | married | secondary |    no   |   214   |   yes   |  no  | unknown  |  28 |  may  |    21    |    24    |   -1  |    0     | unknown  |  no |\n",
      "|  44 |  management  | married |  tertiary |    no   |   795   |    no   |  no  | cellular |  28 |  aug  |    99    |    24    |   -1  |    0     | unknown  |  no |\n",
      "+-----+--------------+---------+-----------+---------+---------+---------+------+----------+-----+-------+----------+----------+-------+----------+----------+-----+\n",
      "Top 5 oldest in campaign 11\n"
     ]
    },
    {
     "data": {
      "text/html": [
       "<span style=\"None\">Running query in &#x27;duckdb:///bank.duck.db&#x27;</span>"
      ],
      "text/plain": [
       "Running query in 'duckdb:///bank.duck.db'"
      ]
     },
     "metadata": {},
     "output_type": "display_data"
    },
    {
     "name": "stdout",
     "output_type": "stream",
     "text": [
      "+-----+------------+---------+-----------+---------+---------+---------+------+----------+-----+-------+----------+----------+-------+----------+----------+----+\n",
      "| age |    job     | marital | education | default | balance | housing | loan | contact  | day | month | duration | campaign | pdays | previous | poutcome | y  |\n",
      "+-----+------------+---------+-----------+---------+---------+---------+------+----------+-----+-------+----------+----------+-------+----------+----------+----+\n",
      "|  59 | housemaid  | married |  primary  |    no   |    0    |    no   |  no  | cellular |  27 |  aug  |    76    |    11    |   -1  |    0     | unknown  | no |\n",
      "|  58 | management | married | secondary |    no   |    37   |    no   |  no  | cellular |  18 |  aug  |    84    |    11    |   -1  |    0     | unknown  | no |\n",
      "|  57 | technician | married | secondary |    no   |   295   |    no   |  no  | cellular |  19 |  aug  |   151    |    11    |   -1  |    0     | unknown  | no |\n",
      "|  56 |  services  | married | secondary |    no   |    83   |    no   |  no  | cellular |  27 |  aug  |    26    |    11    |   -1  |    0     | unknown  | no |\n",
      "|  52 |   admin.   |  single |  primary  |    no   |    0    |    no   |  no  | unknown  |  19 |  may  |   182    |    11    |   -1  |    0     | unknown  | no |\n",
      "+-----+------------+---------+-----------+---------+---------+---------+------+----------+-----+-------+----------+----------+-------+----------+----------+----+\n",
      "Top 5 youngest in campaign 11\n"
     ]
    },
    {
     "data": {
      "text/html": [
       "<span style=\"None\">Running query in &#x27;duckdb:///bank.duck.db&#x27;</span>"
      ],
      "text/plain": [
       "Running query in 'duckdb:///bank.duck.db'"
      ]
     },
     "metadata": {},
     "output_type": "display_data"
    },
    {
     "name": "stdout",
     "output_type": "stream",
     "text": [
      "+-----+-------------+---------+-----------+---------+---------+---------+------+----------+-----+-------+----------+----------+-------+----------+----------+----+\n",
      "| age |     job     | marital | education | default | balance | housing | loan | contact  | day | month | duration | campaign | pdays | previous | poutcome | y  |\n",
      "+-----+-------------+---------+-----------+---------+---------+---------+------+----------+-----+-------+----------+----------+-------+----------+----------+----+\n",
      "|  25 |   services  |  single | secondary |    no   |    64   |    no   |  no  | cellular |  21 |  jul  |    71    |    11    |   -1  |    0     | unknown  | no |\n",
      "|  26 | blue-collar | married | secondary |    no   |   245   |   yes   |  no  | unknown  |  26 |  may  |    16    |    11    |   -1  |    0     | unknown  | no |\n",
      "|  26 |  management |  single | secondary |    no   |   565   |   yes   |  no  | unknown  |  6  |  jun  |   582    |    11    |   -1  |    0     | unknown  | no |\n",
      "|  30 |  management |  single |  tertiary |    no   |    18   |    no   |  no  | unknown  |  20 |  may  |   121    |    11    |   -1  |    0     | unknown  | no |\n",
      "|  30 |  management |  single |  tertiary |    no   |   6164  |   yes   |  no  | unknown  |  27 |  may  |   152    |    11    |   -1  |    0     | unknown  | no |\n",
      "+-----+-------------+---------+-----------+---------+---------+---------+------+----------+-----+-------+----------+----------+-------+----------+----------+----+\n",
      "Top 5 oldest in campaign 8\n"
     ]
    },
    {
     "data": {
      "text/html": [
       "<span style=\"None\">Running query in &#x27;duckdb:///bank.duck.db&#x27;</span>"
      ],
      "text/plain": [
       "Running query in 'duckdb:///bank.duck.db'"
      ]
     },
     "metadata": {},
     "output_type": "display_data"
    },
    {
     "name": "stdout",
     "output_type": "stream",
     "text": [
      "+-----+------------+----------+-----------+---------+---------+---------+------+----------+-----+-------+----------+----------+-------+----------+----------+----+\n",
      "| age |    job     | marital  | education | default | balance | housing | loan | contact  | day | month | duration | campaign | pdays | previous | poutcome | y  |\n",
      "+-----+------------+----------+-----------+---------+---------+---------+------+----------+-----+-------+----------+----------+-------+----------+----------+----+\n",
      "|  60 |   admin.   | married  | secondary |    no   |   1025  |    no   |  no  | cellular |  6  |  aug  |   388    |    8     |   -1  |    0     | unknown  | no |\n",
      "|  59 | management | divorced |  tertiary |    no   |    0    |   yes   |  no  | cellular |  31 |  jul  |    52    |    8     |   -1  |    0     | unknown  | no |\n",
      "|  58 | unemployed | married  |  tertiary |    no   |   1798  |   yes   |  no  | cellular |  5  |  feb  |    19    |    8     |   -1  |    0     | unknown  | no |\n",
      "|  57 |   admin.   | divorced |  unknown  |    no   |   887   |    no   |  no  | unknown  |  20 |  jun  |    43    |    8     |   -1  |    0     | unknown  | no |\n",
      "|  57 | technician | married  |  primary  |    no   |    0    |    no   |  no  | unknown  |  5  |  jun  |    58    |    8     |   -1  |    0     | unknown  | no |\n",
      "+-----+------------+----------+-----------+---------+---------+---------+------+----------+-----+-------+----------+----------+-------+----------+----------+----+\n",
      "Top 5 youngest in campaign 8\n"
     ]
    },
    {
     "data": {
      "text/html": [
       "<span style=\"None\">Running query in &#x27;duckdb:///bank.duck.db&#x27;</span>"
      ],
      "text/plain": [
       "Running query in 'duckdb:///bank.duck.db'"
      ]
     },
     "metadata": {},
     "output_type": "display_data"
    },
    {
     "name": "stdout",
     "output_type": "stream",
     "text": [
      "+-----+-------------+---------+-----------+---------+---------+---------+------+-----------+-----+-------+----------+----------+-------+----------+----------+----+\n",
      "| age |     job     | marital | education | default | balance | housing | loan |  contact  | day | month | duration | campaign | pdays | previous | poutcome | y  |\n",
      "+-----+-------------+---------+-----------+---------+---------+---------+------+-----------+-----+-------+----------+----------+-------+----------+----------+----+\n",
      "|  26 |    admin.   | married | secondary |    no   |   2469  |    no   |  no  |  cellular |  16 |  jul  |   136    |    8     |   -1  |    0     | unknown  | no |\n",
      "|  27 |    admin.   |  single | secondary |    no   |   -145  |   yes   |  no  | telephone |  15 |  may  |   289    |    8     |   -1  |    0     | unknown  | no |\n",
      "|  28 |  technician |  single | secondary |    no   |    3    |    no   |  no  | telephone |  18 |  may  |    40    |    8     |  349  |    6     | failure  | no |\n",
      "|  29 | blue-collar | married | secondary |    no   |   228   |   yes   |  no  |  cellular |  11 |  may  |    12    |    8     |  342  |    9     | failure  | no |\n",
      "|  30 |  technician |  single |  tertiary |    no   |   6619  |   yes   |  no  |  cellular |  21 |  aug  |   239    |    8     |   -1  |    0     | unknown  | no |\n",
      "+-----+-------------+---------+-----------+---------+---------+---------+------+-----------+-----+-------+----------+----------+-------+----------+----------+----+\n",
      "Top 5 oldest in campaign 29\n"
     ]
    },
    {
     "data": {
      "text/html": [
       "<span style=\"None\">Running query in &#x27;duckdb:///bank.duck.db&#x27;</span>"
      ],
      "text/plain": [
       "Running query in 'duckdb:///bank.duck.db'"
      ]
     },
     "metadata": {},
     "output_type": "display_data"
    },
    {
     "name": "stdout",
     "output_type": "stream",
     "text": [
      "+-----+------------+---------+-----------+---------+---------+---------+------+----------+-----+-------+----------+----------+-------+----------+----------+----+\n",
      "| age |    job     | marital | education | default | balance | housing | loan | contact  | day | month | duration | campaign | pdays | previous | poutcome | y  |\n",
      "+-----+------------+---------+-----------+---------+---------+---------+------+----------+-----+-------+----------+----------+-------+----------+----------+----+\n",
      "|  36 | management | married |  tertiary |    no   |   -381  |   yes   |  no  | cellular |  31 |  jul  |    30    |    29    |   -1  |    0     | unknown  | no |\n",
      "+-----+------------+---------+-----------+---------+---------+---------+------+----------+-----+-------+----------+----------+-------+----------+----------+----+\n",
      "Top 5 youngest in campaign 29\n"
     ]
    },
    {
     "data": {
      "text/html": [
       "<span style=\"None\">Running query in &#x27;duckdb:///bank.duck.db&#x27;</span>"
      ],
      "text/plain": [
       "Running query in 'duckdb:///bank.duck.db'"
      ]
     },
     "metadata": {},
     "output_type": "display_data"
    },
    {
     "name": "stdout",
     "output_type": "stream",
     "text": [
      "+-----+------------+---------+-----------+---------+---------+---------+------+----------+-----+-------+----------+----------+-------+----------+----------+----+\n",
      "| age |    job     | marital | education | default | balance | housing | loan | contact  | day | month | duration | campaign | pdays | previous | poutcome | y  |\n",
      "+-----+------------+---------+-----------+---------+---------+---------+------+----------+-----+-------+----------+----------+-------+----------+----------+----+\n",
      "|  36 | management | married |  tertiary |    no   |   -381  |   yes   |  no  | cellular |  31 |  jul  |    30    |    29    |   -1  |    0     | unknown  | no |\n",
      "+-----+------------+---------+-----------+---------+---------+---------+------+----------+-----+-------+----------+----------+-------+----------+----------+----+\n",
      "Top 5 oldest in campaign 32\n"
     ]
    },
    {
     "data": {
      "text/html": [
       "<span style=\"None\">Running query in &#x27;duckdb:///bank.duck.db&#x27;</span>"
      ],
      "text/plain": [
       "Running query in 'duckdb:///bank.duck.db'"
      ]
     },
     "metadata": {},
     "output_type": "display_data"
    },
    {
     "name": "stdout",
     "output_type": "stream",
     "text": [
      "+-----+---------------+---------+-----------+---------+---------+---------+------+---------+-----+-------+----------+----------+-------+----------+----------+----+\n",
      "| age |      job      | marital | education | default | balance | housing | loan | contact | day | month | duration | campaign | pdays | previous | poutcome | y  |\n",
      "+-----+---------------+---------+-----------+---------+---------+---------+------+---------+-----+-------+----------+----------+-------+----------+----------+----+\n",
      "|  42 | self-employed | married |  tertiary |    no   |   1932  |   yes   |  no  | unknown |  16 |  may  |   192    |    32    |   -1  |    0     | unknown  | no |\n",
      "|  38 |     admin.    | married |  primary  |    no   |    0    |   yes   |  no  | unknown |  2  |  jun  |    29    |    32    |   -1  |    0     | unknown  | no |\n",
      "+-----+---------------+---------+-----------+---------+---------+---------+------+---------+-----+-------+----------+----------+-------+----------+----------+----+\n",
      "Top 5 youngest in campaign 32\n"
     ]
    },
    {
     "data": {
      "text/html": [
       "<span style=\"None\">Running query in &#x27;duckdb:///bank.duck.db&#x27;</span>"
      ],
      "text/plain": [
       "Running query in 'duckdb:///bank.duck.db'"
      ]
     },
     "metadata": {},
     "output_type": "display_data"
    },
    {
     "name": "stdout",
     "output_type": "stream",
     "text": [
      "+-----+---------------+---------+-----------+---------+---------+---------+------+---------+-----+-------+----------+----------+-------+----------+----------+----+\n",
      "| age |      job      | marital | education | default | balance | housing | loan | contact | day | month | duration | campaign | pdays | previous | poutcome | y  |\n",
      "+-----+---------------+---------+-----------+---------+---------+---------+------+---------+-----+-------+----------+----------+-------+----------+----------+----+\n",
      "|  38 |     admin.    | married |  primary  |    no   |    0    |   yes   |  no  | unknown |  2  |  jun  |    29    |    32    |   -1  |    0     | unknown  | no |\n",
      "|  42 | self-employed | married |  tertiary |    no   |   1932  |   yes   |  no  | unknown |  16 |  may  |   192    |    32    |   -1  |    0     | unknown  | no |\n",
      "+-----+---------------+---------+-----------+---------+---------+---------+------+---------+-----+-------+----------+----------+-------+----------+----------+----+\n",
      "Top 5 oldest in campaign 16\n"
     ]
    },
    {
     "data": {
      "text/html": [
       "<span style=\"None\">Running query in &#x27;duckdb:///bank.duck.db&#x27;</span>"
      ],
      "text/plain": [
       "Running query in 'duckdb:///bank.duck.db'"
      ]
     },
     "metadata": {},
     "output_type": "display_data"
    },
    {
     "name": "stdout",
     "output_type": "stream",
     "text": [
      "+-----+---------------+----------+-----------+---------+---------+---------+------+----------+-----+-------+----------+----------+-------+----------+----------+----+\n",
      "| age |      job      | marital  | education | default | balance | housing | loan | contact  | day | month | duration | campaign | pdays | previous | poutcome | y  |\n",
      "+-----+---------------+----------+-----------+---------+---------+---------+------+----------+-----+-------+----------+----------+-------+----------+----------+----+\n",
      "|  48 |   management  | married  |  tertiary |    no   |    0    |    no   |  no  | cellular |  28 |  aug  |    16    |    16    |   -1  |    0     | unknown  | no |\n",
      "|  44 |   management  | married  | secondary |    no   |   8262  |   yes   |  no  | cellular |  23 |  jul  |   201    |    16    |   -1  |    0     | unknown  | no |\n",
      "|  42 |    services   | married  | secondary |    no   |   3620  |   yes   |  no  | unknown  |  27 |  may  |    22    |    16    |   -1  |    0     | unknown  | no |\n",
      "|  37 | self-employed | married  | secondary |    no   |   4153  |   yes   |  no  | cellular |  31 |  jul  |    35    |    16    |   -1  |    0     | unknown  | no |\n",
      "|  34 |   technician  | divorced | secondary |    no   |    0    |   yes   | yes  | cellular |  18 |  aug  |   374    |    16    |   -1  |    0     | unknown  | no |\n",
      "+-----+---------------+----------+-----------+---------+---------+---------+------+----------+-----+-------+----------+----------+-------+----------+----------+----+\n",
      "Top 5 youngest in campaign 16\n"
     ]
    },
    {
     "data": {
      "text/html": [
       "<span style=\"None\">Running query in &#x27;duckdb:///bank.duck.db&#x27;</span>"
      ],
      "text/plain": [
       "Running query in 'duckdb:///bank.duck.db'"
      ]
     },
     "metadata": {},
     "output_type": "display_data"
    },
    {
     "name": "stdout",
     "output_type": "stream",
     "text": [
      "+-----+---------------+----------+-----------+---------+---------+---------+------+----------+-----+-------+----------+----------+-------+----------+----------+----+\n",
      "| age |      job      | marital  | education | default | balance | housing | loan | contact  | day | month | duration | campaign | pdays | previous | poutcome | y  |\n",
      "+-----+---------------+----------+-----------+---------+---------+---------+------+----------+-----+-------+----------+----------+-------+----------+----------+----+\n",
      "|  30 |   management  |  single  |  tertiary |    no   |   329   |   yes   |  no  | unknown  |  6  |  jun  |   122    |    16    |   -1  |    0     | unknown  | no |\n",
      "|  31 |   management  |  single  |  tertiary |    no   |    0    |    no   |  no  | cellular |  28 |  aug  |    38    |    16    |   -1  |    0     | unknown  | no |\n",
      "|  31 |   management  | married  |  tertiary |    no   |   430   |   yes   |  no  | cellular |  25 |  jul  |   137    |    16    |   -1  |    0     | unknown  | no |\n",
      "|  34 |   technician  | divorced | secondary |    no   |    0    |   yes   | yes  | cellular |  18 |  aug  |   374    |    16    |   -1  |    0     | unknown  | no |\n",
      "|  37 | self-employed | married  | secondary |    no   |   4153  |   yes   |  no  | cellular |  31 |  jul  |    35    |    16    |   -1  |    0     | unknown  | no |\n",
      "+-----+---------------+----------+-----------+---------+---------+---------+------+----------+-----+-------+----------+----------+-------+----------+----------+----+\n",
      "Top 5 oldest in campaign 22\n"
     ]
    },
    {
     "data": {
      "text/html": [
       "<span style=\"None\">Running query in &#x27;duckdb:///bank.duck.db&#x27;</span>"
      ],
      "text/plain": [
       "Running query in 'duckdb:///bank.duck.db'"
      ]
     },
     "metadata": {},
     "output_type": "display_data"
    },
    {
     "name": "stdout",
     "output_type": "stream",
     "text": [
      "+-----+------------+---------+-----------+---------+---------+---------+------+----------+-----+-------+----------+----------+-------+----------+----------+----+\n",
      "| age |    job     | marital | education | default | balance | housing | loan | contact  | day | month | duration | campaign | pdays | previous | poutcome | y  |\n",
      "+-----+------------+---------+-----------+---------+---------+---------+------+----------+-----+-------+----------+----------+-------+----------+----------+----+\n",
      "|  40 | technician | married | secondary |    no   |   109   |    no   |  no  | unknown  |  20 |  jun  |   402    |    22    |   -1  |    0     | unknown  | no |\n",
      "|  35 | management |  single |  tertiary |    no   |   714   |   yes   |  no  | cellular |  26 |  aug  |   135    |    22    |   -1  |    0     | unknown  | no |\n",
      "+-----+------------+---------+-----------+---------+---------+---------+------+----------+-----+-------+----------+----------+-------+----------+----------+----+\n",
      "Top 5 youngest in campaign 22\n"
     ]
    },
    {
     "data": {
      "text/html": [
       "<span style=\"None\">Running query in &#x27;duckdb:///bank.duck.db&#x27;</span>"
      ],
      "text/plain": [
       "Running query in 'duckdb:///bank.duck.db'"
      ]
     },
     "metadata": {},
     "output_type": "display_data"
    },
    {
     "name": "stdout",
     "output_type": "stream",
     "text": [
      "+-----+------------+---------+-----------+---------+---------+---------+------+----------+-----+-------+----------+----------+-------+----------+----------+----+\n",
      "| age |    job     | marital | education | default | balance | housing | loan | contact  | day | month | duration | campaign | pdays | previous | poutcome | y  |\n",
      "+-----+------------+---------+-----------+---------+---------+---------+------+----------+-----+-------+----------+----------+-------+----------+----------+----+\n",
      "|  35 | management |  single |  tertiary |    no   |   714   |   yes   |  no  | cellular |  26 |  aug  |   135    |    22    |   -1  |    0     | unknown  | no |\n",
      "|  40 | technician | married | secondary |    no   |   109   |    no   |  no  | unknown  |  20 |  jun  |   402    |    22    |   -1  |    0     | unknown  | no |\n",
      "+-----+------------+---------+-----------+---------+---------+---------+------+----------+-----+-------+----------+----------+-------+----------+----------+----+\n",
      "Top 5 oldest in campaign 15\n"
     ]
    },
    {
     "data": {
      "text/html": [
       "<span style=\"None\">Running query in &#x27;duckdb:///bank.duck.db&#x27;</span>"
      ],
      "text/plain": [
       "Running query in 'duckdb:///bank.duck.db'"
      ]
     },
     "metadata": {},
     "output_type": "display_data"
    },
    {
     "name": "stdout",
     "output_type": "stream",
     "text": [
      "+-----+-------------+---------+-----------+---------+---------+---------+------+-----------+-----+-------+----------+----------+-------+----------+----------+----+\n",
      "| age |     job     | marital | education | default | balance | housing | loan |  contact  | day | month | duration | campaign | pdays | previous | poutcome | y  |\n",
      "+-----+-------------+---------+-----------+---------+---------+---------+------+-----------+-----+-------+----------+----------+-------+----------+----------+----+\n",
      "|  48 |  technician | married |  tertiary |    no   |    0    |    no   |  no  | telephone |  26 |  aug  |   176    |    15    |   -1  |    0     | unknown  | no |\n",
      "|  47 |   services  | married | secondary |    no   |    2    |    no   | yes  |  cellular |  21 |  jul  |    71    |    15    |   -1  |    0     | unknown  | no |\n",
      "|  45 |  management | married |  tertiary |    no   |   1929  |   yes   |  no  |  unknown  |  29 |  may  |    44    |    15    |   -1  |    0     | unknown  | no |\n",
      "|  39 |  technician |  single |  tertiary |    no   |   -41   |    no   | yes  |  cellular |  25 |  aug  |    40    |    15    |   -1  |    0     | unknown  | no |\n",
      "|  38 | blue-collar | married | secondary |    no   |   213   |   yes   |  no  |  unknown  |  16 |  jun  |   270    |    15    |   -1  |    0     | unknown  | no |\n",
      "+-----+-------------+---------+-----------+---------+---------+---------+------+-----------+-----+-------+----------+----------+-------+----------+----------+----+\n",
      "Top 5 youngest in campaign 15\n"
     ]
    },
    {
     "data": {
      "text/html": [
       "<span style=\"None\">Running query in &#x27;duckdb:///bank.duck.db&#x27;</span>"
      ],
      "text/plain": [
       "Running query in 'duckdb:///bank.duck.db'"
      ]
     },
     "metadata": {},
     "output_type": "display_data"
    },
    {
     "name": "stdout",
     "output_type": "stream",
     "text": [
      "+-----+---------------+---------+-----------+---------+---------+---------+------+----------+-----+-------+----------+----------+-------+----------+----------+----+\n",
      "| age |      job      | marital | education | default | balance | housing | loan | contact  | day | month | duration | campaign | pdays | previous | poutcome | y  |\n",
      "+-----+---------------+---------+-----------+---------+---------+---------+------+----------+-----+-------+----------+----------+-------+----------+----------+----+\n",
      "|  30 |   management  |  single |  tertiary |    no   |   -218  |   yes   |  no  | cellular |  27 |  aug  |    13    |    15    |   -1  |    0     | unknown  | no |\n",
      "|  32 | self-employed | married |  tertiary |    no   |   3601  |    no   |  no  | cellular |  22 |  aug  |   171    |    15    |   -1  |    0     | unknown  | no |\n",
      "|  36 |   management  | married |  tertiary |    no   |   860   |   yes   |  no  | unknown  |  20 |  may  |   294    |    15    |   -1  |    0     | unknown  | no |\n",
      "|  37 | self-employed | married | secondary |    no   |   487   |    no   | yes  | cellular |  27 |  aug  |   155    |    15    |   -1  |    0     | unknown  | no |\n",
      "|  38 |  blue-collar  | married | secondary |    no   |   213   |   yes   |  no  | unknown  |  16 |  jun  |   270    |    15    |   -1  |    0     | unknown  | no |\n",
      "+-----+---------------+---------+-----------+---------+---------+---------+------+----------+-----+-------+----------+----------+-------+----------+----------+----+\n",
      "Top 5 oldest in campaign 30\n"
     ]
    },
    {
     "data": {
      "text/html": [
       "<span style=\"None\">Running query in &#x27;duckdb:///bank.duck.db&#x27;</span>"
      ],
      "text/plain": [
       "Running query in 'duckdb:///bank.duck.db'"
      ]
     },
     "metadata": {},
     "output_type": "display_data"
    },
    {
     "name": "stdout",
     "output_type": "stream",
     "text": [
      "+-----+---------------+---------+-----------+---------+---------+---------+------+---------+-----+-------+----------+----------+-------+----------+----------+----+\n",
      "| age |      job      | marital | education | default | balance | housing | loan | contact | day | month | duration | campaign | pdays | previous | poutcome | y  |\n",
      "+-----+---------------+---------+-----------+---------+---------+---------+------+---------+-----+-------+----------+----------+-------+----------+----------+----+\n",
      "|  53 | self-employed | married |  tertiary |    no   |   2627  |   yes   | yes  | unknown |  16 |  jun  |    18    |    30    |   -1  |    0     | unknown  | no |\n",
      "+-----+---------------+---------+-----------+---------+---------+---------+------+---------+-----+-------+----------+----------+-------+----------+----------+----+\n",
      "Top 5 youngest in campaign 30\n"
     ]
    },
    {
     "data": {
      "text/html": [
       "<span style=\"None\">Running query in &#x27;duckdb:///bank.duck.db&#x27;</span>"
      ],
      "text/plain": [
       "Running query in 'duckdb:///bank.duck.db'"
      ]
     },
     "metadata": {},
     "output_type": "display_data"
    },
    {
     "name": "stdout",
     "output_type": "stream",
     "text": [
      "+-----+---------------+---------+-----------+---------+---------+---------+------+---------+-----+-------+----------+----------+-------+----------+----------+----+\n",
      "| age |      job      | marital | education | default | balance | housing | loan | contact | day | month | duration | campaign | pdays | previous | poutcome | y  |\n",
      "+-----+---------------+---------+-----------+---------+---------+---------+------+---------+-----+-------+----------+----------+-------+----------+----------+----+\n",
      "|  53 | self-employed | married |  tertiary |    no   |   2627  |   yes   | yes  | unknown |  16 |  jun  |    18    |    30    |   -1  |    0     | unknown  | no |\n",
      "+-----+---------------+---------+-----------+---------+---------+---------+------+---------+-----+-------+----------+----------+-------+----------+----------+----+\n",
      "Top 5 oldest in campaign 25\n"
     ]
    },
    {
     "data": {
      "text/html": [
       "<span style=\"None\">Running query in &#x27;duckdb:///bank.duck.db&#x27;</span>"
      ],
      "text/plain": [
       "Running query in 'duckdb:///bank.duck.db'"
      ]
     },
     "metadata": {},
     "output_type": "display_data"
    },
    {
     "name": "stdout",
     "output_type": "stream",
     "text": [
      "+-----+-------------+----------+-----------+---------+---------+---------+------+----------+-----+-------+----------+----------+-------+----------+----------+----+\n",
      "| age |     job     | marital  | education | default | balance | housing | loan | contact  | day | month | duration | campaign | pdays | previous | poutcome | y  |\n",
      "+-----+-------------+----------+-----------+---------+---------+---------+------+----------+-----+-------+----------+----------+-------+----------+----------+----+\n",
      "|  58 | blue-collar | married  |  primary  |    no   |    0    |   yes   |  no  | cellular |  31 |  jul  |    5     |    25    |   -1  |    0     | unknown  | no |\n",
      "|  36 |  management | divorced |  tertiary |    no   |   5195  |   yes   |  no  | unknown  |  2  |  jun  |    55    |    25    |   -1  |    0     | unknown  | no |\n",
      "|  33 | blue-collar |  single  | secondary |    no   |  13494  |   yes   |  no  | unknown  |  20 |  jun  |    27    |    25    |   -1  |    0     | unknown  | no |\n",
      "|  29 |  management |  single  |  tertiary |    no   |    0    |    no   |  no  | unknown  |  16 |  may  |    16    |    25    |   -1  |    0     | unknown  | no |\n",
      "+-----+-------------+----------+-----------+---------+---------+---------+------+----------+-----+-------+----------+----------+-------+----------+----------+----+\n",
      "Top 5 youngest in campaign 25\n"
     ]
    },
    {
     "data": {
      "text/html": [
       "<span style=\"None\">Running query in &#x27;duckdb:///bank.duck.db&#x27;</span>"
      ],
      "text/plain": [
       "Running query in 'duckdb:///bank.duck.db'"
      ]
     },
     "metadata": {},
     "output_type": "display_data"
    },
    {
     "name": "stdout",
     "output_type": "stream",
     "text": [
      "+-----+-------------+----------+-----------+---------+---------+---------+------+----------+-----+-------+----------+----------+-------+----------+----------+----+\n",
      "| age |     job     | marital  | education | default | balance | housing | loan | contact  | day | month | duration | campaign | pdays | previous | poutcome | y  |\n",
      "+-----+-------------+----------+-----------+---------+---------+---------+------+----------+-----+-------+----------+----------+-------+----------+----------+----+\n",
      "|  29 |  management |  single  |  tertiary |    no   |    0    |    no   |  no  | unknown  |  16 |  may  |    16    |    25    |   -1  |    0     | unknown  | no |\n",
      "|  33 | blue-collar |  single  | secondary |    no   |  13494  |   yes   |  no  | unknown  |  20 |  jun  |    27    |    25    |   -1  |    0     | unknown  | no |\n",
      "|  36 |  management | divorced |  tertiary |    no   |   5195  |   yes   |  no  | unknown  |  2  |  jun  |    55    |    25    |   -1  |    0     | unknown  | no |\n",
      "|  58 | blue-collar | married  |  primary  |    no   |    0    |   yes   |  no  | cellular |  31 |  jul  |    5     |    25    |   -1  |    0     | unknown  | no |\n",
      "+-----+-------------+----------+-----------+---------+---------+---------+------+----------+-----+-------+----------+----------+-------+----------+----------+----+\n",
      "Top 5 oldest in campaign 21\n"
     ]
    },
    {
     "data": {
      "text/html": [
       "<span style=\"None\">Running query in &#x27;duckdb:///bank.duck.db&#x27;</span>"
      ],
      "text/plain": [
       "Running query in 'duckdb:///bank.duck.db'"
      ]
     },
     "metadata": {},
     "output_type": "display_data"
    },
    {
     "name": "stdout",
     "output_type": "stream",
     "text": [
      "+-----+------------+---------+-----------+---------+---------+---------+------+----------+-----+-------+----------+----------+-------+----------+----------+----+\n",
      "| age |    job     | marital | education | default | balance | housing | loan | contact  | day | month | duration | campaign | pdays | previous | poutcome | y  |\n",
      "+-----+------------+---------+-----------+---------+---------+---------+------+----------+-----+-------+----------+----------+-------+----------+----------+----+\n",
      "|  41 | management | married |  tertiary |    no   |   437   |   yes   |  no  | unknown  |  3  |  jun  |    14    |    21    |   -1  |    0     | unknown  | no |\n",
      "|  34 | technician | married |  tertiary |    no   |   5060  |   yes   |  no  | cellular |  21 |  aug  |    12    |    21    |   -1  |    0     | unknown  | no |\n",
      "+-----+------------+---------+-----------+---------+---------+---------+------+----------+-----+-------+----------+----------+-------+----------+----------+----+\n",
      "Top 5 youngest in campaign 21\n"
     ]
    },
    {
     "data": {
      "text/html": [
       "<span style=\"None\">Running query in &#x27;duckdb:///bank.duck.db&#x27;</span>"
      ],
      "text/plain": [
       "Running query in 'duckdb:///bank.duck.db'"
      ]
     },
     "metadata": {},
     "output_type": "display_data"
    },
    {
     "name": "stdout",
     "output_type": "stream",
     "text": [
      "+-----+------------+---------+-----------+---------+---------+---------+------+----------+-----+-------+----------+----------+-------+----------+----------+----+\n",
      "| age |    job     | marital | education | default | balance | housing | loan | contact  | day | month | duration | campaign | pdays | previous | poutcome | y  |\n",
      "+-----+------------+---------+-----------+---------+---------+---------+------+----------+-----+-------+----------+----------+-------+----------+----------+----+\n",
      "|  34 | technician | married |  tertiary |    no   |   5060  |   yes   |  no  | cellular |  21 |  aug  |    12    |    21    |   -1  |    0     | unknown  | no |\n",
      "|  41 | management | married |  tertiary |    no   |   437   |   yes   |  no  | unknown  |  3  |  jun  |    14    |    21    |   -1  |    0     | unknown  | no |\n",
      "+-----+------------+---------+-----------+---------+---------+---------+------+----------+-----+-------+----------+----------+-------+----------+----------+----+\n",
      "Top 5 oldest in campaign 17\n"
     ]
    },
    {
     "data": {
      "text/html": [
       "<span style=\"None\">Running query in &#x27;duckdb:///bank.duck.db&#x27;</span>"
      ],
      "text/plain": [
       "Running query in 'duckdb:///bank.duck.db'"
      ]
     },
     "metadata": {},
     "output_type": "display_data"
    },
    {
     "name": "stdout",
     "output_type": "stream",
     "text": [
      "+-----+---------------+---------+-----------+---------+---------+---------+------+-----------+-----+-------+----------+----------+-------+----------+----------+-----+\n",
      "| age |      job      | marital | education | default | balance | housing | loan |  contact  | day | month | duration | campaign | pdays | previous | poutcome |  y  |\n",
      "+-----+---------------+---------+-----------+---------+---------+---------+------+-----------+-----+-------+----------+----------+-------+----------+----------+-----+\n",
      "|  52 |    services   | married | secondary |    no   |   431   |    no   |  no  |  cellular |  26 |  aug  |    73    |    17    |   -1  |    0     | unknown  |  no |\n",
      "|  52 | self-employed |  single |  tertiary |    no   |   1623  |   yes   |  no  |  unknown  |  5  |  jun  |    21    |    17    |   -1  |    0     | unknown  |  no |\n",
      "|  50 |  blue-collar  | married |  unknown  |    no   |   2284  |   yes   |  no  | telephone |  31 |  jul  |   1088   |    17    |   -1  |    0     | unknown  | yes |\n",
      "|  45 |  blue-collar  | married |  primary  |    no   |   1291  |   yes   |  no  |  cellular |  28 |  aug  |   189    |    17    |   -1  |    0     | unknown  |  no |\n",
      "|  43 |  blue-collar  |  single |  primary  |    no   |    30   |   yes   |  no  |  unknown  |  30 |  may  |   379    |    17    |   -1  |    0     | unknown  |  no |\n",
      "+-----+---------------+---------+-----------+---------+---------+---------+------+-----------+-----+-------+----------+----------+-------+----------+----------+-----+\n",
      "Top 5 youngest in campaign 17\n"
     ]
    },
    {
     "data": {
      "text/html": [
       "<span style=\"None\">Running query in &#x27;duckdb:///bank.duck.db&#x27;</span>"
      ],
      "text/plain": [
       "Running query in 'duckdb:///bank.duck.db'"
      ]
     },
     "metadata": {},
     "output_type": "display_data"
    },
    {
     "name": "stdout",
     "output_type": "stream",
     "text": [
      "+-----+-------------+---------+-----------+---------+---------+---------+------+-----------+-----+-------+----------+----------+-------+----------+----------+-----+\n",
      "| age |     job     | marital | education | default | balance | housing | loan |  contact  | day | month | duration | campaign | pdays | previous | poutcome |  y  |\n",
      "+-----+-------------+---------+-----------+---------+---------+---------+------+-----------+-----+-------+----------+----------+-------+----------+----------+-----+\n",
      "|  27 | blue-collar |  single | secondary |    no   |   113   |    no   |  no  |  cellular |  22 |  jul  |    39    |    17    |   -1  |    0     | unknown  |  no |\n",
      "|  30 |  management |  single |  tertiary |    no   |    47   |    no   | yes  |  cellular |  31 |  jul  |    11    |    17    |   -1  |    0     | unknown  |  no |\n",
      "|  43 | blue-collar |  single |  primary  |    no   |    30   |   yes   |  no  |  unknown  |  30 |  may  |   379    |    17    |   -1  |    0     | unknown  |  no |\n",
      "|  45 | blue-collar | married |  primary  |    no   |   1291  |   yes   |  no  |  cellular |  28 |  aug  |   189    |    17    |   -1  |    0     | unknown  |  no |\n",
      "|  50 | blue-collar | married |  unknown  |    no   |   2284  |   yes   |  no  | telephone |  31 |  jul  |   1088   |    17    |   -1  |    0     | unknown  | yes |\n",
      "+-----+-------------+---------+-----------+---------+---------+---------+------+-----------+-----+-------+----------+----------+-------+----------+----------+-----+\n",
      "Top 5 oldest in campaign 19\n"
     ]
    },
    {
     "data": {
      "text/html": [
       "<span style=\"None\">Running query in &#x27;duckdb:///bank.duck.db&#x27;</span>"
      ],
      "text/plain": [
       "Running query in 'duckdb:///bank.duck.db'"
      ]
     },
     "metadata": {},
     "output_type": "display_data"
    },
    {
     "name": "stdout",
     "output_type": "stream",
     "text": [
      "+-----+-------------+----------+-----------+---------+---------+---------+------+----------+-----+-------+----------+----------+-------+----------+----------+----+\n",
      "| age |     job     | marital  | education | default | balance | housing | loan | contact  | day | month | duration | campaign | pdays | previous | poutcome | y  |\n",
      "+-----+-------------+----------+-----------+---------+---------+---------+------+----------+-----+-------+----------+----------+-------+----------+----------+----+\n",
      "|  47 |  management | divorced |  tertiary |    no   |    94   |   yes   |  no  | cellular |  31 |  jul  |    9     |    19    |   -1  |    0     | unknown  | no |\n",
      "|  45 | blue-collar | married  |  primary  |    no   |   137   |   yes   | yes  | unknown  |  16 |  may  |   187    |    19    |   -1  |    0     | unknown  | no |\n",
      "|  29 |  management |  single  | secondary |    no   |   584   |   yes   |  no  | unknown  |  16 |  jun  |   541    |    19    |   -1  |    0     | unknown  | no |\n",
      "+-----+-------------+----------+-----------+---------+---------+---------+------+----------+-----+-------+----------+----------+-------+----------+----------+----+\n",
      "Top 5 youngest in campaign 19\n"
     ]
    },
    {
     "data": {
      "text/html": [
       "<span style=\"None\">Running query in &#x27;duckdb:///bank.duck.db&#x27;</span>"
      ],
      "text/plain": [
       "Running query in 'duckdb:///bank.duck.db'"
      ]
     },
     "metadata": {},
     "output_type": "display_data"
    },
    {
     "name": "stdout",
     "output_type": "stream",
     "text": [
      "+-----+-------------+----------+-----------+---------+---------+---------+------+----------+-----+-------+----------+----------+-------+----------+----------+----+\n",
      "| age |     job     | marital  | education | default | balance | housing | loan | contact  | day | month | duration | campaign | pdays | previous | poutcome | y  |\n",
      "+-----+-------------+----------+-----------+---------+---------+---------+------+----------+-----+-------+----------+----------+-------+----------+----------+----+\n",
      "|  29 |  management |  single  | secondary |    no   |   584   |   yes   |  no  | unknown  |  16 |  jun  |   541    |    19    |   -1  |    0     | unknown  | no |\n",
      "|  45 | blue-collar | married  |  primary  |    no   |   137   |   yes   | yes  | unknown  |  16 |  may  |   187    |    19    |   -1  |    0     | unknown  | no |\n",
      "|  47 |  management | divorced |  tertiary |    no   |    94   |   yes   |  no  | cellular |  31 |  jul  |    9     |    19    |   -1  |    0     | unknown  | no |\n",
      "+-----+-------------+----------+-----------+---------+---------+---------+------+----------+-----+-------+----------+----------+-------+----------+----------+----+\n",
      "Top 5 oldest in campaign 23\n"
     ]
    },
    {
     "data": {
      "text/html": [
       "<span style=\"None\">Running query in &#x27;duckdb:///bank.duck.db&#x27;</span>"
      ],
      "text/plain": [
       "Running query in 'duckdb:///bank.duck.db'"
      ]
     },
     "metadata": {},
     "output_type": "display_data"
    },
    {
     "name": "stdout",
     "output_type": "stream",
     "text": [
      "+-----+----------+---------+-----------+---------+---------+---------+------+----------+-----+-------+----------+----------+-------+----------+----------+----+\n",
      "| age |   job    | marital | education | default | balance | housing | loan | contact  | day | month | duration | campaign | pdays | previous | poutcome | y  |\n",
      "+-----+----------+---------+-----------+---------+---------+---------+------+----------+-----+-------+----------+----------+-------+----------+----------+----+\n",
      "|  56 | retired  | married |  primary  |    no   |    -1   |    no   |  no  | cellular |  27 |  aug  |    89    |    23    |   -1  |    0     | unknown  | no |\n",
      "|  26 | services |  single | secondary |    no   |    0    |    no   |  no  | cellular |  29 |  jul  |   165    |    23    |   -1  |    0     | unknown  | no |\n",
      "+-----+----------+---------+-----------+---------+---------+---------+------+----------+-----+-------+----------+----------+-------+----------+----------+----+\n",
      "Top 5 youngest in campaign 23\n"
     ]
    },
    {
     "data": {
      "text/html": [
       "<span style=\"None\">Running query in &#x27;duckdb:///bank.duck.db&#x27;</span>"
      ],
      "text/plain": [
       "Running query in 'duckdb:///bank.duck.db'"
      ]
     },
     "metadata": {},
     "output_type": "display_data"
    },
    {
     "name": "stdout",
     "output_type": "stream",
     "text": [
      "+-----+----------+---------+-----------+---------+---------+---------+------+----------+-----+-------+----------+----------+-------+----------+----------+----+\n",
      "| age |   job    | marital | education | default | balance | housing | loan | contact  | day | month | duration | campaign | pdays | previous | poutcome | y  |\n",
      "+-----+----------+---------+-----------+---------+---------+---------+------+----------+-----+-------+----------+----------+-------+----------+----------+----+\n",
      "|  26 | services |  single | secondary |    no   |    0    |    no   |  no  | cellular |  29 |  jul  |   165    |    23    |   -1  |    0     | unknown  | no |\n",
      "|  56 | retired  | married |  primary  |    no   |    -1   |    no   |  no  | cellular |  27 |  aug  |    89    |    23    |   -1  |    0     | unknown  | no |\n",
      "+-----+----------+---------+-----------+---------+---------+---------+------+----------+-----+-------+----------+----------+-------+----------+----------+----+\n",
      "Top 5 oldest in campaign 20\n"
     ]
    },
    {
     "data": {
      "text/html": [
       "<span style=\"None\">Running query in &#x27;duckdb:///bank.duck.db&#x27;</span>"
      ],
      "text/plain": [
       "Running query in 'duckdb:///bank.duck.db'"
      ]
     },
     "metadata": {},
     "output_type": "display_data"
    },
    {
     "name": "stdout",
     "output_type": "stream",
     "text": [
      "+-----+-------------+---------+-----------+---------+---------+---------+------+-----------+-----+-------+----------+----------+-------+----------+----------+----+\n",
      "| age |     job     | marital | education | default | balance | housing | loan |  contact  | day | month | duration | campaign | pdays | previous | poutcome | y  |\n",
      "+-----+-------------+---------+-----------+---------+---------+---------+------+-----------+-----+-------+----------+----------+-------+----------+----------+----+\n",
      "|  52 |  technician | married | secondary |    no   |   118   |    no   |  no  |  cellular |  28 |  aug  |    16    |    20    |   -1  |    0     | unknown  | no |\n",
      "|  38 | blue-collar |  single |  tertiary |    no   |  14058  |    no   |  no  | telephone |  17 |  jul  |   293    |    20    |   -1  |    0     | unknown  | no |\n",
      "|  28 | blue-collar |  single |  primary  |    no   |   1199  |   yes   |  no  |  cellular |  30 |  jul  |   1011   |    20    |   -1  |    0     | unknown  | no |\n",
      "+-----+-------------+---------+-----------+---------+---------+---------+------+-----------+-----+-------+----------+----------+-------+----------+----------+----+\n",
      "Top 5 youngest in campaign 20\n"
     ]
    },
    {
     "data": {
      "text/html": [
       "<span style=\"None\">Running query in &#x27;duckdb:///bank.duck.db&#x27;</span>"
      ],
      "text/plain": [
       "Running query in 'duckdb:///bank.duck.db'"
      ]
     },
     "metadata": {},
     "output_type": "display_data"
    },
    {
     "name": "stdout",
     "output_type": "stream",
     "text": [
      "+-----+-------------+---------+-----------+---------+---------+---------+------+-----------+-----+-------+----------+----------+-------+----------+----------+----+\n",
      "| age |     job     | marital | education | default | balance | housing | loan |  contact  | day | month | duration | campaign | pdays | previous | poutcome | y  |\n",
      "+-----+-------------+---------+-----------+---------+---------+---------+------+-----------+-----+-------+----------+----------+-------+----------+----------+----+\n",
      "|  28 | blue-collar |  single |  primary  |    no   |   1199  |   yes   |  no  |  cellular |  30 |  jul  |   1011   |    20    |   -1  |    0     | unknown  | no |\n",
      "|  38 | blue-collar |  single |  tertiary |    no   |  14058  |    no   |  no  | telephone |  17 |  jul  |   293    |    20    |   -1  |    0     | unknown  | no |\n",
      "|  52 |  technician | married | secondary |    no   |   118   |    no   |  no  |  cellular |  28 |  aug  |    16    |    20    |   -1  |    0     | unknown  | no |\n",
      "+-----+-------------+---------+-----------+---------+---------+---------+------+-----------+-----+-------+----------+----------+-------+----------+----------+----+\n",
      "Top 5 oldest in campaign 50\n"
     ]
    },
    {
     "data": {
      "text/html": [
       "<span style=\"None\">Running query in &#x27;duckdb:///bank.duck.db&#x27;</span>"
      ],
      "text/plain": [
       "Running query in 'duckdb:///bank.duck.db'"
      ]
     },
     "metadata": {},
     "output_type": "display_data"
    },
    {
     "name": "stdout",
     "output_type": "stream",
     "text": [
      "+-----+-------------+---------+-----------+---------+---------+---------+------+----------+-----+-------+----------+----------+-------+----------+----------+----+\n",
      "| age |     job     | marital | education | default | balance | housing | loan | contact  | day | month | duration | campaign | pdays | previous | poutcome | y  |\n",
      "+-----+-------------+---------+-----------+---------+---------+---------+------+----------+-----+-------+----------+----------+-------+----------+----------+----+\n",
      "|  35 | blue-collar | married | secondary |    no   |   280   |   yes   | yes  | cellular |  31 |  jul  |    65    |    50    |   -1  |    0     | unknown  | no |\n",
      "+-----+-------------+---------+-----------+---------+---------+---------+------+----------+-----+-------+----------+----------+-------+----------+----------+----+\n",
      "Top 5 youngest in campaign 50\n"
     ]
    },
    {
     "data": {
      "text/html": [
       "<span style=\"None\">Running query in &#x27;duckdb:///bank.duck.db&#x27;</span>"
      ],
      "text/plain": [
       "Running query in 'duckdb:///bank.duck.db'"
      ]
     },
     "metadata": {},
     "output_type": "display_data"
    },
    {
     "name": "stdout",
     "output_type": "stream",
     "text": [
      "+-----+-------------+---------+-----------+---------+---------+---------+------+----------+-----+-------+----------+----------+-------+----------+----------+----+\n",
      "| age |     job     | marital | education | default | balance | housing | loan | contact  | day | month | duration | campaign | pdays | previous | poutcome | y  |\n",
      "+-----+-------------+---------+-----------+---------+---------+---------+------+----------+-----+-------+----------+----------+-------+----------+----------+----+\n",
      "|  35 | blue-collar | married | secondary |    no   |   280   |   yes   | yes  | cellular |  31 |  jul  |    65    |    50    |   -1  |    0     | unknown  | no |\n",
      "+-----+-------------+---------+-----------+---------+---------+---------+------+----------+-----+-------+----------+----------+-------+----------+----------+----+\n",
      "Top 5 oldest in campaign 28\n"
     ]
    },
    {
     "data": {
      "text/html": [
       "<span style=\"None\">Running query in &#x27;duckdb:///bank.duck.db&#x27;</span>"
      ],
      "text/plain": [
       "Running query in 'duckdb:///bank.duck.db'"
      ]
     },
     "metadata": {},
     "output_type": "display_data"
    },
    {
     "name": "stdout",
     "output_type": "stream",
     "text": [
      "+-----+------------+----------+-----------+---------+---------+---------+------+-----------+-----+-------+----------+----------+-------+----------+----------+----+\n",
      "| age |    job     | marital  | education | default | balance | housing | loan |  contact  | day | month | duration | campaign | pdays | previous | poutcome | y  |\n",
      "+-----+------------+----------+-----------+---------+---------+---------+------+-----------+-----+-------+----------+----------+-------+----------+----------+----+\n",
      "|  36 |  services  | married  | secondary |    no   |   -11   |   yes   |  no  |  cellular |  30 |  jul  |   172    |    28    |   -1  |    0     | unknown  | no |\n",
      "|  34 | management |  single  |  tertiary |    no   |   340   |   yes   |  no  |  unknown  |  3  |  jun  |   633    |    28    |   -1  |    0     | unknown  | no |\n",
      "|  33 | unemployed | divorced | secondary |    no   |   385   |    no   |  no  | telephone |  27 |  aug  |    29    |    28    |   -1  |    0     | unknown  | no |\n",
      "+-----+------------+----------+-----------+---------+---------+---------+------+-----------+-----+-------+----------+----------+-------+----------+----------+----+\n",
      "Top 5 youngest in campaign 28\n"
     ]
    },
    {
     "data": {
      "text/html": [
       "<span style=\"None\">Running query in &#x27;duckdb:///bank.duck.db&#x27;</span>"
      ],
      "text/plain": [
       "Running query in 'duckdb:///bank.duck.db'"
      ]
     },
     "metadata": {},
     "output_type": "display_data"
    },
    {
     "name": "stdout",
     "output_type": "stream",
     "text": [
      "+-----+------------+----------+-----------+---------+---------+---------+------+-----------+-----+-------+----------+----------+-------+----------+----------+----+\n",
      "| age |    job     | marital  | education | default | balance | housing | loan |  contact  | day | month | duration | campaign | pdays | previous | poutcome | y  |\n",
      "+-----+------------+----------+-----------+---------+---------+---------+------+-----------+-----+-------+----------+----------+-------+----------+----------+----+\n",
      "|  33 | unemployed | divorced | secondary |    no   |   385   |    no   |  no  | telephone |  27 |  aug  |    29    |    28    |   -1  |    0     | unknown  | no |\n",
      "|  34 | management |  single  |  tertiary |    no   |   340   |   yes   |  no  |  unknown  |  3  |  jun  |   633    |    28    |   -1  |    0     | unknown  | no |\n",
      "|  36 |  services  | married  | secondary |    no   |   -11   |   yes   |  no  |  cellular |  30 |  jul  |   172    |    28    |   -1  |    0     | unknown  | no |\n",
      "+-----+------------+----------+-----------+---------+---------+---------+------+-----------+-----+-------+----------+----------+-------+----------+----------+----+\n",
      "Top 5 oldest in campaign 31\n"
     ]
    },
    {
     "data": {
      "text/html": [
       "<span style=\"None\">Running query in &#x27;duckdb:///bank.duck.db&#x27;</span>"
      ],
      "text/plain": [
       "Running query in 'duckdb:///bank.duck.db'"
      ]
     },
     "metadata": {},
     "output_type": "display_data"
    },
    {
     "name": "stdout",
     "output_type": "stream",
     "text": [
      "+-----+------------+---------+-----------+---------+---------+---------+------+----------+-----+-------+----------+----------+-------+----------+----------+----+\n",
      "| age |    job     | marital | education | default | balance | housing | loan | contact  | day | month | duration | campaign | pdays | previous | poutcome | y  |\n",
      "+-----+------------+---------+-----------+---------+---------+---------+------+----------+-----+-------+----------+----------+-------+----------+----------+----+\n",
      "|  25 | unemployed | married | secondary |    no   |   157   |   yes   |  no  | cellular |  28 |  jul  |    33    |    31    |   -1  |    0     | unknown  | no |\n",
      "+-----+------------+---------+-----------+---------+---------+---------+------+----------+-----+-------+----------+----------+-------+----------+----------+----+\n",
      "Top 5 youngest in campaign 31\n"
     ]
    },
    {
     "data": {
      "text/html": [
       "<span style=\"None\">Running query in &#x27;duckdb:///bank.duck.db&#x27;</span>"
      ],
      "text/plain": [
       "Running query in 'duckdb:///bank.duck.db'"
      ]
     },
     "metadata": {},
     "output_type": "display_data"
    },
    {
     "name": "stdout",
     "output_type": "stream",
     "text": [
      "+-----+------------+---------+-----------+---------+---------+---------+------+----------+-----+-------+----------+----------+-------+----------+----------+----+\n",
      "| age |    job     | marital | education | default | balance | housing | loan | contact  | day | month | duration | campaign | pdays | previous | poutcome | y  |\n",
      "+-----+------------+---------+-----------+---------+---------+---------+------+----------+-----+-------+----------+----------+-------+----------+----------+----+\n",
      "|  25 | unemployed | married | secondary |    no   |   157   |   yes   |  no  | cellular |  28 |  jul  |    33    |    31    |   -1  |    0     | unknown  | no |\n",
      "+-----+------------+---------+-----------+---------+---------+---------+------+----------+-----+-------+----------+----------+-------+----------+----------+----+\n",
      "Top 5 oldest in campaign 44\n"
     ]
    },
    {
     "data": {
      "text/html": [
       "<span style=\"None\">Running query in &#x27;duckdb:///bank.duck.db&#x27;</span>"
      ],
      "text/plain": [
       "Running query in 'duckdb:///bank.duck.db'"
      ]
     },
     "metadata": {},
     "output_type": "display_data"
    },
    {
     "name": "stdout",
     "output_type": "stream",
     "text": [
      "+-----+-------------+---------+-----------+---------+---------+---------+------+----------+-----+-------+----------+----------+-------+----------+----------+----+\n",
      "| age |     job     | marital | education | default | balance | housing | loan | contact  | day | month | duration | campaign | pdays | previous | poutcome | y  |\n",
      "+-----+-------------+---------+-----------+---------+---------+---------+------+----------+-----+-------+----------+----------+-------+----------+----------+----+\n",
      "|  49 | blue-collar | married |  primary  |    no   |   371   |   yes   |  no  | cellular |  31 |  jul  |    18    |    44    |   -1  |    0     | unknown  | no |\n",
      "+-----+-------------+---------+-----------+---------+---------+---------+------+----------+-----+-------+----------+----------+-------+----------+----------+----+\n",
      "Top 5 youngest in campaign 44\n"
     ]
    },
    {
     "data": {
      "text/html": [
       "<span style=\"None\">Running query in &#x27;duckdb:///bank.duck.db&#x27;</span>"
      ],
      "text/plain": [
       "Running query in 'duckdb:///bank.duck.db'"
      ]
     },
     "metadata": {},
     "output_type": "display_data"
    },
    {
     "name": "stdout",
     "output_type": "stream",
     "text": [
      "+-----+-------------+---------+-----------+---------+---------+---------+------+----------+-----+-------+----------+----------+-------+----------+----------+----+\n",
      "| age |     job     | marital | education | default | balance | housing | loan | contact  | day | month | duration | campaign | pdays | previous | poutcome | y  |\n",
      "+-----+-------------+---------+-----------+---------+---------+---------+------+----------+-----+-------+----------+----------+-------+----------+----------+----+\n",
      "|  49 | blue-collar | married |  primary  |    no   |   371   |   yes   |  no  | cellular |  31 |  jul  |    18    |    44    |   -1  |    0     | unknown  | no |\n",
      "+-----+-------------+---------+-----------+---------+---------+---------+------+----------+-----+-------+----------+----------+-------+----------+----------+----+\n"
     ]
    }
   ],
   "source": [
    "campaign = %sql SELECT DISTINCT campaign FROM bank\n",
    "campaign = campaign.DataFrame()\n",
    "\n",
    "campaigns = campaign[\"campaign\"].tolist()\n",
    "\n",
    "for campaign in campaigns:\n",
    "    print(f\"Top 5 oldest in campaign {campaign}\")\n",
    "    order = \"DESC\"\n",
    "    oldest_camppaing = %sql SELECT * FROM bank WHERE campaign={{campaign}} ORDER BY age {{order}} LIMIT 5\n",
    "    print(oldest_camppaing)\n",
    "\n",
    "    print(f\"Top 5 youngest in campaign {campaign}\")\n",
    "    order = \"ASC\"\n",
    "    youngest_campaign = %sql SELECT * FROM bank WHERE campaign={{campaign}} ORDER BY age {{order}} LIMIT 5\n",
    "    print(youngest_campaign)"
   ]
  },
  {
   "attachments": {},
   "cell_type": "markdown",
   "id": "a9204b96",
   "metadata": {},
   "source": [
    "</details>\n",
    "<!-- #endregion -->\n",
    "\n",
    "## Variable Expansion Using Loops\n",
    "\n",
    "We can also use loops inside SQL to parameterize our queries. For example, let's calculate the average age for each job role in the `bank` table.\n",
    "\n",
    "The query below will iterate over four kinds of jobs: blue collar, technician, services and management. For each job, it will compute the average age for people with that job and create a new column for the average of each job.\n",
    "\n",
    "The resulting query can be reused as it is being saved as `avg_age` with the `--save` option."
   ]
  },
  {
   "cell_type": "code",
   "execution_count": 10,
   "id": "cd5cfb9e",
   "metadata": {},
   "outputs": [
    {
     "data": {
      "text/html": [
       "<span style=\"None\">Running query in &#x27;duckdb:///bank.duck.db&#x27;</span>"
      ],
      "text/plain": [
       "Running query in 'duckdb:///bank.duck.db'"
      ]
     },
     "metadata": {},
     "output_type": "display_data"
    },
    {
     "data": {
      "text/html": [
       "<table>\n",
       "    <thead>\n",
       "        <tr>\n",
       "            <th>avg_age_blue_collar</th>\n",
       "            <th>avg_age_technician</th>\n",
       "            <th>avg_age_services</th>\n",
       "            <th>avg_age_management</th>\n",
       "        </tr>\n",
       "    </thead>\n",
       "    <tbody>\n",
       "        <tr>\n",
       "            <td>40.15644820295983</td>\n",
       "            <td>39.470052083333336</td>\n",
       "            <td>38.57074340527578</td>\n",
       "            <td>40.54076367389061</td>\n",
       "        </tr>\n",
       "    </tbody>\n",
       "</table>"
      ],
      "text/plain": [
       "+---------------------+--------------------+-------------------+--------------------+\n",
       "| avg_age_blue_collar | avg_age_technician |  avg_age_services | avg_age_management |\n",
       "+---------------------+--------------------+-------------------+--------------------+\n",
       "|  40.15644820295983  | 39.470052083333336 | 38.57074340527578 | 40.54076367389061  |\n",
       "+---------------------+--------------------+-------------------+--------------------+"
      ]
     },
     "execution_count": 10,
     "metadata": {},
     "output_type": "execute_result"
    }
   ],
   "source": [
    "%%sql --save avg_age\n",
    "{% set jobs = [ \"blue_collar\", \"technician\", \"services\", \"management\"] %}\n",
    "select\n",
    "    {% for job in jobs %}\n",
    "    avg(case when job = '{{job.replace('_', '-')}}' then age end) as avg_age_{{job}},\n",
    "    {% endfor %}\n",
    "from bank"
   ]
  },
  {
   "attachments": {},
   "cell_type": "markdown",
   "id": "c9790fa8",
   "metadata": {},
   "source": [
    "We can see the final compiled query using:"
   ]
  },
  {
   "cell_type": "code",
   "execution_count": 11,
   "id": "e6756e14",
   "metadata": {},
   "outputs": [
    {
     "name": "stdout",
     "output_type": "stream",
     "text": [
      "WITH\n",
      "\n",
      "select\n",
      "    \n",
      "    avg(case when job = 'blue-collar' then age end) as avg_age_blue_collar,\n",
      "    \n",
      "    avg(case when job = 'technician' then age end) as avg_age_technician,\n",
      "    \n",
      "    avg(case when job = 'services' then age end) as avg_age_services,\n",
      "    \n",
      "    avg(case when job = 'management' then age end) as avg_age_management,\n",
      "    \n",
      "from bank\n"
     ]
    }
   ],
   "source": [
    "final = %sqlrender avg_age\n",
    "print(final)"
   ]
  },
  {
   "attachments": {},
   "cell_type": "markdown",
   "id": "0eb98952",
   "metadata": {},
   "source": [
    "### Sample case\n",
    "\n",
    "The HR department would like to determine the average balance for employees by job (for jobs technician, services and management) and education level. We can achieve this by using the `job` and `education` columns from the `bank` table."
   ]
  },
  {
   "cell_type": "code",
   "execution_count": 12,
   "id": "8c343288",
   "metadata": {},
   "outputs": [
    {
     "data": {
      "text/html": [
       "<span style=\"None\">Running query in &#x27;duckdb:///bank.duck.db&#x27;</span>"
      ],
      "text/plain": [
       "Running query in 'duckdb:///bank.duck.db'"
      ]
     },
     "metadata": {},
     "output_type": "display_data"
    },
    {
     "data": {
      "text/html": [
       "<table>\n",
       "    <thead>\n",
       "        <tr>\n",
       "            <th>avg_balance_technician_primary</th>\n",
       "            <th>avg_balance_technician_secondary</th>\n",
       "            <th>avg_balance_technician_tertiary</th>\n",
       "            <th>avg_balance_technician_unknown</th>\n",
       "            <th>avg_balance_services_primary</th>\n",
       "            <th>avg_balance_services_secondary</th>\n",
       "            <th>avg_balance_services_tertiary</th>\n",
       "            <th>avg_balance_services_unknown</th>\n",
       "            <th>avg_balance_management_primary</th>\n",
       "            <th>avg_balance_management_secondary</th>\n",
       "            <th>avg_balance_management_tertiary</th>\n",
       "            <th>avg_balance_management_unknown</th>\n",
       "        </tr>\n",
       "    </thead>\n",
       "    <tbody>\n",
       "        <tr>\n",
       "            <td>2593.0</td>\n",
       "            <td>1153.6076923076923</td>\n",
       "            <td>1631.6303317535544</td>\n",
       "            <td>1780.0</td>\n",
       "            <td>1107.32</td>\n",
       "            <td>998.8842975206611</td>\n",
       "            <td>1894.875</td>\n",
       "            <td>3058.0</td>\n",
       "            <td>2685.4102564102564</td>\n",
       "            <td>1250.103448275862</td>\n",
       "            <td>1776.3430749682339</td>\n",
       "            <td>2386.259259259259</td>\n",
       "        </tr>\n",
       "    </tbody>\n",
       "</table>"
      ],
      "text/plain": [
       "+--------------------------------+----------------------------------+---------------------------------+--------------------------------+------------------------------+--------------------------------+-------------------------------+------------------------------+--------------------------------+----------------------------------+---------------------------------+--------------------------------+\n",
       "| avg_balance_technician_primary | avg_balance_technician_secondary | avg_balance_technician_tertiary | avg_balance_technician_unknown | avg_balance_services_primary | avg_balance_services_secondary | avg_balance_services_tertiary | avg_balance_services_unknown | avg_balance_management_primary | avg_balance_management_secondary | avg_balance_management_tertiary | avg_balance_management_unknown |\n",
       "+--------------------------------+----------------------------------+---------------------------------+--------------------------------+------------------------------+--------------------------------+-------------------------------+------------------------------+--------------------------------+----------------------------------+---------------------------------+--------------------------------+\n",
       "|             2593.0             |        1153.6076923076923        |        1631.6303317535544       |             1780.0             |           1107.32            |       998.8842975206611        |            1894.875           |            3058.0            |       2685.4102564102564       |        1250.103448275862         |        1776.3430749682339       |       2386.259259259259        |\n",
       "+--------------------------------+----------------------------------+---------------------------------+--------------------------------+------------------------------+--------------------------------+-------------------------------+------------------------------+--------------------------------+----------------------------------+---------------------------------+--------------------------------+"
      ]
     },
     "execution_count": 12,
     "metadata": {},
     "output_type": "execute_result"
    }
   ],
   "source": [
    "%%sql --save avg_balance\n",
    "{% set jobs = [ \"technician\", \"services\", \"management\"] %}\n",
    "{% set education_levels = [ \"primary\", \"secondary\", \"tertiary\", \"unknown\"] %}\n",
    "select\n",
    "    {% for job in jobs %}\n",
    "    {% for education in education_levels %}\n",
    "    avg(case when job = '{{job}}' and education = '{{education}}' then balance end) as avg_balance_{{job}}_{{education}},\n",
    "    {% endfor %}\n",
    "    {% endfor %}\n",
    "from bank"
   ]
  },
  {
   "attachments": {},
   "cell_type": "markdown",
   "id": "7d71451a",
   "metadata": {},
   "source": [
    "### Mini Exercise:\n",
    "\n",
    "Calculate the count of people for each job role for jobs  \"blue_collar\", \"technician\", \"services\", \"management\".\n",
    "\n",
    "Your task: use Variable Expansion Using Loops and the `%%sql` magic\n",
    "\n",
    "<!-- #region -->\n",
    "<details>\n",
    "\n",
    "<summary>Answers</summary>"
   ]
  },
  {
   "cell_type": "code",
   "execution_count": 13,
   "id": "b9e30f08",
   "metadata": {},
   "outputs": [
    {
     "data": {
      "text/html": [
       "<span style=\"None\">Running query in &#x27;duckdb:///bank.duck.db&#x27;</span>"
      ],
      "text/plain": [
       "Running query in 'duckdb:///bank.duck.db'"
      ]
     },
     "metadata": {},
     "output_type": "display_data"
    },
    {
     "data": {
      "text/html": [
       "<table>\n",
       "    <thead>\n",
       "        <tr>\n",
       "            <th>count_blue_collar</th>\n",
       "            <th>count_technician</th>\n",
       "            <th>count_services</th>\n",
       "            <th>count_management</th>\n",
       "        </tr>\n",
       "    </thead>\n",
       "    <tbody>\n",
       "        <tr>\n",
       "            <td>946</td>\n",
       "            <td>768</td>\n",
       "            <td>417</td>\n",
       "            <td>969</td>\n",
       "        </tr>\n",
       "    </tbody>\n",
       "</table>"
      ],
      "text/plain": [
       "+-------------------+------------------+----------------+------------------+\n",
       "| count_blue_collar | count_technician | count_services | count_management |\n",
       "+-------------------+------------------+----------------+------------------+\n",
       "|        946        |       768        |      417       |       969        |\n",
       "+-------------------+------------------+----------------+------------------+"
      ]
     },
     "execution_count": 13,
     "metadata": {},
     "output_type": "execute_result"
    }
   ],
   "source": [
    "%%sql --save count_jobs\n",
    "{% set jobs = [ \"blue_collar\", \"technician\", \"services\", \"management\"] %}\n",
    "select\n",
    "    {% for job in jobs %}\n",
    "    count(case when job = '{{job.replace('_', '-')}}' then 1 end) as count_{{job}},\n",
    "    {% endfor %}\n",
    "from bank"
   ]
  },
  {
   "attachments": {},
   "cell_type": "markdown",
   "id": "afe1c2d4",
   "metadata": {},
   "source": [
    "</details>\n",
    "<!-- #endregion -->\n",
    "\n",
    "## Macros + Variable Expansion\n",
    "\n",
    "\n",
    "`Macros` is a construct analogous to functions that promote re-usability. We define a `macro` using the {% macro %} tag and use this macro in the query using variable expansion.\n",
    "\n",
    "For example, let's define a macro to convert a value from days to years, and use this macro in our query. This macro will be called `days_to_years` and it takes as input the `column_name` and `precision`. With the default `precision` set to 2.\n",
    "\n",
    "We can obtain the number of years by dividing the number of days by 365. \n",
    "\n",
    "We can then use the `days_to_years` macro in the query, where we are passing `age` as the input column."
   ]
  },
  {
   "cell_type": "code",
   "execution_count": 14,
   "id": "0213d04c",
   "metadata": {},
   "outputs": [
    {
     "data": {
      "text/html": [
       "<span style=\"None\">Running query in &#x27;duckdb:///bank.duck.db&#x27;</span>"
      ],
      "text/plain": [
       "Running query in 'duckdb:///bank.duck.db'"
      ]
     },
     "metadata": {},
     "output_type": "display_data"
    },
    {
     "data": {
      "text/html": [
       "<table>\n",
       "    <thead>\n",
       "        <tr>\n",
       "            <th>job</th>\n",
       "            <th>marital</th>\n",
       "            <th>age_in_years</th>\n",
       "        </tr>\n",
       "    </thead>\n",
       "    <tbody>\n",
       "        <tr>\n",
       "            <td>unemployed</td>\n",
       "            <td>married</td>\n",
       "            <td>0.08</td>\n",
       "        </tr>\n",
       "        <tr>\n",
       "            <td>services</td>\n",
       "            <td>married</td>\n",
       "            <td>0.09</td>\n",
       "        </tr>\n",
       "        <tr>\n",
       "            <td>management</td>\n",
       "            <td>single</td>\n",
       "            <td>0.10</td>\n",
       "        </tr>\n",
       "        <tr>\n",
       "            <td>management</td>\n",
       "            <td>married</td>\n",
       "            <td>0.08</td>\n",
       "        </tr>\n",
       "        <tr>\n",
       "            <td>blue-collar</td>\n",
       "            <td>married</td>\n",
       "            <td>0.16</td>\n",
       "        </tr>\n",
       "        <tr>\n",
       "            <td>management</td>\n",
       "            <td>single</td>\n",
       "            <td>0.10</td>\n",
       "        </tr>\n",
       "        <tr>\n",
       "            <td>self-employed</td>\n",
       "            <td>married</td>\n",
       "            <td>0.10</td>\n",
       "        </tr>\n",
       "        <tr>\n",
       "            <td>technician</td>\n",
       "            <td>married</td>\n",
       "            <td>0.11</td>\n",
       "        </tr>\n",
       "        <tr>\n",
       "            <td>entrepreneur</td>\n",
       "            <td>married</td>\n",
       "            <td>0.11</td>\n",
       "        </tr>\n",
       "        <tr>\n",
       "            <td>services</td>\n",
       "            <td>married</td>\n",
       "            <td>0.12</td>\n",
       "        </tr>\n",
       "    </tbody>\n",
       "</table>\n",
       "<span style=\"font-style:italic;text-align:center;\">4521 rows, truncated to displaylimit of 10</span><br><span style=\"font-style:italic;text-align:center;\">If you want to see more, please visit <a href=\"https://jupysql.ploomber.io/en/latest/api/configuration.html#displaylimit\">displaylimit</a> configuration</span>"
      ],
      "text/plain": [
       "+---------------+---------+--------------+\n",
       "|      job      | marital | age_in_years |\n",
       "+---------------+---------+--------------+\n",
       "|   unemployed  | married |     0.08     |\n",
       "|    services   | married |     0.09     |\n",
       "|   management  |  single |     0.10     |\n",
       "|   management  | married |     0.08     |\n",
       "|  blue-collar  | married |     0.16     |\n",
       "|   management  |  single |     0.10     |\n",
       "| self-employed | married |     0.10     |\n",
       "|   technician  | married |     0.11     |\n",
       "|  entrepreneur | married |     0.11     |\n",
       "|    services   | married |     0.12     |\n",
       "+---------------+---------+--------------+"
      ]
     },
     "execution_count": 14,
     "metadata": {},
     "output_type": "execute_result"
    }
   ],
   "source": [
    "%%sql --save convert\n",
    "{% macro days_to_years(column_name, precision=2) %}\n",
    "    ({{ column_name }} / 365)::numeric(16, {{ precision }})\n",
    "{% endmacro %}\n",
    "\n",
    "select\n",
    "  job, marital,\n",
    "  {{ days_to_years('age') }} as age_in_years\n",
    "from bank"
   ]
  },
  {
   "attachments": {},
   "cell_type": "markdown",
   "id": "a0a2a9e5",
   "metadata": {},
   "source": [
    "In this query, we're converting age from days to years using our macro. The results are saved in a variable `convert`.\n",
    "\n",
    "The final rendered query can be viewed using:"
   ]
  },
  {
   "cell_type": "code",
   "execution_count": 15,
   "id": "53684ca5",
   "metadata": {},
   "outputs": [
    {
     "name": "stdout",
     "output_type": "stream",
     "text": [
      "WITH\n",
      "\n",
      "\n",
      "select\n",
      "  job, marital,\n",
      "  \n",
      "    (age / 365)::numeric(16, 2)\n",
      " as age_in_years\n",
      "from bank\n"
     ]
    }
   ],
   "source": [
    "final = %sqlrender convert\n",
    "print(final)"
   ]
  },
  {
   "attachments": {},
   "cell_type": "markdown",
   "id": "9df12dee",
   "metadata": {},
   "source": [
    "### Sample usage\n",
    "\n",
    "Let's use macros to handle `NULL` values. The macro below checks if the chosen column has `NULL` values.\n",
    "\n",
    "The code block defines a macro that will be used later in the SQL query. The macro is named `months_to_years_handle_null`, and its purpose is to convert the values in a specified column from months to years. Additionally, this macro is designed to handle null values in a column, hence its name. \n",
    "\n",
    "If the value in the column is null, the macro will return `NULL`; otherwise, it will convert the value from months to years."
   ]
  },
  {
   "cell_type": "code",
   "execution_count": 16,
   "id": "4d21c287",
   "metadata": {},
   "outputs": [
    {
     "data": {
      "text/html": [
       "<span style=\"None\">Running query in &#x27;duckdb:///bank.duck.db&#x27;</span>"
      ],
      "text/plain": [
       "Running query in 'duckdb:///bank.duck.db'"
      ]
     },
     "metadata": {},
     "output_type": "display_data"
    },
    {
     "data": {
      "text/html": [
       "<table>\n",
       "    <thead>\n",
       "        <tr>\n",
       "            <th>job</th>\n",
       "            <th>marital</th>\n",
       "            <th>duration_in_years</th>\n",
       "        </tr>\n",
       "    </thead>\n",
       "    <tbody>\n",
       "        <tr>\n",
       "            <td>unemployed</td>\n",
       "            <td>married</td>\n",
       "            <td>6.58</td>\n",
       "        </tr>\n",
       "        <tr>\n",
       "            <td>services</td>\n",
       "            <td>married</td>\n",
       "            <td>18.33</td>\n",
       "        </tr>\n",
       "        <tr>\n",
       "            <td>management</td>\n",
       "            <td>single</td>\n",
       "            <td>15.42</td>\n",
       "        </tr>\n",
       "        <tr>\n",
       "            <td>management</td>\n",
       "            <td>married</td>\n",
       "            <td>16.58</td>\n",
       "        </tr>\n",
       "        <tr>\n",
       "            <td>blue-collar</td>\n",
       "            <td>married</td>\n",
       "            <td>18.83</td>\n",
       "        </tr>\n",
       "        <tr>\n",
       "            <td>management</td>\n",
       "            <td>single</td>\n",
       "            <td>11.75</td>\n",
       "        </tr>\n",
       "        <tr>\n",
       "            <td>self-employed</td>\n",
       "            <td>married</td>\n",
       "            <td>28.42</td>\n",
       "        </tr>\n",
       "        <tr>\n",
       "            <td>technician</td>\n",
       "            <td>married</td>\n",
       "            <td>12.58</td>\n",
       "        </tr>\n",
       "        <tr>\n",
       "            <td>entrepreneur</td>\n",
       "            <td>married</td>\n",
       "            <td>4.75</td>\n",
       "        </tr>\n",
       "        <tr>\n",
       "            <td>services</td>\n",
       "            <td>married</td>\n",
       "            <td>26.08</td>\n",
       "        </tr>\n",
       "    </tbody>\n",
       "</table>\n",
       "<span style=\"font-style:italic;text-align:center;\">4521 rows, truncated to displaylimit of 10</span><br><span style=\"font-style:italic;text-align:center;\">If you want to see more, please visit <a href=\"https://jupysql.ploomber.io/en/latest/api/configuration.html#displaylimit\">displaylimit</a> configuration</span>"
      ],
      "text/plain": [
       "+---------------+---------+-------------------+\n",
       "|      job      | marital | duration_in_years |\n",
       "+---------------+---------+-------------------+\n",
       "|   unemployed  | married |        6.58       |\n",
       "|    services   | married |       18.33       |\n",
       "|   management  |  single |       15.42       |\n",
       "|   management  | married |       16.58       |\n",
       "|  blue-collar  | married |       18.83       |\n",
       "|   management  |  single |       11.75       |\n",
       "| self-employed | married |       28.42       |\n",
       "|   technician  | married |       12.58       |\n",
       "|  entrepreneur | married |        4.75       |\n",
       "|    services   | married |       26.08       |\n",
       "+---------------+---------+-------------------+"
      ]
     },
     "execution_count": 16,
     "metadata": {},
     "output_type": "execute_result"
    }
   ],
   "source": [
    "%%sql --save convert_duration_handle_null\n",
    "{% macro months_to_years_handle_null(column_name, precision=2) %}\n",
    "    (case when {{ column_name }} is not null then {{ column_name }} / 12 else null end)::numeric(16, {{ precision }})\n",
    "{% endmacro %}\n",
    "\n",
    "select\n",
    "  job, marital,\n",
    "  {{ months_to_years_handle_null('duration') }} as duration_in_years\n",
    "from bank"
   ]
  },
  {
   "cell_type": "code",
   "execution_count": 17,
   "id": "d569a0fe",
   "metadata": {},
   "outputs": [
    {
     "name": "stdout",
     "output_type": "stream",
     "text": [
      "WITH\n",
      "\n",
      "\n",
      "select\n",
      "  job, marital,\n",
      "  \n",
      "    (case when duration is not null then duration / 12 else null end)::numeric(16, 2)\n",
      " as duration_in_years\n",
      "from bank\n"
     ]
    }
   ],
   "source": [
    "final = %sqlrender convert_duration_handle_null\n",
    "print(final)"
   ]
  },
  {
   "attachments": {},
   "cell_type": "markdown",
   "id": "d53fe94b",
   "metadata": {},
   "source": [
    "### Mini exercise\n",
    "\n",
    "Use the `months_to_years_handle_null` macro to iterate over the `jobs`: \"blue_collar\", \"technician\", \"services\", \"management\". For each job in the loop, calculate the average duration for the specified job. Save this query as `avg_duration`. Display the query.\n",
    "\n",
    "<!-- #region -->\n",
    "<details>\n",
    "\n",
    "<summary>Answers</summary>\n",
    "\n",
    "This modification is using the `months_to_years_handle_null` macro that you had defined earlier. This macro will convert duration from months to years for each job category, while also handling null values. The macro will apply to the average duration of each job category (where the job is equal to the current job in the loop). The output for each job category is then given an alias that indicates the job category and that it represents average duration in years.\n",
    "\n",
    "Just like before, this Jinja2 template will dynamically generate the SQL query, and the --save directive will save the query result into the avg_duration variable."
   ]
  },
  {
   "cell_type": "code",
   "execution_count": 18,
   "id": "0c63ff0c",
   "metadata": {},
   "outputs": [
    {
     "data": {
      "text/html": [
       "<span style=\"None\">Running query in &#x27;duckdb:///bank.duck.db&#x27;</span>"
      ],
      "text/plain": [
       "Running query in 'duckdb:///bank.duck.db'"
      ]
     },
     "metadata": {},
     "output_type": "display_data"
    },
    {
     "data": {
      "text/html": [
       "<table>\n",
       "    <thead>\n",
       "        <tr>\n",
       "            <th>avg_duration_blue_collar</th>\n",
       "            <th>avg_duration_technician</th>\n",
       "            <th>avg_duration_services</th>\n",
       "            <th>avg_duration_management</th>\n",
       "        </tr>\n",
       "    </thead>\n",
       "    <tbody>\n",
       "        <tr>\n",
       "            <td>23.18</td>\n",
       "            <td>21.01</td>\n",
       "            <td>21.87</td>\n",
       "            <td>21.71</td>\n",
       "        </tr>\n",
       "    </tbody>\n",
       "</table>"
      ],
      "text/plain": [
       "+--------------------------+-------------------------+-----------------------+-------------------------+\n",
       "| avg_duration_blue_collar | avg_duration_technician | avg_duration_services | avg_duration_management |\n",
       "+--------------------------+-------------------------+-----------------------+-------------------------+\n",
       "|          23.18           |          21.01          |         21.87         |          21.71          |\n",
       "+--------------------------+-------------------------+-----------------------+-------------------------+"
      ]
     },
     "execution_count": 18,
     "metadata": {},
     "output_type": "execute_result"
    }
   ],
   "source": [
    "%%sql --save avg_duration\n",
    "{% macro months_to_years_handle_null(column_name, precision=2) %}\n",
    "    (case when {{ column_name }} is not null then {{ column_name }} / 12 else null end)::numeric(16, {{ precision }})\n",
    "{% endmacro %}\n",
    "{% set jobs = [ \"blue_collar\", \"technician\", \"services\", \"management\"] %}\n",
    "select\n",
    "    {% for job in jobs %}\n",
    "    {{ months_to_years_handle_null('avg(case when job = \\'' + job.replace('_', '-') + '\\' then duration end)') }} as avg_duration_{{job}},\n",
    "    {% endfor %}\n",
    "from bank"
   ]
  },
  {
   "attachments": {},
   "cell_type": "markdown",
   "id": "814f4cc0",
   "metadata": {},
   "source": [
    "Display the query:"
   ]
  },
  {
   "cell_type": "code",
   "execution_count": 19,
   "id": "df800a07",
   "metadata": {},
   "outputs": [
    {
     "name": "stdout",
     "output_type": "stream",
     "text": [
      "WITH\n",
      "\n",
      "\n",
      "select\n",
      "    \n",
      "    \n",
      "    (case when avg(case when job = 'blue-collar' then duration end) is not null then avg(case when job = 'blue-collar' then duration end) / 12 else null end)::numeric(16, 2)\n",
      " as avg_duration_blue_collar,\n",
      "    \n",
      "    \n",
      "    (case when avg(case when job = 'technician' then duration end) is not null then avg(case when job = 'technician' then duration end) / 12 else null end)::numeric(16, 2)\n",
      " as avg_duration_technician,\n",
      "    \n",
      "    \n",
      "    (case when avg(case when job = 'services' then duration end) is not null then avg(case when job = 'services' then duration end) / 12 else null end)::numeric(16, 2)\n",
      " as avg_duration_services,\n",
      "    \n",
      "    \n",
      "    (case when avg(case when job = 'management' then duration end) is not null then avg(case when job = 'management' then duration end) / 12 else null end)::numeric(16, 2)\n",
      " as avg_duration_management,\n",
      "    \n",
      "from bank\n"
     ]
    }
   ],
   "source": [
    "final = %sqlrender avg_duration\n",
    "print(final)"
   ]
  },
  {
   "attachments": {},
   "cell_type": "markdown",
   "id": "b3067b26",
   "metadata": {},
   "source": [
    "</details>\n",
    "<!-- #endregion -->\n",
    "\n",
    "\n",
    "## Creating multiple tables dynamically\n",
    "\n",
    "We'll finish off this section by showing you how you can generate multiple tables dynamically. \n",
    "\n",
    "Your task now is to create separate tables for each job. This can easily be accomplished using a loop and variable expansion:"
   ]
  },
  {
   "cell_type": "code",
   "execution_count": 20,
   "id": "11227be9",
   "metadata": {},
   "outputs": [
    {
     "data": {
      "text/html": [
       "<span style=\"None\">Running query in &#x27;duckdb:///bank.duck.db&#x27;</span>"
      ],
      "text/plain": [
       "Running query in 'duckdb:///bank.duck.db'"
      ]
     },
     "metadata": {},
     "output_type": "display_data"
    },
    {
     "data": {
      "text/html": [
       "<span style=\"None\">Running query in &#x27;duckdb:///bank.duck.db&#x27;</span>"
      ],
      "text/plain": [
       "Running query in 'duckdb:///bank.duck.db'"
      ]
     },
     "metadata": {},
     "output_type": "display_data"
    }
   ],
   "source": [
    "jobs = [\"services\", \"management\"]\n",
    "for job in jobs:\n",
    "    %sql CREATE TABLE {{job}} AS (SELECT * from bank WHERE job = '{{job}}')"
   ]
  },
  {
   "attachments": {},
   "cell_type": "markdown",
   "id": "303aba4b",
   "metadata": {},
   "source": [
    "Let's check the tables in our schema:"
   ]
  },
  {
   "cell_type": "code",
   "execution_count": 21,
   "id": "20a891c0",
   "metadata": {},
   "outputs": [
    {
     "data": {
      "text/html": [
       "<table>\n",
       "    <thead>\n",
       "        <tr>\n",
       "            <th>Name</th>\n",
       "        </tr>\n",
       "    </thead>\n",
       "    <tbody>\n",
       "        <tr>\n",
       "            <td>management</td>\n",
       "        </tr>\n",
       "        <tr>\n",
       "            <td>services</td>\n",
       "        </tr>\n",
       "        <tr>\n",
       "            <td>bank</td>\n",
       "        </tr>\n",
       "    </tbody>\n",
       "</table>"
      ],
      "text/plain": [
       "+------------+\n",
       "|    Name    |\n",
       "+------------+\n",
       "| management |\n",
       "|  services  |\n",
       "|    bank    |\n",
       "+------------+"
      ]
     },
     "execution_count": 21,
     "metadata": {},
     "output_type": "execute_result"
    }
   ],
   "source": [
    "%sqlcmd tables"
   ]
  },
  {
   "attachments": {},
   "cell_type": "markdown",
   "id": "08092ded",
   "metadata": {},
   "source": [
    "## Conclusion\n",
    "In this module, we have explored how to parameterize SQL queries and effectively integrate with Python for a more interactive data analysis workflow within Jupyter notebooks. This method is facilitated using JupySQL and DuckDB. We've also demonstrated how to dynamically create and use variables within SQL queries, further enhancing the flexibility and interactivity of the notebooks.\n",
    "\n",
    "We delved into the basics of variable expansion, using loops within SQL to iterate over arrays, and how to define and use macros to promote reusability and reduce redundancy. We further illustrated the potential of these techniques through several practical examples, including determining the top five oldest and youngest employees in various jobs, calculating average ages and balances by job and education level, handling `NULL` values with `macros`, and dynamically creating multiple tables.\n",
    "\n",
    "Through these exercises, it has been made evident that integrating SQL into Jupyter notebooks provides an intuitive and powerful approach to data exploration and analysis. The techniques demonstrated in this module can be widely applied across various datasets, making it a useful skillset for data scientists and analysts. By merging the strengths of Python's flexibility and SQL's data management capabilities, we can create more powerful and interactive data workflows.\n",
    "\n",
    "In the next section, you'll learn how to combine paramaterization with `ipywidgets`."
   ]
  }
 ],
 "metadata": {
  "kernelspec": {
   "display_name": "Python 3 (ipykernel)",
   "language": "python",
   "name": "python3"
  },
  "language_info": {
   "codemirror_mode": {
    "name": "ipython",
    "version": 3
   },
   "file_extension": ".py",
   "mimetype": "text/x-python",
   "name": "python",
   "nbconvert_exporter": "python",
   "pygments_lexer": "ipython3",
   "version": "3.10.0"
  }
 },
 "nbformat": 4,
 "nbformat_minor": 5
}
