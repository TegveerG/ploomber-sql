{
 "cells": [
  {
   "attachments": {},
   "cell_type": "markdown",
   "id": "7c034f2b",
   "metadata": {},
   "source": [
    "# Joining data in SQL\n",
    "\n",
    "This section introduces a fundamental concept in SQL: <b>joining</b>. Joining is a powerful technique used to combine data from multiple tables based on their relationships. It allows you to supplement a dataset with additional information from another related dataset.\n",
    "\n",
    "To show the capabilites of joining, we move away from the single bank dataset we initially used in this course. We will be incorporating several new datasets illustrated below.\n",
    "\n",
    "## Datasets\n",
    "\n",
    "The datasets we will be using originates from another bank's financial data. \n",
    "\n",
    "Source: https://web.archive.org/web/20180506061559/http://lisp.vse.cz/pkdd99/Challenge/chall.htm\n",
    "\n",
    "We first focus on just two datasets, the `account` and `district` dataset. To expedite our progress, we will skip the detailed explanation of each dataset's variables and dive straight into how joining works.\n",
    "\n",
    "For a comprehensive understanding of the data structure and attributes, please refer to the datasets' documentation.\n",
    "\n",
    "Documentation: https://web.archive.org/web/20180506035658/http://lisp.vse.cz/pkdd99/Challenge/berka.htm\n",
    "\n",
    "Below is a display of `account` and `district` in an Entity-Relationship Diagram (ERD). \n",
    "\n",
    "![](joining-data-ERD.png)\n",
    "\n",
    "ERDs are visual representations that help understand the relationship between two or more datasets. In an ERD, each table in the diagram represents a dataset. The variables of each dataset are represented as rows under each respective table. In our case, the first column of our table is the variable's name while the second column is the variable's value type. The notations of the line connecting our two tables indicate their relationship type and is defined as \"Crow's Foot Notation\". To learn more about this notation, we recommend visiting this article: https://vertabelo.com/blog/crow-s-foot-notation/\n",
    "\n",
    "There exists only two value types in the `accounts` and `district` table: \"INT\" and \"VARCHAR\". The \"INT\" value type indicates that the corresponding value is an integer, while \"VARCHAR\" represents a variable-length string that can contain various characters. These value types help SQL understand the appropriate operations that can be performed on each value. Alongside this, the second column of our tables also show if a variable is a primary key (PK) or foreign key (FK). We introduce these concepts below.\n",
    "\n",
    "### What is a primary key and a foreign key?\n",
    "\n",
    "In a database, a <b>primary key</b> is a unique identifier for each record in a table. For instance, our `accounts` table has the primary key of \"account_id\". This makes sense because every single row in the `accounts` table corresponds to \"account_id\" which represents one single account. The `district` table has the primary key of \"District ID\". This means that each row under the `district` table represents one single district (or district id). So under the `accounts` table, there should not be any rows with the same \"account_id\" value. Similarly, the `district` table should not have any rows with the same \"district_id\" value. \n",
    "\n",
    "A foreign key, on the other hand, establishes a relationship between two tables. It refers to the primary key of another table and helps connect the records across multiple tables. In our example, the \"district_id\" in the account table is a foreign key, indicating that it references the primary key of the district table. This allows us to associate each account with its corresponding district.\n",
    "\n",
    "By using primary and foreign keys, we establish relationships between tables, enabling us to perform joins and retrieve meaningful information by linking related data together. Let's jump straight into demonstrating these joins and how primary keys and foreign keys work.\n",
    "\n",
    "<!-- #region -->\n",
    "## Install - execute this once. \n",
    "<b>Note:</b> If you are following these lessons locally and <b>not</b> on Google Colab, then there is no need to reinstall these packages.\n",
    "\n",
    "This code installs JupySQL, DuckDB, and Pandas in your environment. We will be using these moving forward."
   ]
  },
  {
   "cell_type": "code",
   "execution_count": null,
   "id": "cc53a4b1",
   "metadata": {},
   "outputs": [],
   "source": [
    "%pip install jupysql --upgrade duckdb-engine pandas --quiet"
   ]
  },
  {
   "attachments": {},
   "cell_type": "markdown",
   "id": "93967215",
   "metadata": {},
   "source": [
    "## Load the data\n",
    "We extract the financial data by retrieving it from it's URL download link. The link may be a zip file (which it is in this case), so we extract the zip file and convert the .asc files to .csv files. Finally, we save converted data into a folder.\n",
    "\n",
    "The script we call can be found under `sql/course-material/intro-to-sql/banking_data_script.py`. This script downloads and stores the necessary data into a folder within the current directory. Please reference the script for more information."
   ]
  },
  {
   "cell_type": "code",
   "execution_count": 1,
   "id": "91be7349",
   "metadata": {},
   "outputs": [
    {
     "name": "stdout",
     "output_type": "stream",
     "text": [
      "Converted expanded_data/trans.asc to CSV.\n",
      "Converted expanded_data/order.asc to CSV.\n",
      "Converted expanded_data/loan.asc to CSV.\n",
      "Converted expanded_data/district.asc to CSV.\n",
      "Converted expanded_data/disp.asc to CSV.\n",
      "Converted expanded_data/client.asc to CSV.\n",
      "Converted expanded_data/card.asc to CSV.\n",
      "Converted expanded_data/account.asc to CSV.\n",
      "All ASC files converted to CSV.\n"
     ]
    }
   ],
   "source": [
    "import banking_data_script\n",
    "\n",
    "# ZIP file download link\n",
    "link = \"http://sorry.vse.cz/~berka/challenge/pkdd1999/data_berka.zip\"\n",
    "# Naming our folder that will hold our .csv files\n",
    "output = \"expanded_data\"\n",
    "banking_data_script.extract_asc_to_csv(link, output)"
   ]
  },
  {
   "attachments": {},
   "cell_type": "markdown",
   "id": "3f8dfc18",
   "metadata": {},
   "source": [
    "<!-- #endregion -->\n",
    "\n",
    "If you ran the above cell, you should have a folder `expanded_data` in your current directory that contains the `.csv` files we will be using.\n",
    "\n",
    "## Load Engine\n",
    "We now load in our SQL extension that allows us to execute SQL queries in Jupyter Notebooks. \n",
    "\n",
    "<b>Note</b> Ensure you restart any previous notebook that has the same database name as the one initialized below."
   ]
  },
  {
   "cell_type": "code",
   "execution_count": 2,
   "id": "8bae8fb7",
   "metadata": {},
   "outputs": [],
   "source": [
    "# Loading in SQL extension\n",
    "%reload_ext sql\n",
    "# Initiating a DuckDB database named 'bank_data.duck.db'\n",
    "%sql duckdb:///bank_data.duck.db"
   ]
  },
  {
   "attachments": {},
   "cell_type": "markdown",
   "id": "a8af31bc",
   "metadata": {},
   "source": [
    "## Queries\n",
    "\n",
    "\n",
    "### Creating a Schema\n",
    "\n",
    "A schema helps define how our data is organized. Think of it as a container that holds certain datasets that relate to each other. In our `bank_data.duck.db` database, we could have several schemas, each having their own datasets that relate to each other. For now we will create one schema to hold our `accounts` and `district` dataset."
   ]
  },
  {
   "cell_type": "code",
   "execution_count": 3,
   "id": "aba435f0",
   "metadata": {},
   "outputs": [
    {
     "data": {
      "text/html": [
       "<span style=\"None\">Running query in &#x27;duckdb:///bank_data.duck.db&#x27;</span>"
      ],
      "text/plain": [
       "Running query in 'duckdb:///bank_data.duck.db'"
      ]
     },
     "metadata": {},
     "output_type": "display_data"
    },
    {
     "data": {
      "text/html": [
       "<table>\n",
       "    <thead>\n",
       "        <tr>\n",
       "            <th>Count</th>\n",
       "        </tr>\n",
       "    </thead>\n",
       "    <tbody>\n",
       "        <tr>\n",
       "            <td>77</td>\n",
       "        </tr>\n",
       "    </tbody>\n",
       "</table>"
      ],
      "text/plain": [
       "+-------+\n",
       "| Count |\n",
       "+-------+\n",
       "|   77  |\n",
       "+-------+"
      ]
     },
     "execution_count": 3,
     "metadata": {},
     "output_type": "execute_result"
    }
   ],
   "source": [
    "%%sql\n",
    "CREATE SCHEMA s1;\n",
    "CREATE TABLE s1.account AS\n",
    "FROM read_csv_auto('expanded_data/account.csv', header=True, sep=',');\n",
    "CREATE TABLE s1.district AS\n",
    "FROM read_csv_auto('expanded_data/district.csv', header=True, sep=',');"
   ]
  },
  {
   "attachments": {},
   "cell_type": "markdown",
   "id": "d06e9b60",
   "metadata": {},
   "source": [
    "Let's take a brief look at both of our tables before we get started."
   ]
  },
  {
   "cell_type": "code",
   "execution_count": 4,
   "id": "7d121c79",
   "metadata": {},
   "outputs": [
    {
     "data": {
      "text/html": [
       "<span style=\"None\">Running query in &#x27;duckdb:///bank_data.duck.db&#x27;</span>"
      ],
      "text/plain": [
       "Running query in 'duckdb:///bank_data.duck.db'"
      ]
     },
     "metadata": {},
     "output_type": "display_data"
    },
    {
     "data": {
      "text/html": [
       "<table>\n",
       "    <thead>\n",
       "        <tr>\n",
       "            <th>account_id</th>\n",
       "            <th>district_id</th>\n",
       "            <th>frequency</th>\n",
       "            <th>date</th>\n",
       "        </tr>\n",
       "    </thead>\n",
       "    <tbody>\n",
       "        <tr>\n",
       "            <td>576</td>\n",
       "            <td>55</td>\n",
       "            <td>POPLATEK MESICNE</td>\n",
       "            <td>930101</td>\n",
       "        </tr>\n",
       "        <tr>\n",
       "            <td>3818</td>\n",
       "            <td>74</td>\n",
       "            <td>POPLATEK MESICNE</td>\n",
       "            <td>930101</td>\n",
       "        </tr>\n",
       "        <tr>\n",
       "            <td>704</td>\n",
       "            <td>55</td>\n",
       "            <td>POPLATEK MESICNE</td>\n",
       "            <td>930101</td>\n",
       "        </tr>\n",
       "        <tr>\n",
       "            <td>2378</td>\n",
       "            <td>16</td>\n",
       "            <td>POPLATEK MESICNE</td>\n",
       "            <td>930101</td>\n",
       "        </tr>\n",
       "        <tr>\n",
       "            <td>2632</td>\n",
       "            <td>24</td>\n",
       "            <td>POPLATEK MESICNE</td>\n",
       "            <td>930102</td>\n",
       "        </tr>\n",
       "    </tbody>\n",
       "</table>"
      ],
      "text/plain": [
       "+------------+-------------+------------------+--------+\n",
       "| account_id | district_id |    frequency     |  date  |\n",
       "+------------+-------------+------------------+--------+\n",
       "|    576     |      55     | POPLATEK MESICNE | 930101 |\n",
       "|    3818    |      74     | POPLATEK MESICNE | 930101 |\n",
       "|    704     |      55     | POPLATEK MESICNE | 930101 |\n",
       "|    2378    |      16     | POPLATEK MESICNE | 930101 |\n",
       "|    2632    |      24     | POPLATEK MESICNE | 930102 |\n",
       "+------------+-------------+------------------+--------+"
      ]
     },
     "execution_count": 4,
     "metadata": {},
     "output_type": "execute_result"
    }
   ],
   "source": [
    "%%sql\n",
    "SELECT *\n",
    "FROM s1.account\n",
    "LIMIT 5"
   ]
  },
  {
   "cell_type": "code",
   "execution_count": 5,
   "id": "5e14dcb4",
   "metadata": {},
   "outputs": [
    {
     "data": {
      "text/html": [
       "<span style=\"None\">Running query in &#x27;duckdb:///bank_data.duck.db&#x27;</span>"
      ],
      "text/plain": [
       "Running query in 'duckdb:///bank_data.duck.db'"
      ]
     },
     "metadata": {},
     "output_type": "display_data"
    },
    {
     "data": {
      "text/html": [
       "<table>\n",
       "    <thead>\n",
       "        <tr>\n",
       "            <th>district_id</th>\n",
       "            <th>district_name</th>\n",
       "            <th>region</th>\n",
       "            <th>no_of_inhabitants</th>\n",
       "            <th>no_of_municipalities_lt_499</th>\n",
       "            <th>no_of_municipalities_500_1999</th>\n",
       "            <th>no_of_municipalities_2000_9999</th>\n",
       "            <th>no_of_municipalities_gt_10000</th>\n",
       "            <th>no_of_cities</th>\n",
       "            <th>ratio_of_urban_inhabitants</th>\n",
       "            <th>average_salary</th>\n",
       "            <th>unemployment_rate_95</th>\n",
       "            <th>unemployment_rate_96</th>\n",
       "            <th>no_of_entrepreneurs_per_1000_inhabitants</th>\n",
       "            <th>no_of_committed_crimes_95</th>\n",
       "            <th>no_of_committed_crimes_96</th>\n",
       "        </tr>\n",
       "    </thead>\n",
       "    <tbody>\n",
       "        <tr>\n",
       "            <td>1</td>\n",
       "            <td>Hl.m. Praha</td>\n",
       "            <td>Prague</td>\n",
       "            <td>1204953</td>\n",
       "            <td>0</td>\n",
       "            <td>0</td>\n",
       "            <td>0</td>\n",
       "            <td>1</td>\n",
       "            <td>1</td>\n",
       "            <td>100.0</td>\n",
       "            <td>12541</td>\n",
       "            <td>0.29</td>\n",
       "            <td>0.43</td>\n",
       "            <td>167</td>\n",
       "            <td>85677</td>\n",
       "            <td>99107</td>\n",
       "        </tr>\n",
       "        <tr>\n",
       "            <td>2</td>\n",
       "            <td>Benesov</td>\n",
       "            <td>central Bohemia</td>\n",
       "            <td>88884</td>\n",
       "            <td>80</td>\n",
       "            <td>26</td>\n",
       "            <td>6</td>\n",
       "            <td>2</td>\n",
       "            <td>5</td>\n",
       "            <td>46.7</td>\n",
       "            <td>8507</td>\n",
       "            <td>1.67</td>\n",
       "            <td>1.85</td>\n",
       "            <td>132</td>\n",
       "            <td>2159</td>\n",
       "            <td>2674</td>\n",
       "        </tr>\n",
       "        <tr>\n",
       "            <td>3</td>\n",
       "            <td>Beroun</td>\n",
       "            <td>central Bohemia</td>\n",
       "            <td>75232</td>\n",
       "            <td>55</td>\n",
       "            <td>26</td>\n",
       "            <td>4</td>\n",
       "            <td>1</td>\n",
       "            <td>5</td>\n",
       "            <td>41.7</td>\n",
       "            <td>8980</td>\n",
       "            <td>1.95</td>\n",
       "            <td>2.21</td>\n",
       "            <td>111</td>\n",
       "            <td>2824</td>\n",
       "            <td>2813</td>\n",
       "        </tr>\n",
       "        <tr>\n",
       "            <td>4</td>\n",
       "            <td>Kladno</td>\n",
       "            <td>central Bohemia</td>\n",
       "            <td>149893</td>\n",
       "            <td>63</td>\n",
       "            <td>29</td>\n",
       "            <td>6</td>\n",
       "            <td>2</td>\n",
       "            <td>6</td>\n",
       "            <td>67.4</td>\n",
       "            <td>9753</td>\n",
       "            <td>4.64</td>\n",
       "            <td>5.05</td>\n",
       "            <td>109</td>\n",
       "            <td>5244</td>\n",
       "            <td>5892</td>\n",
       "        </tr>\n",
       "        <tr>\n",
       "            <td>5</td>\n",
       "            <td>Kolin</td>\n",
       "            <td>central Bohemia</td>\n",
       "            <td>95616</td>\n",
       "            <td>65</td>\n",
       "            <td>30</td>\n",
       "            <td>4</td>\n",
       "            <td>1</td>\n",
       "            <td>6</td>\n",
       "            <td>51.4</td>\n",
       "            <td>9307</td>\n",
       "            <td>3.85</td>\n",
       "            <td>4.43</td>\n",
       "            <td>118</td>\n",
       "            <td>2616</td>\n",
       "            <td>3040</td>\n",
       "        </tr>\n",
       "    </tbody>\n",
       "</table>"
      ],
      "text/plain": [
       "+-------------+---------------+-----------------+-------------------+-----------------------------+-------------------------------+--------------------------------+-------------------------------+--------------+----------------------------+----------------+----------------------+----------------------+------------------------------------------+---------------------------+---------------------------+\n",
       "| district_id | district_name |      region     | no_of_inhabitants | no_of_municipalities_lt_499 | no_of_municipalities_500_1999 | no_of_municipalities_2000_9999 | no_of_municipalities_gt_10000 | no_of_cities | ratio_of_urban_inhabitants | average_salary | unemployment_rate_95 | unemployment_rate_96 | no_of_entrepreneurs_per_1000_inhabitants | no_of_committed_crimes_95 | no_of_committed_crimes_96 |\n",
       "+-------------+---------------+-----------------+-------------------+-----------------------------+-------------------------------+--------------------------------+-------------------------------+--------------+----------------------------+----------------+----------------------+----------------------+------------------------------------------+---------------------------+---------------------------+\n",
       "|      1      |  Hl.m. Praha  |      Prague     |      1204953      |              0              |               0               |               0                |               1               |      1       |           100.0            |     12541      |         0.29         |         0.43         |                   167                    |           85677           |           99107           |\n",
       "|      2      |    Benesov    | central Bohemia |       88884       |              80             |               26              |               6                |               2               |      5       |            46.7            |      8507      |         1.67         |         1.85         |                   132                    |            2159           |            2674           |\n",
       "|      3      |     Beroun    | central Bohemia |       75232       |              55             |               26              |               4                |               1               |      5       |            41.7            |      8980      |         1.95         |         2.21         |                   111                    |            2824           |            2813           |\n",
       "|      4      |     Kladno    | central Bohemia |       149893      |              63             |               29              |               6                |               2               |      6       |            67.4            |      9753      |         4.64         |         5.05         |                   109                    |            5244           |            5892           |\n",
       "|      5      |     Kolin     | central Bohemia |       95616       |              65             |               30              |               4                |               1               |      6       |            51.4            |      9307      |         3.85         |         4.43         |                   118                    |            2616           |            3040           |\n",
       "+-------------+---------------+-----------------+-------------------+-----------------------------+-------------------------------+--------------------------------+-------------------------------+--------------+----------------------------+----------------+----------------------+----------------------+------------------------------------------+---------------------------+---------------------------+"
      ]
     },
     "execution_count": 5,
     "metadata": {},
     "output_type": "execute_result"
    }
   ],
   "source": [
    "%%sql\n",
    "SELECT *\n",
    "FROM s1.district\n",
    "LIMIT 5"
   ]
  },
  {
   "attachments": {},
   "cell_type": "markdown",
   "id": "689f1ee6",
   "metadata": {},
   "source": [
    "Before we jump into joins, I highly recommend following along with <a href=\"https://joins.spathon.com/\">this resource</a>.\n",
    "\n",
    "\n",
    "### Inner Join\n",
    "\n",
    "The most basic join is the inner join. Inner joins result in a query that returns rows where both tables have the specified key. For example, the query below inner joins our `s1.account` and `s1.district` table `ON` the \"accounts_id\" variable."
   ]
  },
  {
   "cell_type": "code",
   "execution_count": 6,
   "id": "f2debf2c",
   "metadata": {},
   "outputs": [
    {
     "data": {
      "text/html": [
       "<span style=\"None\">Running query in &#x27;duckdb:///bank_data.duck.db&#x27;</span>"
      ],
      "text/plain": [
       "Running query in 'duckdb:///bank_data.duck.db'"
      ]
     },
     "metadata": {},
     "output_type": "display_data"
    },
    {
     "data": {
      "text/html": [
       "<table>\n",
       "    <thead>\n",
       "        <tr>\n",
       "            <th>account_id</th>\n",
       "            <th>district_id</th>\n",
       "            <th>frequency</th>\n",
       "            <th>date</th>\n",
       "            <th>district_id_1</th>\n",
       "            <th>district_name</th>\n",
       "            <th>region</th>\n",
       "            <th>no_of_inhabitants</th>\n",
       "            <th>no_of_municipalities_lt_499</th>\n",
       "            <th>no_of_municipalities_500_1999</th>\n",
       "            <th>no_of_municipalities_2000_9999</th>\n",
       "            <th>no_of_municipalities_gt_10000</th>\n",
       "            <th>no_of_cities</th>\n",
       "            <th>ratio_of_urban_inhabitants</th>\n",
       "            <th>average_salary</th>\n",
       "            <th>unemployment_rate_95</th>\n",
       "            <th>unemployment_rate_96</th>\n",
       "            <th>no_of_entrepreneurs_per_1000_inhabitants</th>\n",
       "            <th>no_of_committed_crimes_95</th>\n",
       "            <th>no_of_committed_crimes_96</th>\n",
       "        </tr>\n",
       "    </thead>\n",
       "    <tbody>\n",
       "        <tr>\n",
       "            <td>576</td>\n",
       "            <td>55</td>\n",
       "            <td>POPLATEK MESICNE</td>\n",
       "            <td>930101</td>\n",
       "            <td>55</td>\n",
       "            <td>Brno - venkov</td>\n",
       "            <td>south Moravia</td>\n",
       "            <td>157042</td>\n",
       "            <td>49</td>\n",
       "            <td>70</td>\n",
       "            <td>18</td>\n",
       "            <td>0</td>\n",
       "            <td>9</td>\n",
       "            <td>33.9</td>\n",
       "            <td>8743</td>\n",
       "            <td>1.88</td>\n",
       "            <td>2.43</td>\n",
       "            <td>111</td>\n",
       "            <td>3659</td>\n",
       "            <td>3894</td>\n",
       "        </tr>\n",
       "        <tr>\n",
       "            <td>3818</td>\n",
       "            <td>74</td>\n",
       "            <td>POPLATEK MESICNE</td>\n",
       "            <td>930101</td>\n",
       "            <td>74</td>\n",
       "            <td>Ostrava - mesto</td>\n",
       "            <td>north Moravia</td>\n",
       "            <td>323870</td>\n",
       "            <td>0</td>\n",
       "            <td>0</td>\n",
       "            <td>0</td>\n",
       "            <td>1</td>\n",
       "            <td>1</td>\n",
       "            <td>100.0</td>\n",
       "            <td>10673</td>\n",
       "            <td>4.75</td>\n",
       "            <td>5.44</td>\n",
       "            <td>100</td>\n",
       "            <td>18782</td>\n",
       "            <td>18347</td>\n",
       "        </tr>\n",
       "        <tr>\n",
       "            <td>704</td>\n",
       "            <td>55</td>\n",
       "            <td>POPLATEK MESICNE</td>\n",
       "            <td>930101</td>\n",
       "            <td>55</td>\n",
       "            <td>Brno - venkov</td>\n",
       "            <td>south Moravia</td>\n",
       "            <td>157042</td>\n",
       "            <td>49</td>\n",
       "            <td>70</td>\n",
       "            <td>18</td>\n",
       "            <td>0</td>\n",
       "            <td>9</td>\n",
       "            <td>33.9</td>\n",
       "            <td>8743</td>\n",
       "            <td>1.88</td>\n",
       "            <td>2.43</td>\n",
       "            <td>111</td>\n",
       "            <td>3659</td>\n",
       "            <td>3894</td>\n",
       "        </tr>\n",
       "        <tr>\n",
       "            <td>2378</td>\n",
       "            <td>16</td>\n",
       "            <td>POPLATEK MESICNE</td>\n",
       "            <td>930101</td>\n",
       "            <td>16</td>\n",
       "            <td>Jindrichuv Hradec</td>\n",
       "            <td>south Bohemia</td>\n",
       "            <td>93931</td>\n",
       "            <td>74</td>\n",
       "            <td>21</td>\n",
       "            <td>10</td>\n",
       "            <td>1</td>\n",
       "            <td>8</td>\n",
       "            <td>56.9</td>\n",
       "            <td>8427</td>\n",
       "            <td>1.12</td>\n",
       "            <td>1.54</td>\n",
       "            <td>107</td>\n",
       "            <td>1874</td>\n",
       "            <td>1913</td>\n",
       "        </tr>\n",
       "        <tr>\n",
       "            <td>2632</td>\n",
       "            <td>24</td>\n",
       "            <td>POPLATEK MESICNE</td>\n",
       "            <td>930102</td>\n",
       "            <td>24</td>\n",
       "            <td>Karlovy Vary</td>\n",
       "            <td>west Bohemia</td>\n",
       "            <td>122603</td>\n",
       "            <td>25</td>\n",
       "            <td>21</td>\n",
       "            <td>6</td>\n",
       "            <td>2</td>\n",
       "            <td>8</td>\n",
       "            <td>80.0</td>\n",
       "            <td>8991</td>\n",
       "            <td>1.39</td>\n",
       "            <td>2.01</td>\n",
       "            <td>128</td>\n",
       "            <td>5198</td>\n",
       "            <td>5273</td>\n",
       "        </tr>\n",
       "    </tbody>\n",
       "</table>"
      ],
      "text/plain": [
       "+------------+-------------+------------------+--------+---------------+-------------------+---------------+-------------------+-----------------------------+-------------------------------+--------------------------------+-------------------------------+--------------+----------------------------+----------------+----------------------+----------------------+------------------------------------------+---------------------------+---------------------------+\n",
       "| account_id | district_id |    frequency     |  date  | district_id_1 |   district_name   |     region    | no_of_inhabitants | no_of_municipalities_lt_499 | no_of_municipalities_500_1999 | no_of_municipalities_2000_9999 | no_of_municipalities_gt_10000 | no_of_cities | ratio_of_urban_inhabitants | average_salary | unemployment_rate_95 | unemployment_rate_96 | no_of_entrepreneurs_per_1000_inhabitants | no_of_committed_crimes_95 | no_of_committed_crimes_96 |\n",
       "+------------+-------------+------------------+--------+---------------+-------------------+---------------+-------------------+-----------------------------+-------------------------------+--------------------------------+-------------------------------+--------------+----------------------------+----------------+----------------------+----------------------+------------------------------------------+---------------------------+---------------------------+\n",
       "|    576     |      55     | POPLATEK MESICNE | 930101 |       55      |   Brno - venkov   | south Moravia |       157042      |              49             |               70              |               18               |               0               |      9       |            33.9            |      8743      |         1.88         |         2.43         |                   111                    |            3659           |            3894           |\n",
       "|    3818    |      74     | POPLATEK MESICNE | 930101 |       74      |  Ostrava - mesto  | north Moravia |       323870      |              0              |               0               |               0                |               1               |      1       |           100.0            |     10673      |         4.75         |         5.44         |                   100                    |           18782           |           18347           |\n",
       "|    704     |      55     | POPLATEK MESICNE | 930101 |       55      |   Brno - venkov   | south Moravia |       157042      |              49             |               70              |               18               |               0               |      9       |            33.9            |      8743      |         1.88         |         2.43         |                   111                    |            3659           |            3894           |\n",
       "|    2378    |      16     | POPLATEK MESICNE | 930101 |       16      | Jindrichuv Hradec | south Bohemia |       93931       |              74             |               21              |               10               |               1               |      8       |            56.9            |      8427      |         1.12         |         1.54         |                   107                    |            1874           |            1913           |\n",
       "|    2632    |      24     | POPLATEK MESICNE | 930102 |       24      |    Karlovy Vary   |  west Bohemia |       122603      |              25             |               21              |               6                |               2               |      8       |            80.0            |      8991      |         1.39         |         2.01         |                   128                    |            5198           |            5273           |\n",
       "+------------+-------------+------------------+--------+---------------+-------------------+---------------+-------------------+-----------------------------+-------------------------------+--------------------------------+-------------------------------+--------------+----------------------------+----------------+----------------------+----------------------+------------------------------------------+---------------------------+---------------------------+"
      ]
     },
     "execution_count": 6,
     "metadata": {},
     "output_type": "execute_result"
    }
   ],
   "source": [
    "%%sql\n",
    "SELECT *,\n",
    "FROM s1.account\n",
    "INNER JOIN s1.district \n",
    "    ON s1.account.district_id = s1.district.district_id\n",
    "LIMIT 5"
   ]
  },
  {
   "attachments": {},
   "cell_type": "markdown",
   "id": "147be34d",
   "metadata": {},
   "source": [
    "This query results in joining our `s1.account` and `s1.district` tables wherever the \"district_id\" exists in both tables. In this inner join, the \"district_id\" value must exist in both tables. For demonstration purposes, let's hypothetically assume that there is a row in the `s1.account` table that has a \"district_id\" value of 99999. We `INSERT` this value `INTO` our `s1.account` table below."
   ]
  },
  {
   "cell_type": "code",
   "execution_count": 7,
   "id": "5956630d",
   "metadata": {},
   "outputs": [
    {
     "data": {
      "text/html": [
       "<span style=\"None\">Running query in &#x27;duckdb:///bank_data.duck.db&#x27;</span>"
      ],
      "text/plain": [
       "Running query in 'duckdb:///bank_data.duck.db'"
      ]
     },
     "metadata": {},
     "output_type": "display_data"
    },
    {
     "data": {
      "text/html": [
       "<table>\n",
       "    <thead>\n",
       "        <tr>\n",
       "            <th>Count</th>\n",
       "        </tr>\n",
       "    </thead>\n",
       "    <tbody>\n",
       "        <tr>\n",
       "            <td>1</td>\n",
       "        </tr>\n",
       "    </tbody>\n",
       "</table>"
      ],
      "text/plain": [
       "+-------+\n",
       "| Count |\n",
       "+-------+\n",
       "|   1   |\n",
       "+-------+"
      ]
     },
     "execution_count": 7,
     "metadata": {},
     "output_type": "execute_result"
    }
   ],
   "source": [
    "%%sql \n",
    "INSERT INTO s1.account\n",
    "VALUES (9999, 99999, 'POPLATEK MESICNE', 930101)"
   ]
  },
  {
   "attachments": {},
   "cell_type": "markdown",
   "id": "6bb81799",
   "metadata": {},
   "source": [
    "Because the value 99999 does not exist under the \"district_id\" column in the `s1.district` table, this row from the `s1.account` will not appear in our join."
   ]
  },
  {
   "cell_type": "code",
   "execution_count": 8,
   "id": "56017fef",
   "metadata": {},
   "outputs": [
    {
     "data": {
      "text/html": [
       "<span style=\"None\">Running query in &#x27;duckdb:///bank_data.duck.db&#x27;</span>"
      ],
      "text/plain": [
       "Running query in 'duckdb:///bank_data.duck.db'"
      ]
     },
     "metadata": {},
     "output_type": "display_data"
    },
    {
     "data": {
      "text/html": [
       "<table>\n",
       "    <thead>\n",
       "        <tr>\n",
       "            <th>count_star()</th>\n",
       "        </tr>\n",
       "    </thead>\n",
       "    <tbody>\n",
       "        <tr>\n",
       "            <td>4501</td>\n",
       "        </tr>\n",
       "    </tbody>\n",
       "</table>"
      ],
      "text/plain": [
       "+--------------+\n",
       "| count_star() |\n",
       "+--------------+\n",
       "|     4501     |\n",
       "+--------------+"
      ]
     },
     "execution_count": 8,
     "metadata": {},
     "output_type": "execute_result"
    }
   ],
   "source": [
    "%%sql \n",
    "SELECT COUNT(*)\n",
    "FROM s1.account"
   ]
  },
  {
   "cell_type": "code",
   "execution_count": 9,
   "id": "d9a6f738",
   "metadata": {},
   "outputs": [
    {
     "data": {
      "text/html": [
       "<span style=\"None\">Running query in &#x27;duckdb:///bank_data.duck.db&#x27;</span>"
      ],
      "text/plain": [
       "Running query in 'duckdb:///bank_data.duck.db'"
      ]
     },
     "metadata": {},
     "output_type": "display_data"
    },
    {
     "data": {
      "text/html": [
       "<table>\n",
       "    <thead>\n",
       "        <tr>\n",
       "            <th>count_star()</th>\n",
       "        </tr>\n",
       "    </thead>\n",
       "    <tbody>\n",
       "        <tr>\n",
       "            <td>4500</td>\n",
       "        </tr>\n",
       "    </tbody>\n",
       "</table>"
      ],
      "text/plain": [
       "+--------------+\n",
       "| count_star() |\n",
       "+--------------+\n",
       "|     4500     |\n",
       "+--------------+"
      ]
     },
     "execution_count": 9,
     "metadata": {},
     "output_type": "execute_result"
    }
   ],
   "source": [
    "%%sql \n",
    "SELECT COUNT(*)\n",
    "FROM s1.account\n",
    "INNER JOIN s1.district \n",
    "    ON s1.account.district_id = s1.district.district_id"
   ]
  },
  {
   "attachments": {},
   "cell_type": "markdown",
   "id": "53a0831e",
   "metadata": {},
   "source": [
    "We see that the `COUNT(*)` of `s1.account` is 4501 and the `COUNT(*)` of our join is 4500. This is because our inner join excludes the row with an \"district_id\" value of 99999 from our `s1.account` table since it does not appear anywhere under the \"district_id\" column of our `s1.district` table.\n",
    "\n",
    "Also notice that the \"district_id_1\" column in our original inner join query. This column does not inherit the \"district_id\" column name from our `s1.district` table because we would then have two columns with both \"district_id\" due to the inclusion of `s1.account`. To avoid this ambiguity, SQL automatically adds \"_1\" to the end of identical columns resulting from a join. If we are joining more than two tables (seen in the next section), then SQL will automatically increment the number to distinguish each identical column. \n",
    "\n",
    "#### Question 1 (Medium):\n",
    "How many counts of each \"district_id\" appear in `s1.account`? Query the district_id, the respective count, and the district name. Filter the results to only have district id's with a count greater than 40.\n",
    "\n",
    "<b>Hint:</b> Try breaking the problem down step by step. First, take a look at the results of an inner join. What can you do from there to achieve the correct results?\n",
    "\n",
    "<!-- #region -->\n",
    "<details>\n",
    "\n",
    "<summary>Answers</summary>\n",
    "\n",
    "We first inner join `s1.account` and `s1.district` on \"district_id\" to have a query that has the information necessary in answering this question. Then, we group by \"district_id\" and \"district_name\" in order to aggregate and have them in our select statement. The last filter step is through the `HAVING` clause because we filter post-aggregation.\n",
    "\n",
    "``` python\n",
    "%%sql \n",
    "SELECT s1.district.district_id, COUNT(*), s1.district.district_name\n",
    "FROM s1.account\n",
    "INNER JOIN s1.district \n",
    "    ON s1.account.district_id = s1.district.district_id\n",
    "GROUP BY s1.district.district_id, s1.district.district_name\n",
    "HAVING COUNT(*) > 40\n",
    "```\n",
    "\n",
    "</details>\n",
    "<!-- #endregion -->"
   ]
  },
  {
   "cell_type": "code",
   "execution_count": null,
   "id": "9839ec3e",
   "metadata": {},
   "outputs": [],
   "source": []
  },
  {
   "attachments": {},
   "cell_type": "markdown",
   "id": "964467bd",
   "metadata": {},
   "source": [
    "### Left Join\n",
    "\n",
    "A left join guarantees that every row in the table before the `ON` clause (the left table) appears in our query, regardless if the key from that row matches the \"right\" table being joined."
   ]
  },
  {
   "cell_type": "code",
   "execution_count": 10,
   "id": "adcc723d",
   "metadata": {},
   "outputs": [
    {
     "data": {
      "text/html": [
       "<span style=\"None\">Running query in &#x27;duckdb:///bank_data.duck.db&#x27;</span>"
      ],
      "text/plain": [
       "Running query in 'duckdb:///bank_data.duck.db'"
      ]
     },
     "metadata": {},
     "output_type": "display_data"
    },
    {
     "data": {
      "text/html": [
       "<table>\n",
       "    <thead>\n",
       "        <tr>\n",
       "            <th>count_star()</th>\n",
       "        </tr>\n",
       "    </thead>\n",
       "    <tbody>\n",
       "        <tr>\n",
       "            <td>4501</td>\n",
       "        </tr>\n",
       "    </tbody>\n",
       "</table>"
      ],
      "text/plain": [
       "+--------------+\n",
       "| count_star() |\n",
       "+--------------+\n",
       "|     4501     |\n",
       "+--------------+"
      ]
     },
     "execution_count": 10,
     "metadata": {},
     "output_type": "execute_result"
    }
   ],
   "source": [
    "%%sql \n",
    "SELECT COUNT(*)\n",
    "FROM s1.account\n",
    "LEFT JOIN s1.district \n",
    "    ON s1.account.district_id = s1.district.district_id"
   ]
  },
  {
   "attachments": {},
   "cell_type": "markdown",
   "id": "e691aec9",
   "metadata": {},
   "source": [
    "Recall the row we `INSERT` into the `s1.account` table. This row is included in our left join because `s1.account` appears before the `JOIN` clause in our SQL statement. This is why the `COUNT(*)` matches the number of rows of our `s1.account` table after we inserted the row. Let's take a look at what this row looks like after our left join."
   ]
  },
  {
   "cell_type": "code",
   "execution_count": 11,
   "id": "e51c9377",
   "metadata": {},
   "outputs": [
    {
     "data": {
      "text/html": [
       "<span style=\"None\">Running query in &#x27;duckdb:///bank_data.duck.db&#x27;</span>"
      ],
      "text/plain": [
       "Running query in 'duckdb:///bank_data.duck.db'"
      ]
     },
     "metadata": {},
     "output_type": "display_data"
    },
    {
     "data": {
      "text/html": [
       "<table>\n",
       "    <thead>\n",
       "        <tr>\n",
       "            <th>account_id</th>\n",
       "            <th>district_id</th>\n",
       "            <th>frequency</th>\n",
       "            <th>date</th>\n",
       "            <th>district_id_1</th>\n",
       "            <th>district_name</th>\n",
       "            <th>region</th>\n",
       "            <th>no_of_inhabitants</th>\n",
       "            <th>no_of_municipalities_lt_499</th>\n",
       "            <th>no_of_municipalities_500_1999</th>\n",
       "            <th>no_of_municipalities_2000_9999</th>\n",
       "            <th>no_of_municipalities_gt_10000</th>\n",
       "            <th>no_of_cities</th>\n",
       "            <th>ratio_of_urban_inhabitants</th>\n",
       "            <th>average_salary</th>\n",
       "            <th>unemployment_rate_95</th>\n",
       "            <th>unemployment_rate_96</th>\n",
       "            <th>no_of_entrepreneurs_per_1000_inhabitants</th>\n",
       "            <th>no_of_committed_crimes_95</th>\n",
       "            <th>no_of_committed_crimes_96</th>\n",
       "        </tr>\n",
       "    </thead>\n",
       "    <tbody>\n",
       "        <tr>\n",
       "            <td>9999</td>\n",
       "            <td>99999</td>\n",
       "            <td>POPLATEK MESICNE</td>\n",
       "            <td>930101</td>\n",
       "            <td>None</td>\n",
       "            <td>None</td>\n",
       "            <td>None</td>\n",
       "            <td>None</td>\n",
       "            <td>None</td>\n",
       "            <td>None</td>\n",
       "            <td>None</td>\n",
       "            <td>None</td>\n",
       "            <td>None</td>\n",
       "            <td>None</td>\n",
       "            <td>None</td>\n",
       "            <td>None</td>\n",
       "            <td>None</td>\n",
       "            <td>None</td>\n",
       "            <td>None</td>\n",
       "            <td>None</td>\n",
       "        </tr>\n",
       "    </tbody>\n",
       "</table>"
      ],
      "text/plain": [
       "+------------+-------------+------------------+--------+---------------+---------------+--------+-------------------+-----------------------------+-------------------------------+--------------------------------+-------------------------------+--------------+----------------------------+----------------+----------------------+----------------------+------------------------------------------+---------------------------+---------------------------+\n",
       "| account_id | district_id |    frequency     |  date  | district_id_1 | district_name | region | no_of_inhabitants | no_of_municipalities_lt_499 | no_of_municipalities_500_1999 | no_of_municipalities_2000_9999 | no_of_municipalities_gt_10000 | no_of_cities | ratio_of_urban_inhabitants | average_salary | unemployment_rate_95 | unemployment_rate_96 | no_of_entrepreneurs_per_1000_inhabitants | no_of_committed_crimes_95 | no_of_committed_crimes_96 |\n",
       "+------------+-------------+------------------+--------+---------------+---------------+--------+-------------------+-----------------------------+-------------------------------+--------------------------------+-------------------------------+--------------+----------------------------+----------------+----------------------+----------------------+------------------------------------------+---------------------------+---------------------------+\n",
       "|    9999    |    99999    | POPLATEK MESICNE | 930101 |      None     |      None     |  None  |        None       |             None            |              None             |              None              |              None             |     None     |            None            |      None      |         None         |         None         |                   None                   |            None           |            None           |\n",
       "+------------+-------------+------------------+--------+---------------+---------------+--------+-------------------+-----------------------------+-------------------------------+--------------------------------+-------------------------------+--------------+----------------------------+----------------+----------------------+----------------------+------------------------------------------+---------------------------+---------------------------+"
      ]
     },
     "execution_count": 11,
     "metadata": {},
     "output_type": "execute_result"
    }
   ],
   "source": [
    "%%sql\n",
    "SELECT *\n",
    "FROM s1.account\n",
    "LEFT JOIN s1.district \n",
    "    ON s1.account.district_id = s1.district.district_id\n",
    "WHERE s1.account.district_id = 99999"
   ]
  },
  {
   "attachments": {},
   "cell_type": "markdown",
   "id": "9483d2be",
   "metadata": {},
   "source": [
    "The first 4 columns have values, but the resulting values from the \"right table\" are all \"None\"! Since `s1.district` does not have the value 99999 under its \"district_id\" column, there is no information on this particular district_id to supplement the left table.\n",
    "\n",
    "Also notice the particular syntax for our column in our `WHERE` clause. Since \"district_id\" appears in both `s1.account` and `s1.district`, we have to specify which table to run our `WHERE` clause on. \n",
    "\n",
    "### Right Join\n",
    "\n",
    "Right join is identical to the nature of the left join. A right join will guarantee the inclusion of every row from the \"right table\", regardless if the key being joined on appears in the \"left table.\"\n",
    "\n",
    "Here we replace the `LEFT JOIN` in our last example with `RIGHT JOIN`."
   ]
  },
  {
   "cell_type": "code",
   "execution_count": 12,
   "id": "77749b69",
   "metadata": {},
   "outputs": [
    {
     "data": {
      "text/html": [
       "<span style=\"None\">Running query in &#x27;duckdb:///bank_data.duck.db&#x27;</span>"
      ],
      "text/plain": [
       "Running query in 'duckdb:///bank_data.duck.db'"
      ]
     },
     "metadata": {},
     "output_type": "display_data"
    },
    {
     "data": {
      "text/html": [
       "<table>\n",
       "    <thead>\n",
       "        <tr>\n",
       "            <th>count_star()</th>\n",
       "        </tr>\n",
       "    </thead>\n",
       "    <tbody>\n",
       "        <tr>\n",
       "            <td>4500</td>\n",
       "        </tr>\n",
       "    </tbody>\n",
       "</table>"
      ],
      "text/plain": [
       "+--------------+\n",
       "| count_star() |\n",
       "+--------------+\n",
       "|     4500     |\n",
       "+--------------+"
      ]
     },
     "execution_count": 12,
     "metadata": {},
     "output_type": "execute_result"
    }
   ],
   "source": [
    "%%sql \n",
    "SELECT COUNT(*)\n",
    "FROM s1.account\n",
    "RIGHT JOIN s1.district \n",
    "    ON s1.account.district_id = s1.district.district_id"
   ]
  },
  {
   "attachments": {},
   "cell_type": "markdown",
   "id": "04049a2a",
   "metadata": {},
   "source": [
    "The resulting `COUNT(*)` of our join omits the one row we `INSERT` into `s1.account` previously. Let's double check and see if our inserted row exists after this join."
   ]
  },
  {
   "cell_type": "code",
   "execution_count": 13,
   "id": "46d9897a",
   "metadata": {},
   "outputs": [
    {
     "data": {
      "text/html": [
       "<span style=\"None\">Running query in &#x27;duckdb:///bank_data.duck.db&#x27;</span>"
      ],
      "text/plain": [
       "Running query in 'duckdb:///bank_data.duck.db'"
      ]
     },
     "metadata": {},
     "output_type": "display_data"
    },
    {
     "data": {
      "text/html": [
       "<table>\n",
       "    <thead>\n",
       "        <tr>\n",
       "            <th>account_id</th>\n",
       "            <th>district_id</th>\n",
       "            <th>frequency</th>\n",
       "            <th>date</th>\n",
       "            <th>district_id_1</th>\n",
       "            <th>district_name</th>\n",
       "            <th>region</th>\n",
       "            <th>no_of_inhabitants</th>\n",
       "            <th>no_of_municipalities_lt_499</th>\n",
       "            <th>no_of_municipalities_500_1999</th>\n",
       "            <th>no_of_municipalities_2000_9999</th>\n",
       "            <th>no_of_municipalities_gt_10000</th>\n",
       "            <th>no_of_cities</th>\n",
       "            <th>ratio_of_urban_inhabitants</th>\n",
       "            <th>average_salary</th>\n",
       "            <th>unemployment_rate_95</th>\n",
       "            <th>unemployment_rate_96</th>\n",
       "            <th>no_of_entrepreneurs_per_1000_inhabitants</th>\n",
       "            <th>no_of_committed_crimes_95</th>\n",
       "            <th>no_of_committed_crimes_96</th>\n",
       "        </tr>\n",
       "    </thead>\n",
       "    <tbody>\n",
       "    </tbody>\n",
       "</table>"
      ],
      "text/plain": [
       "+------------+-------------+-----------+------+---------------+---------------+--------+-------------------+-----------------------------+-------------------------------+--------------------------------+-------------------------------+--------------+----------------------------+----------------+----------------------+----------------------+------------------------------------------+---------------------------+---------------------------+\n",
       "| account_id | district_id | frequency | date | district_id_1 | district_name | region | no_of_inhabitants | no_of_municipalities_lt_499 | no_of_municipalities_500_1999 | no_of_municipalities_2000_9999 | no_of_municipalities_gt_10000 | no_of_cities | ratio_of_urban_inhabitants | average_salary | unemployment_rate_95 | unemployment_rate_96 | no_of_entrepreneurs_per_1000_inhabitants | no_of_committed_crimes_95 | no_of_committed_crimes_96 |\n",
       "+------------+-------------+-----------+------+---------------+---------------+--------+-------------------+-----------------------------+-------------------------------+--------------------------------+-------------------------------+--------------+----------------------------+----------------+----------------------+----------------------+------------------------------------------+---------------------------+---------------------------+\n",
       "+------------+-------------+-----------+------+---------------+---------------+--------+-------------------+-----------------------------+-------------------------------+--------------------------------+-------------------------------+--------------+----------------------------+----------------+----------------------+----------------------+------------------------------------------+---------------------------+---------------------------+"
      ]
     },
     "execution_count": 13,
     "metadata": {},
     "output_type": "execute_result"
    }
   ],
   "source": [
    "%%sql \n",
    "SELECT *\n",
    "FROM s1.account\n",
    "RIGHT JOIN s1.district \n",
    "    ON s1.account.district_id = s1.district.district_id\n",
    "WHERE s1.account.district_id = 99999"
   ]
  },
  {
   "attachments": {},
   "cell_type": "markdown",
   "id": "d6921ebd",
   "metadata": {},
   "source": [
    "Exactly what we expect.\n",
    "\n",
    "What would happen if we reverse the placement of our tables in our `RIGHT JOIN` clause? The results of reversing the table placements are below."
   ]
  },
  {
   "cell_type": "code",
   "execution_count": 14,
   "id": "9512e0d4",
   "metadata": {},
   "outputs": [
    {
     "data": {
      "text/html": [
       "<span style=\"None\">Running query in &#x27;duckdb:///bank_data.duck.db&#x27;</span>"
      ],
      "text/plain": [
       "Running query in 'duckdb:///bank_data.duck.db'"
      ]
     },
     "metadata": {},
     "output_type": "display_data"
    },
    {
     "data": {
      "text/html": [
       "<table>\n",
       "    <thead>\n",
       "        <tr>\n",
       "            <th>count_star()</th>\n",
       "        </tr>\n",
       "    </thead>\n",
       "    <tbody>\n",
       "        <tr>\n",
       "            <td>4501</td>\n",
       "        </tr>\n",
       "    </tbody>\n",
       "</table>"
      ],
      "text/plain": [
       "+--------------+\n",
       "| count_star() |\n",
       "+--------------+\n",
       "|     4501     |\n",
       "+--------------+"
      ]
     },
     "execution_count": 14,
     "metadata": {},
     "output_type": "execute_result"
    }
   ],
   "source": [
    "%%sql \n",
    "SELECT COUNT(*)\n",
    "FROM s1.district\n",
    "RIGHT JOIN s1.account \n",
    "    ON s1.account.district_id = s1.district.district_id"
   ]
  },
  {
   "cell_type": "code",
   "execution_count": 15,
   "id": "1e5dbdaa",
   "metadata": {},
   "outputs": [
    {
     "data": {
      "text/html": [
       "<span style=\"None\">Running query in &#x27;duckdb:///bank_data.duck.db&#x27;</span>"
      ],
      "text/plain": [
       "Running query in 'duckdb:///bank_data.duck.db'"
      ]
     },
     "metadata": {},
     "output_type": "display_data"
    },
    {
     "data": {
      "text/html": [
       "<table>\n",
       "    <thead>\n",
       "        <tr>\n",
       "            <th>district_id</th>\n",
       "            <th>district_name</th>\n",
       "            <th>region</th>\n",
       "            <th>no_of_inhabitants</th>\n",
       "            <th>no_of_municipalities_lt_499</th>\n",
       "            <th>no_of_municipalities_500_1999</th>\n",
       "            <th>no_of_municipalities_2000_9999</th>\n",
       "            <th>no_of_municipalities_gt_10000</th>\n",
       "            <th>no_of_cities</th>\n",
       "            <th>ratio_of_urban_inhabitants</th>\n",
       "            <th>average_salary</th>\n",
       "            <th>unemployment_rate_95</th>\n",
       "            <th>unemployment_rate_96</th>\n",
       "            <th>no_of_entrepreneurs_per_1000_inhabitants</th>\n",
       "            <th>no_of_committed_crimes_95</th>\n",
       "            <th>no_of_committed_crimes_96</th>\n",
       "            <th>account_id</th>\n",
       "            <th>district_id_1</th>\n",
       "            <th>frequency</th>\n",
       "            <th>date</th>\n",
       "        </tr>\n",
       "    </thead>\n",
       "    <tbody>\n",
       "        <tr>\n",
       "            <td>None</td>\n",
       "            <td>None</td>\n",
       "            <td>None</td>\n",
       "            <td>None</td>\n",
       "            <td>None</td>\n",
       "            <td>None</td>\n",
       "            <td>None</td>\n",
       "            <td>None</td>\n",
       "            <td>None</td>\n",
       "            <td>None</td>\n",
       "            <td>None</td>\n",
       "            <td>None</td>\n",
       "            <td>None</td>\n",
       "            <td>None</td>\n",
       "            <td>None</td>\n",
       "            <td>None</td>\n",
       "            <td>9999</td>\n",
       "            <td>99999</td>\n",
       "            <td>POPLATEK MESICNE</td>\n",
       "            <td>930101</td>\n",
       "        </tr>\n",
       "    </tbody>\n",
       "</table>"
      ],
      "text/plain": [
       "+-------------+---------------+--------+-------------------+-----------------------------+-------------------------------+--------------------------------+-------------------------------+--------------+----------------------------+----------------+----------------------+----------------------+------------------------------------------+---------------------------+---------------------------+------------+---------------+------------------+--------+\n",
       "| district_id | district_name | region | no_of_inhabitants | no_of_municipalities_lt_499 | no_of_municipalities_500_1999 | no_of_municipalities_2000_9999 | no_of_municipalities_gt_10000 | no_of_cities | ratio_of_urban_inhabitants | average_salary | unemployment_rate_95 | unemployment_rate_96 | no_of_entrepreneurs_per_1000_inhabitants | no_of_committed_crimes_95 | no_of_committed_crimes_96 | account_id | district_id_1 |    frequency     |  date  |\n",
       "+-------------+---------------+--------+-------------------+-----------------------------+-------------------------------+--------------------------------+-------------------------------+--------------+----------------------------+----------------+----------------------+----------------------+------------------------------------------+---------------------------+---------------------------+------------+---------------+------------------+--------+\n",
       "|     None    |      None     |  None  |        None       |             None            |              None             |              None              |              None             |     None     |            None            |      None      |         None         |         None         |                   None                   |            None           |            None           |    9999    |     99999     | POPLATEK MESICNE | 930101 |\n",
       "+-------------+---------------+--------+-------------------+-----------------------------+-------------------------------+--------------------------------+-------------------------------+--------------+----------------------------+----------------+----------------------+----------------------+------------------------------------------+---------------------------+---------------------------+------------+---------------+------------------+--------+"
      ]
     },
     "execution_count": 15,
     "metadata": {},
     "output_type": "execute_result"
    }
   ],
   "source": [
    "%%sql \n",
    "SELECT *\n",
    "FROM s1.district\n",
    "RIGHT JOIN s1.account \n",
    "    ON s1.account.district_id = s1.district.district_id\n",
    "WHERE s1.account.district_id = 99999"
   ]
  },
  {
   "attachments": {},
   "cell_type": "markdown",
   "id": "c926e9e8",
   "metadata": {},
   "source": [
    "We get near exact results from our previous `LEFT JOIN` demonstration. The only difference is the order of our columns in the query output. The `s1.account` table appears on the far right whil the `s1.district` table appears on the left. To ensure complete visibility of the output, please utilize the scroll bar.\n",
    "\n",
    "#### Question 2 (Easy):\n",
    "Show the maximum \"account_id\" value corresponding with that account's district information, regardless if there is any or not. Name the resulting query colum \"max_acc_id\". You must include a join.\n",
    "\n",
    "<!-- #region -->\n",
    "<details>\n",
    "\n",
    "<summary>Answers</summary>\n",
    "\n",
    "We first left join `s1.account` and `s1.district` on \"district_id\" to have a query that guarantees completed information from the `s1.account` table. Then, we find the max of \"account_id\" and rename it accordingly.\n",
    "\n",
    "```python\n",
    "%%sql \n",
    "SELECT MAX(s1.account.account_id) AS max_acc_id\n",
    "FROM s1.account\n",
    "LEFT JOIN s1.district\n",
    "    ON s1.account.district_id = s1.district.district_id\n",
    "```\n",
    "\n",
    "</details>\n",
    "<!-- #endregion -->"
   ]
  },
  {
   "cell_type": "code",
   "execution_count": null,
   "id": "a37c81b5",
   "metadata": {},
   "outputs": [],
   "source": []
  },
  {
   "attachments": {},
   "cell_type": "markdown",
   "id": "3cd42146",
   "metadata": {},
   "source": [
    "### Full Join\n",
    "Full join (also known as outer join) results in the inclusion of all rows from both tables. To showcase the full capability of full joins, we first `INSERT` another row into the `s1.district` table with a \"district_id\" value not present in the `s1.account` table. In other words, we are creating new value for `s1.district`'s primary key that does not appear in `s1.account`'s foreign key."
   ]
  },
  {
   "cell_type": "code",
   "execution_count": null,
   "id": "b79dbf4d",
   "metadata": {},
   "outputs": [],
   "source": [
    "%%sql \n",
    "INSERT INTO s1.district\n",
    "VALUES (3333, 'Hypothetical District', 'Hypothetical Region',1,1,1,1,1,1,1,1,1,1,1,1,1)"
   ]
  },
  {
   "cell_type": "code",
   "execution_count": null,
   "id": "b5fafc82",
   "metadata": {},
   "outputs": [],
   "source": [
    "%%sql \n",
    "SELECT COUNT(*)\n",
    "FROM s1.account \n",
    "FULL JOIN s1.district \n",
    "    ON s1.account.district_id = s1.district.district_id"
   ]
  },
  {
   "cell_type": "code",
   "execution_count": null,
   "id": "c7df66d6",
   "metadata": {},
   "outputs": [],
   "source": [
    "%%sql \n",
    "SELECT *\n",
    "FROM s1.account\n",
    "FULL JOIN s1.district \n",
    "    ON s1.account.district_id = s1.district.district_id\n",
    "WHERE s1.account.district_id = 99999 OR s1.district.district_id = 3333"
   ]
  },
  {
   "attachments": {},
   "cell_type": "markdown",
   "id": "b55d1cb5",
   "metadata": {},
   "source": [
    "The full join on `s1.district` and `s1.account` results in a query that includes all rows from both tables. The `OR` clause in the last SQL statement verifies this by querying the hypothetical rows we created in each table.\n",
    "\n",
    "#### Question 3 (Medium):\n",
    "What is the average \"account_id\" value for accounts in the \"Prague\" region? Round the average by 3 decimal places.\n",
    "\n",
    "It doesn't really make sense to average by the \"account_id\" as it is an arbitrary number to uniquely identify each account. However, try to ignore that for the purpose of practice.\n",
    "\n",
    "<!-- #region -->\n",
    "<details>\n",
    "\n",
    "<summary>Answers</summary>\n",
    "\n",
    "We first join `s1.account` and `s1.district` on \"district_id\" to have a query of completed information between the two tables. Then, we `GROUP BY` region and `SELECT` the region name and the average value of \"account_id\" within regions. Finally, we use `HAVING` to filter where region has the value 'Prague' post grouping with `GROUP BY`.\n",
    "\n",
    "\n",
    "```python\n",
    "%%sql\n",
    "SELECT s1.district.region, ROUND(AVG(s1.account.account_id), 3) \n",
    "FROM s1.account\n",
    "INNER JOIN s1.district\n",
    "    ON s1.account.district_id = s1.district.district_id\n",
    "GROUP BY s1.district.region\n",
    "HAVING s1.district.region = 'Prague'\n",
    "```\n",
    "\n",
    "\n",
    "</details>\n",
    "<!-- #endregion -->"
   ]
  },
  {
   "cell_type": "code",
   "execution_count": null,
   "id": "d720f540",
   "metadata": {},
   "outputs": [],
   "source": []
  },
  {
   "attachments": {},
   "cell_type": "markdown",
   "id": "37b339c6",
   "metadata": {},
   "source": [
    "</details>\n",
    "<!-- #endregion -->\n",
    "\n",
    "## Wrapping Up\n",
    "\n",
    "In this section, we learned the basic join types and how to use them when given two tables. We also learned the definiton of primary and foriegn keys along with an introduction to ERDs. To recap:\n",
    "\n",
    "- `FULL JOIN` -  Guarantees that every row from both joined tables is included in the resulting query, regardless of whether a matching key exists in the other table or not. A `FULL JOIN` essentially combines the results of a `RIGHT JOIN` and `LEFT JOIN`\n",
    "\n",
    "- `LEFT JOIN` - Guarantees that every row from the left table is included in the resulting query, regardless of whether a matching key exists in the other table or not. \n",
    "\n",
    "- `LEFT JOIN` - Guarantees that every row from the right table is included in the resulting query, regardless of whether a matching key exists in the other table or not. \n",
    "\n",
    "- Primary key - The column in a table that uniquely identifies each row of the table.\n",
    "\n",
    "- Foreign key - A column in a table that establishes a link or relationship to the primary key of another table.\n",
    "\n",
    "In the next section, you will learn how to implement joins in more than two tables."
   ]
  }
 ],
 "metadata": {
  "kernelspec": {
   "display_name": "jupyblog",
   "language": "python",
   "name": "python3"
  },
  "language_info": {
   "codemirror_mode": {
    "name": "ipython",
    "version": 3
   },
   "file_extension": ".py",
   "mimetype": "text/x-python",
   "name": "python",
   "nbconvert_exporter": "python",
   "pygments_lexer": "ipython3",
   "version": "3.10.0"
  }
 },
 "nbformat": 4,
 "nbformat_minor": 5
}
