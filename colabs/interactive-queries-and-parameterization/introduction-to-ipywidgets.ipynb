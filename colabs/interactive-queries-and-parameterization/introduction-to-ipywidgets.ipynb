{
 "cells": [
  {
   "cell_type": "markdown",
   "id": "bd98fad9",
   "metadata": {},
   "source": [
    "# Introduction to `ipywidgets`\n",
    "\n",
    "Welcome back! We hope you gained a solid introduction to SQL and JupySQL in the first module.\n",
    "\n",
    "Before we begin, did you know that you can use widgets, eventful Python objects that have a representation in the browser, to build fully interactive GUIs for your SQL query?\n",
    "\n",
    "In this section of Interactive Queries and Parameterization, we introduce `ipywidgets` and demonstrate how to create widgets and their functionality. Moreover, you can use widgets to synchronize stateful and stateless information between Python and JavaScript.\n",
    "\n",
    "`ipywidgets`, which is part of the Jupyter Widgets project, is a Python package that provides interactive HTML widgets for Jupyter notebooks and the IPython kernel. The package provides a basic, lightweight set of controls that allows for easy implementations of interactive user interfaces. These controls comprise a text area, text box, select and multiselect controls, checkbox, sliders, tab panels, grid layout, etc.\n",
    "\n",
    "See more for a complete [Widget List](https://ipywidgets.readthedocs.io/en/stable/examples/Widget%20List.html)!\n",
    "\n",
    "## `ipywidgets`\n",
    "\n",
    "Let's start off with an easy introduction to the `ipywidgets` package.\n",
    "\n",
    "First, install `ipywidgets` in your environment by executing the following code:"
   ]
  },
  {
   "cell_type": "code",
   "execution_count": null,
   "id": "2907ab16",
   "metadata": {},
   "outputs": [],
   "source": [
    "%pip install ipywidgets --quiet"
   ]
  },
  {
   "cell_type": "markdown",
   "id": "84bddd0f",
   "metadata": {},
   "source": [
    "The `ipywidgets` package is necessary to provide an interface for widgets. We introduce these widgets moving forward.\n",
    "\n",
    "### Numeric Widgets\n",
    "\n",
    "There are many widgets distributed with `ipywidgets` that are designed to display numeric values. Widgets exist for displaying integers and floats, both bounded and unbounded. The integer widgets share a similar naming scheme to their floating point counterparts. By replacing \"Float\" with \"Int\" in the widget name, you can find the Integer equivalent.\n",
    "\n",
    "#### `IntSlider` and `FloatSlider`\n",
    "\n",
    "Numeric widgets provide further flexibility over basic data types. For example, the `IntSlider` and the `FloatSlider`, the simplest numeric widgets, can be employed to filter <b>integer</b> and <b>float</b> values respectively within a range (`min` and `max`) of your choice along with a `step` size and the `value` at which the slider is initialized. Moreover, we can create a bounded slider, indicated by the `<=` operator, or an unbounded slider, indicated by the `>=` operator, to filter the dataset within or outside our range of values respectively.\n",
    "\n",
    "There are several other arguments, which can be found [here](https://ipywidgets.readthedocs.io/en/stable/examples/Widget%20List.html#IntSlider), that can be passed into these sliders.\n",
    "\n",
    "Let's start by importing `ipywidgets` into your notebook, along with the `display` module from `IPython.display`\n",
    "\n",
    "After creating a widget, you can display it using the `display()` function. An example for the `IntSlider` and its display is as follows:"
   ]
  },
  {
   "cell_type": "code",
   "execution_count": null,
   "id": "e9799ddd",
   "metadata": {},
   "outputs": [],
   "source": [
    "import ipywidgets as widgets\n",
    "from IPython.display import display\n",
    "\n",
    "duration_lower_bound = widgets.IntSlider(min=0, max=1000, step=200, value=500)\n",
    "display(duration_lower_bound)"
   ]
  },
  {
   "cell_type": "markdown",
   "id": "be3a55d0",
   "metadata": {},
   "source": [
    "<b>Note</b>: Other Numeric Widgets can be found [here](https://ipywidgets.readthedocs.io/en/stable/examples/Widget%20List.html#floatlogslider).\n",
    "\n",
    "### Boolean Widgets\n",
    "\n",
    "Boolean widgets display interfaces specifically for boolean values. There are three available boolean widgets that all have the same functionality: `ToggleButton`, `Checkbox`, and `Valid`. Let's see how `Checkbox` works with an example.\n",
    "\n",
    "#### `Checkbox`\n",
    "\n",
    "`Checkbox` is a great boolean widget because it allows users to interact with a checkbox. We demonstrate its use below."
   ]
  },
  {
   "cell_type": "code",
   "execution_count": null,
   "id": "ff25cec1",
   "metadata": {},
   "outputs": [],
   "source": [
    "balance_over_500 = widgets.Checkbox(\n",
    "    value=False, description=\"Balance > 500\", disabled=False, indent=False\n",
    ")\n",
    "display(balance_over_500)"
   ]
  },
  {
   "cell_type": "markdown",
   "id": "c26795d9",
   "metadata": {},
   "source": [
    "### Selection Widgets\n",
    "\n",
    "There are several widgets that can be used to display single selection lists, and two that can be used to select multiple values. All inherit from the same base class. You can specify the <b>enumeration of selectable options by passing a list</b>. Options are either (label, value) pairs, or simply values for which the labels are derived by calling `str`.\n",
    "\n",
    "#### `RadioButtons`\n",
    "\n",
    "The `RadioButtons` widget displays a list of options, of which <b>exactly one</b> can be selected. The user can <b>select one of the options</b> by clicking on the radio button. The current selected value can be accessed from the `value` attribute, which is by default the label of the selected option.\n",
    "\n",
    "We show an example of using a `RadioButton` below."
   ]
  },
  {
   "cell_type": "code",
   "execution_count": null,
   "id": "966a30b3",
   "metadata": {},
   "outputs": [],
   "source": [
    "seasons = widgets.RadioButtons(\n",
    "    options=[\"Spring\", \"Summer\", \"Fall\", \"Winter\"],\n",
    "    #    value='Spring', # Defaults to 'Spring'\n",
    "    description=\"Season:\",\n",
    "    disabled=False,\n",
    ")\n",
    "display(seasons)"
   ]
  },
  {
   "cell_type": "markdown",
   "id": "119db4d7",
   "metadata": {},
   "source": [
    "#### `Select` and `SelectMultiple`\n",
    "\n",
    "The `Select` and `SelectMultiple` widgets display a dropdown menu where one or more options can be selected. These two widgets are very similar to `RadioButtons`. The main difference is the type of display they output and how `SelectMultiple` allow for more than one option to be selected by holding down \"shift\". \n",
    "\n",
    "Try out the differences between `Select` and `SelectMultiple` below."
   ]
  },
  {
   "cell_type": "code",
   "execution_count": null,
   "id": "dbaeee33",
   "metadata": {},
   "outputs": [],
   "source": [
    "one_season = widgets.Select(\n",
    "    options=[\"Spring\", \"Summer\", \"Fall\", \"Winter\"],\n",
    "    description=\"Season:\",\n",
    "    disabled=False,\n",
    ")\n",
    "display(seasons)"
   ]
  },
  {
   "cell_type": "code",
   "execution_count": null,
   "id": "fd084531",
   "metadata": {},
   "outputs": [],
   "source": [
    "multiple_season = widgets.SelectMultiple(\n",
    "    options=[\"Spring\", \"Summer\", \"Fall\", \"Winter\"],\n",
    "    description=\"Season:\",\n",
    "    disabled=False,\n",
    ")\n",
    "display(seasons)"
   ]
  },
  {
   "cell_type": "markdown",
   "id": "a779ba2d",
   "metadata": {},
   "source": [
    "### Container/Layout Widgets\n",
    "\n",
    "We can position multiple widgets in a single cell's output by utilizing container widgets. These container widgets' main functionality is to hold other widgets, called children. There are several ways to layout your widgets, but we solely demonstrate `VBox` below with our previous example.\n",
    "\n",
    "#### `Vbox`"
   ]
  },
  {
   "cell_type": "code",
   "execution_count": null,
   "id": "412d31f0",
   "metadata": {},
   "outputs": [],
   "source": [
    "# The \"children\" widgets go into a list when used as an argument\n",
    "widgets.VBox([one_season, multiple_season])"
   ]
  },
  {
   "cell_type": "markdown",
   "id": "55caa39c",
   "metadata": {},
   "source": [
    "For more ways to layout your widgets, visit `ipywidgets` documentation [here](https://ipywidgets.readthedocs.io/en/stable/examples/Widget%20List.html#vbox).\n",
    "\n",
    "## Applying `ipywidgets` with Functions\n",
    "\n",
    "We can integrate `ipywidgets` with functions and see the outputs of functions in real time! For example, say we have a function that multiples variable `x` and `y`. We can create widgets for `x` and `y` and show outputs of our function every time we adjust either widgets.\n",
    "\n",
    "To demonstrate this, we need to first understand some more `ipywidgets` fundamentals, such as `Output` and `.observe()`.\n",
    "\n",
    "### `Output` and `.clear_output()`\n",
    "\n",
    "`Output` is a widget that displays and handles cell outputs. We can use `Output` to have a certain cell act as the output for other widgets or functions."
   ]
  },
  {
   "cell_type": "code",
   "execution_count": null,
   "id": "ea52477b",
   "metadata": {},
   "outputs": [],
   "source": [
    "out = widgets.Output()\n",
    "display(out)"
   ]
  },
  {
   "cell_type": "code",
   "execution_count": null,
   "id": "2887e2ed",
   "metadata": {},
   "outputs": [],
   "source": [
    "with out:\n",
    "    for i in range(10):\n",
    "        print(f\"Output {i}\")"
   ]
  },
  {
   "cell_type": "markdown",
   "id": "73e434d5",
   "metadata": {},
   "source": [
    "We can clear the the above cell's output with `.clear_output()` attached to the `Output` widget."
   ]
  },
  {
   "cell_type": "code",
   "execution_count": null,
   "id": "97a1b07e",
   "metadata": {},
   "outputs": [],
   "source": [
    "out.clear_output()"
   ]
  },
  {
   "cell_type": "markdown",
   "id": "ff98f31f",
   "metadata": {},
   "source": [
    "### `.observe()`\n",
    "\n",
    "`.observe()` is used to to register a function to an existing widget. By registering a function, the function is called whenever the widget's value changes.\n",
    "\n",
    "## Putting It Together\n",
    "\n",
    "Let's implement everything we've learned with the multiplication function using `ipywidgets`."
   ]
  },
  {
   "cell_type": "code",
   "execution_count": null,
   "id": "7be65fc6",
   "metadata": {},
   "outputs": [],
   "source": [
    "# Create the IntSlider widgets\n",
    "x_slider = widgets.IntSlider(description=\"x:\", min=0, max=10, value=5)\n",
    "y_slider = widgets.IntSlider(description=\"y:\", min=0, max=10, value=5)\n",
    "\n",
    "# Create the Output widget\n",
    "output = widgets.Output()\n",
    "\n",
    "# Multiplication function\n",
    "\n",
    "\n",
    "def multiply(x, y):\n",
    "    return x * y\n",
    "\n",
    "\n",
    "# Define a function to update the output when sliders are changed\n",
    "\n",
    "\n",
    "def update_output(change):\n",
    "    # Clear the Output widget every time the function is called\n",
    "    output.clear_output()\n",
    "    with output:\n",
    "        result = multiply(x_slider.value, y_slider.value)\n",
    "        print(f\"{x_slider.value} * {y_slider.value} is: {result}\")\n",
    "\n",
    "\n",
    "# Register the update_output function for slider value changes\n",
    "x_slider.observe(update_output)\n",
    "y_slider.observe(update_output)\n",
    "\n",
    "display(x_slider, y_slider, output)"
   ]
  },
  {
   "cell_type": "markdown",
   "id": "40cf7432",
   "metadata": {},
   "source": [
    "A great alternative to the above code is using the `interact` function. The `interact` function automatically generates the appropriate widgets based on the task at hand. Below is an implementation of the same task with the `interact` function."
   ]
  },
  {
   "cell_type": "code",
   "execution_count": null,
   "id": "41d77704",
   "metadata": {},
   "outputs": [],
   "source": [
    "# Create the Output widget\n",
    "output = widgets.Output()\n",
    "\n",
    "\n",
    "@widgets.interact(x=(0, 10), y=(0, 10))\n",
    "def multiply_decorator(x, y):\n",
    "    # Clear the Output widget every time the function is called\n",
    "    output.clear_output()\n",
    "    with output:\n",
    "        result = x * y\n",
    "        print(f\"{x_slider.value} * {y_slider.value} is: {result}\")\n",
    "\n",
    "\n",
    "display(output)"
   ]
  },
  {
   "cell_type": "markdown",
   "id": "da8228f5",
   "metadata": {},
   "source": [
    "Notice all the changes from using the `interact` function. We no longer explicitly create `x` and `y` with widgets. Instead, a range of them are given when using the `@widgets.interact()` decorator that is defined above the associated function.\n",
    "\n",
    "## Wrapping Up \n",
    "\n",
    "In this section we introduced `ipywidgets` and how they provide user interfaces within Jupyter environments. In the upcoming sections, we will delve back into SQL by showcasing how we can utilize `ipywidgetes` to create interactive queries. Further along the course, we will also revisit `ipywidgets` to demonstrate how they can be used to create interactive visualizations."
   ]
  }
 ],
 "metadata": {
  "kernelspec": {
   "display_name": "Python 3 (ipykernel)",
   "language": "python",
   "name": "python3"
  }
 },
 "nbformat": 4,
 "nbformat_minor": 5
}
