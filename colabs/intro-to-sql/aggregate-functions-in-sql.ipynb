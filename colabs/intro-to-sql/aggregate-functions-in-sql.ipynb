{
 "cells": [
  {
   "attachments": {},
   "cell_type": "markdown",
   "id": "1ef34246",
   "metadata": {},
   "source": [
    "# Aggregate functions in SQL\n",
    "\n",
    "In the last section, we learned the basics of SQL. We now build upon those basics to learn a common use case of SQL: <b>aggregation functions</b>. \n",
    "\n",
    "Aggregation functions are useful for summarizing your data and for finding meaningful insights. The most common of these functions are `COUNT()`, `AVG()`, `SUM()`, `MIN()`, and `MAX()`. We will go over each of these functions in detail with our bank marketing dataset.\n",
    "\n",
    "We will also introduce the important clause `GROUP BY`. This clause can only be used if, and only if, aggregation functions are used. However, note that aggregation functions can be used without `GROUP BY`. `GROUP BY` groups unique values in columns together and runs an aggregation function on each unique group. Examples of using `GROUP BY` will be provided after introducing aggregate functions.\n",
    "\n",
    "Let's first run the installations and setup before running any queries, just like the last lesson `making-your-first-query`.\n",
    "\n",
    "<!-- region -->\n",
    "\n",
    "## Install - execute this once. \n",
    "<b>Note:</b> If you are following these lessons locally and <b>not</b> on Google Colab, then there is no need to reinstall these packages.\n",
    "\n",
    "This code installs JupySQL, DuckDB, and Pandas in your environment. We will be using these moving forward."
   ]
  },
  {
   "cell_type": "code",
   "execution_count": null,
   "id": "8b8fea3d",
   "metadata": {
    "vscode": {
     "languageId": "python"
    }
   },
   "outputs": [],
   "source": [
    "%pip install jupysql --upgrade duckdb-engine --quiet"
   ]
  },
  {
   "attachments": {},
   "cell_type": "markdown",
   "id": "4507f9eb",
   "metadata": {},
   "source": [
    "## Load the data\n",
    "<b>Note:</b> If you are following these lessons locally and <b>not</b> on Google Colab, then there is no need to load the data again.\n",
    "\n",
    "The data is downloaded from https://archive-beta.ics.uci.edu/dataset/222/bank+marketing via the url https://archive.ics.uci.edu/ml/machine-learning-databases/00222/bank.zip.\n",
    "\n",
    "We extract the bank marketing data by retrieving it from it's URL download link. The link may be a zip file (which it is in this case), so we extract the zip file, read the file containing the data within the zip file, and clean the data. Finally, we save this cleaned data to it's own seperate file called `bank_cleaned.csv`.  \n",
    "\n",
    "Dataset citation:\n",
    " \n",
    "Moro,S., Rita,P., and Cortez,P.. (2012). Bank Marketing. UCI Machine Learning Repository. https://doi.org/10.24432/C5K306."
   ]
  },
  {
   "cell_type": "code",
   "execution_count": null,
   "id": "aa7486c0",
   "metadata": {
    "vscode": {
     "languageId": "python"
    }
   },
   "outputs": [],
   "source": [
    "from urllib.request import urlretrieve\n",
    "from zipfile import ZipFile\n",
    "import pandas as pd\n",
    "import os\n",
    "\n",
    "\n",
    "def extract_to_csv(url, data_name):\n",
    "    \"\"\"\n",
    "    This function extracts data from a URL with a .zip file,\n",
    "    cleans the data and saves the clean data\n",
    "    \"\"\"\n",
    "    # Set path\n",
    "    file = os.path.basename(url)\n",
    "    urlretrieve(url, file)\n",
    "    # Extract data\n",
    "    with ZipFile(file, \"r\") as zf:\n",
    "        zf.extractall()\n",
    "    # Clean data and save\n",
    "    csv_file_name = f\"{data_name}.csv\"\n",
    "    df = pd.read_csv(csv_file_name, sep=\";\")\n",
    "    df.to_csv(f\"{data_name}_cleaned.csv\", index=False)"
   ]
  },
  {
   "cell_type": "code",
   "execution_count": null,
   "id": "737e90fb",
   "metadata": {
    "vscode": {
     "languageId": "python"
    }
   },
   "outputs": [],
   "source": [
    "# Running the above function\n",
    "extract_to_csv(\"https://tinyurl.com/uci-marketing-data\", \"bank\")"
   ]
  },
  {
   "attachments": {},
   "cell_type": "markdown",
   "id": "b554b898",
   "metadata": {},
   "source": [
    "After running this code, you should have `bank_cleaned.csv` in the current directory. \n",
    "\n",
    "## Load Engine\n",
    "We now load in our SQL extension that allows us to execute SQL queries in Jupyter Notebooks. \n",
    "\n",
    "<b>Note</b> Ensure you restart any previous notebook that has the same database name as the one initialized below."
   ]
  },
  {
   "cell_type": "code",
   "execution_count": null,
   "id": "19b69b97",
   "metadata": {
    "vscode": {
     "languageId": "python"
    }
   },
   "outputs": [],
   "source": [
    "# Loading in SQL extension\n",
    "%reload_ext sql\n",
    "# Initiating a DuckDB database named 'bank.duck.db' to run our SQL queries on\n",
    "%sql duckdb:///bank.duck.db"
   ]
  },
  {
   "attachments": {},
   "cell_type": "markdown",
   "id": "5da3db26",
   "metadata": {},
   "source": [
    "Let's now return to our initial dataset of bank marketing records. \n",
    "\n",
    "## Queries\n",
    "\n",
    "### Creating Table\n",
    "\n",
    "Let's start off with loading our `bank_cleaned.csv` file from our local directory to our newly created DuckDB database. Here we `CREATE OR REPLACE TABLE` in DuckDB called 'bank' `FROM` our `bank_cleaned.csv` file. The `read_csv_auto` is a function that helps SQL understand our local .csv file for creation into our database."
   ]
  },
  {
   "cell_type": "code",
   "execution_count": null,
   "id": "315f1c5f",
   "metadata": {
    "vscode": {
     "languageId": "python"
    }
   },
   "outputs": [],
   "source": [
    "%%sql\n",
    "CREATE OR REPLACE TABLE bank AS\n",
    "FROM read_csv_auto('bank_cleaned.csv', header=True, sep=',')"
   ]
  },
  {
   "attachments": {},
   "cell_type": "markdown",
   "id": "f053b9b9",
   "metadata": {},
   "source": [
    "### Count and Distinct Count\n",
    "`COUNT()` allows users to query the count of records in a given query. A common argument to this function is `*`. `COUNT(*)` tells SQL to return the total number of rows from our query, including NULL values. This can be combined with queries that filter for certain conditions.\n",
    "\n",
    "A common function to be used with `COUNT()` is `DISTINCT()`. For example, selecting `COUNT(DISTINCT(job))` would return the count of distinct values under the \"job\" column."
   ]
  },
  {
   "cell_type": "code",
   "execution_count": null,
   "id": "d51668d4",
   "metadata": {
    "vscode": {
     "languageId": "python"
    }
   },
   "outputs": [],
   "source": [
    "%%sql \n",
    "SELECT COUNT(DISTINCT(job))\n",
    "FROM bank "
   ]
  },
  {
   "attachments": {},
   "cell_type": "markdown",
   "id": "dc32be3d",
   "metadata": {},
   "source": [
    "The output of the above query can be an eyesore. Instead of getting SQL's default column name when running these aggregation function, users can utilize the `AS` clause. The text following `AS` changes the output of the `SELECT` clause to that text. Our next example with demonstrate this.\n",
    "\n",
    "Here's an example with `COUNT()` that counts the number of rows of our query `WHERE` we filter for \"balance\" greather than or equal to 500 `AND` where \"martial\" equals married. We also use the `AS` clause to change the column of our query to \"Count\"."
   ]
  },
  {
   "cell_type": "code",
   "execution_count": null,
   "id": "68e7a334",
   "metadata": {
    "vscode": {
     "languageId": "python"
    }
   },
   "outputs": [],
   "source": [
    "%%sql \n",
    "SELECT COUNT(*) AS Count\n",
    "FROM bank \n",
    "WHERE balance > 500 AND martial = 'married'"
   ]
  },
  {
   "attachments": {},
   "cell_type": "markdown",
   "id": "4d57f937",
   "metadata": {},
   "source": [
    "`COUNT()` can also have the arguments of a single row, such as `COUNT(job)`. `COUNT(job)` would count the number of rows of just the \"job\" column. If \"job\" were to have any NULL values in its query, those NULL values would be subtracted from the total row counts of the query. \n",
    "\n",
    "### Average\n",
    "\n",
    "`AVG()` allows users to take the average of columns. This clause can also be used with filtering. An example of finding the average balance of unemployed observations is as follows:"
   ]
  },
  {
   "cell_type": "code",
   "execution_count": null,
   "id": "e58009eb",
   "metadata": {
    "vscode": {
     "languageId": "python"
    }
   },
   "outputs": [],
   "source": [
    "%%sql \n",
    "SELECT AVG(balance) AS average_unemployed_balance\n",
    "FROM bank \n",
    "WHERE job = 'unemployed'"
   ]
  },
  {
   "attachments": {},
   "cell_type": "markdown",
   "id": "92729ed4",
   "metadata": {},
   "source": [
    "The value of our `AVG(balance)` function can be rounded to better represent a monetary balance with `ROUND()`. `ROUND()` accepts two arguments. The first is the actual value to round and the second is the number of decimal places to round to. We apply `ROUND()` to the same query below.\n",
    "\n",
    "Note that aliasing query column outputs with the AS clause should not have any spaces. By convention, this makes it easier for SQL to later reference these aliases and avoid ambiguity for the parser."
   ]
  },
  {
   "cell_type": "code",
   "execution_count": null,
   "id": "f28f6e8d",
   "metadata": {
    "vscode": {
     "languageId": "python"
    }
   },
   "outputs": [],
   "source": [
    "%%sql \n",
    "SELECT ROUND(AVG(balance),2) AS average_unemployed_balance\n",
    "FROM bank \n",
    "WHERE job = 'unemployed'"
   ]
  },
  {
   "attachments": {},
   "cell_type": "markdown",
   "id": "3fec7ea6",
   "metadata": {},
   "source": [
    "### Sum\n",
    "\n",
    "`SUM()` aggregates the sum of columns. Below, we find the `SUM()` of the balance column `WHERE` \"job\" equals 'management' `OR` `WHERE` \"job\" equals 'services'."
   ]
  },
  {
   "cell_type": "code",
   "execution_count": null,
   "id": "2d6274fe",
   "metadata": {
    "vscode": {
     "languageId": "python"
    }
   },
   "outputs": [],
   "source": [
    "%%sql \n",
    "SELECT SUM(balance) AS sum_balance_of_managers\n",
    "FROM bank \n",
    "WHERE job = 'management' OR job = 'services'"
   ]
  },
  {
   "attachments": {},
   "cell_type": "markdown",
   "id": "3acc3c0e",
   "metadata": {},
   "source": [
    "### Minimum and Maximum\n",
    "\n",
    "The `MIN()` and `MAX()` functions do exactly what you would think. Below we find the `MIN()` and `MAX()` of \"balance\"."
   ]
  },
  {
   "cell_type": "code",
   "execution_count": null,
   "id": "c5e0ce6e",
   "metadata": {
    "vscode": {
     "languageId": "python"
    }
   },
   "outputs": [],
   "source": [
    "%%sql \n",
    "SELECT MIN(balance) AS minimum_balance\n",
    "FROM bank "
   ]
  },
  {
   "cell_type": "code",
   "execution_count": null,
   "id": "3c036209",
   "metadata": {
    "vscode": {
     "languageId": "python"
    }
   },
   "outputs": [],
   "source": [
    "%%sql \n",
    "SELECT MAX(balance) AS maximum_balance\n",
    "FROM bank "
   ]
  },
  {
   "attachments": {},
   "cell_type": "markdown",
   "id": "f46b7a25",
   "metadata": {},
   "source": [
    "Accumulating everything we have learned so far, can you think of another way of finding the minimum and maximum of balance without `MIN()` and `MAX()`? <b>Hint:</b> try recreating these queries with `ORDER BY`.\n",
    "\n",
    "### Grouping\n",
    "\n",
    "Grouping is an extremely useful clause. It allows users to examine the results of aggregate functions within each unique group. Note that grouping with `GROUP BY` comes after filtering with `WHERE`. Below, we find the `COUNT()` of all rows `GROUP BY` \"housing\". Since housing only has the unique values of 'yes' and 'no', there will be only two groups."
   ]
  },
  {
   "cell_type": "code",
   "execution_count": null,
   "id": "067d38ba",
   "metadata": {
    "vscode": {
     "languageId": "python"
    }
   },
   "outputs": [],
   "source": [
    "%%sql \n",
    "SELECT COUNT(*) AS Count\n",
    "FROM bank \n",
    "GROUP BY housing"
   ]
  },
  {
   "attachments": {},
   "cell_type": "markdown",
   "id": "56e7af89",
   "metadata": {},
   "source": [
    "The problem with the above query is we can not determine what value belongs to which group. To fix this, `SELECT` both the \"housing\" variable and the `COUNT(*)` function. Let's also change 'housing' to 'Housing' in our final output just for demonstration purposes."
   ]
  },
  {
   "cell_type": "code",
   "execution_count": null,
   "id": "1029ee81",
   "metadata": {
    "vscode": {
     "languageId": "python"
    }
   },
   "outputs": [],
   "source": [
    "%%sql \n",
    "SELECT housing as Housing, COUNT(*) AS Count\n",
    "FROM bank \n",
    "GROUP BY housing"
   ]
  },
  {
   "attachments": {},
   "cell_type": "markdown",
   "id": "7630c54e",
   "metadata": {},
   "source": [
    "We can now clearly see which count belongs to which group under \"housing\". \n",
    "\n",
    "`GROUP BY` also allows for grouping with several variables. For instance, let's first `GROUP BY` \"housing\" and then `GROUP BY` \"marital\". Then, find the `COUNT()` of these groups."
   ]
  },
  {
   "cell_type": "code",
   "execution_count": null,
   "id": "a3fedcf9",
   "metadata": {
    "vscode": {
     "languageId": "python"
    }
   },
   "outputs": [],
   "source": [
    "%%sql \n",
    "SELECT housing AS Housing, marital AS Marital, COUNT(*) AS Count\n",
    "FROM bank \n",
    "GROUP BY housing, marital"
   ]
  },
  {
   "attachments": {},
   "cell_type": "markdown",
   "id": "a8a91c4e",
   "metadata": {},
   "source": [
    "There are six total groups from our query. \"housing\" has two groups and \"marital\" has three groups. Since \"housing\" has only two groups, 'yes' and 'no', let's think about these groups as two seperate blocks. The 'yes' and 'no' blocks will then each be `GROUP BY` the groups under the \"marital\" column, which are 'married', 'single', and 'divorced'. Thus, since each 'yes' and 'no' group has three groups each, there are a total of six groups.\n",
    "\n",
    "![diagram](aggregate-functions-diagram.png)\n",
    "\n",
    "<!-- #endregion -->\n",
    "\n",
    "## You try: Use JupySQL to perform the queries and answer the questions.\n",
    "\n",
    "### Question 1 (Easy):\n",
    "Find the average \"duration\" of phone calls. Name the column of your output as \"Average Phone Call Length\". Round to 0 decimal places.\n",
    "\n",
    "<!-- #region -->\n",
    "<details>\n",
    "\n",
    "<summary>Answers</summary>\n",
    "\n",
    "You can use the `ROUND` clause to specify where 0 decimal places.\n",
    "\n",
    "```\n",
    "%%sql \n",
    "SELECT ROUND(AVG(duration),0) AS average_phone_call_length\n",
    "FROM bank \n",
    "```"
   ]
  },
  {
   "cell_type": "code",
   "execution_count": null,
   "id": "72cc3e30",
   "metadata": {
    "vscode": {
     "languageId": "python"
    }
   },
   "outputs": [],
   "source": []
  },
  {
   "attachments": {},
   "cell_type": "markdown",
   "id": "ff45d100",
   "metadata": {},
   "source": [
    "</details>\n",
    "<!-- #endregion -->\n",
    "\n",
    "### Question 2 (Medium):\n",
    "Show each education group's count of whether they have housing or not. Also, make it so that this query only include married individuals.\n",
    "\n",
    "<!-- #region -->\n",
    "<details>\n",
    "\n",
    "<summary>Answers</summary>\n",
    "\n",
    "The `WHERE` clause must appear first before the `GROUP BY` clause. Then, grouping by first education and then housing gives the correct `COUNT()` of each group. Notice that 'primary' under the \"education\" column does not have a \"housing\" group of 'yes' If no records exist where an observation with an \"education\" of 'primary' has a \"housing\" value of 'yes', then it is omitted from `GROUP BY` queries. This is saying that this particular group does not exist.\n",
    "\n",
    "```\n",
    "%%sql\n",
    "SELECT education, housing, COUNT(*)\n",
    "FROM bank  \n",
    "WHERE marital = 'married'\n",
    "GROUP BY education, housing\n",
    "```"
   ]
  },
  {
   "cell_type": "code",
   "execution_count": null,
   "id": "aba27147",
   "metadata": {
    "vscode": {
     "languageId": "python"
    }
   },
   "outputs": [],
   "source": []
  },
  {
   "attachments": {},
   "cell_type": "markdown",
   "id": "78cfdfd2",
   "metadata": {},
   "source": [
    "</details>\n",
    "<!-- #endregion -->\n",
    "\n",
    "### Question 3 (Medium):\n",
    "Find the average, minimum, and maximum of balance and the count of records where there has not been a default. Group this query by \"job\" and \"married\". Round the averages by 2 decimal places.\n",
    "\n",
    "<b>Hint</b> `COUNT()` is a aggregating function in SQL (more on aggregation later!). Try experimenting with `COUNT()` in your `SELECT` clause to see if you can find the correct count.\n",
    "\n",
    "<!-- #region -->\n",
    "<details>\n",
    "<summary>Answers</summary>\n",
    "\n",
    "You may have had some problems with the `WHERE` clause. If you had \"default\" as just default, you encountered an error. Reading this error would inform that `DEFAULT` is an existing SQL clause and having it in our `WHERE` clause is not acceptable. In situations like this, you can double quotes \"\" surrounding the column name. This helps SQL distinguish clauses and literal strings of text.\n",
    "\n",
    "```\n",
    "%%sql\n",
    "SELECT job, marital, AVG(balance), COUNT(*), MIN(balance), MAX(balance)\n",
    "FROM bank \n",
    "WHERE \"default\" = 'no'\n",
    "GROUP BY job, marital\n",
    "```"
   ]
  },
  {
   "cell_type": "code",
   "execution_count": null,
   "id": "45435b6a",
   "metadata": {
    "vscode": {
     "languageId": "python"
    }
   },
   "outputs": [],
   "source": []
  },
  {
   "attachments": {},
   "cell_type": "markdown",
   "id": "3e3edbc3",
   "metadata": {},
   "source": [
    "</details>\n",
    "<!-- #endregion -->\n",
    "\n",
    "<!-- #region -->\n",
    "\n",
    "## Wrapping Up\n",
    "\n",
    "In this section, we introduced aggregate functions and the `GROUP BY` utility. To summarize:\n",
    "\n",
    "- `COUNT()` : Returns the number of rows in our query. This function can count the number of rows of a specific column or of the entire query by passing \"*\" into the function.\n",
    "\n",
    "- `AVG()` : Returns the average of a numeric column in our query. `ROUND()` is a useful function often applied with this aggregate function.\n",
    "\n",
    "- `MIN()` and `MAX()` : Returns the minimum and maximum of a numeric column in our query.\n",
    "\n",
    "- `GROUP BY ` : A powerful clause that groups the data based on a given column. This clause must be used with aggregation functions.\n",
    "\n",
    "We have also learned other details from this section, such as how `WHERE` must appear before any `GROUP BY` clause and how to tell SQL to distinguish a literal string when that string is a clause. \n",
    "\n",
    "Next up, we will use everything we have thus far learned in joining tables.\n",
    "\n",
    "<!-- #endregion -->"
   ]
  }
 ],
 "metadata": {
  "kernelspec": {
   "display_name": "jupyblog",
   "language": "python",
   "name": "python3"
  }
 },
 "nbformat": 4,
 "nbformat_minor": 5
}
